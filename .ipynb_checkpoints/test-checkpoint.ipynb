{
 "cells": [
  {
   "cell_type": "markdown",
   "id": "c5f40444-5372-44c5-83f7-60ab8b19516f",
   "metadata": {},
   "source": [
    "## To-do\n",
    "- Now that we have import and metadata extraction working, we need to start preprocessing (mostly interpolating timepoints for z-slices if recorded on frame-by-frame basis by the scope) and some scheme for identification of a nuclear and a spot channel that is compatible with switching between the two channels (e.g. using mCherry to segment nuclei during cycles but not at the division).\n",
    "- Makes sense to use dask for visualization (e.g. choosing a threshold).\n",
    "- Write DoG/segmentation fuction so that it can take either 2D or 3D data - give the option to segment off of a projection, or off of raw 3D data.\n",
    "    - Write in options for DoG and LoG segmentation algorithm with standard nuclear sizes vs box DoG/LoG vs watershed.\n",
    "        - Actually, box filtering might not be very helpful if we're cutting off part of the nucleus is z - the BP filtering will project it into a distorted gaussian if we're not right in the middle of the nucleus, and then misplace the centroid and botch the diameter estimation from $\\sigma$. For 3D segmentation, it might be better to use a single filter to find markers then perform a watershed.\n",
    "- 3D DoG notes:\n",
    "    - $\\sigma_{x, y} = 8$ works perfectly to segment out nuclei during nc 13.\n",
    "    - $\\sigma_z$ is BP-filtered (1, 9) where 9 is the Z-sigma corresponding to the whole nucleus. This allow the BP to be very permissive in Z and filter out the nuclei in x and y.\n",
    "- Proposed procedure for local peak finding:\n",
    "    - Run box DoG as below with permissive BP in z and LoG approximation in (x, y), only varying $\\sigma$ in the latter.\n",
    "    - Peak-finding on standard image (e.g. $\\sigma_{x, y} = 8$), then use coordinates as initial guess for next sigma values.\n",
    "- Simple BP filter + peak finding does a good job finding markers. Give option then to watershed segment directly off of the image, off of distance-transformed otsu thresholded image, and off of edge-finding.\n",
    "    - For data with the mid-nuclear plane on the boundary of our z-stack, might be useful to give the option to segment in 2D, then threshold each nuclear column locally to identify the nucleus."
   ]
  },
  {
   "cell_type": "code",
   "execution_count": 1,
   "id": "1f40c2db-1bb8-45af-9612-0612d1806a8a",
   "metadata": {},
   "outputs": [
    {
     "name": "stderr",
     "output_type": "stream",
     "text": [
      "/home/yovan/mambaforge/envs/transcription_pipeline/lib/python3.10/site-packages/pims/bioformats.py:410: UserWarning: Due to an issue with JPype 0.6.0, reading is slower. Please consider upgrading JPype to 0.6.1 or later.\n",
      "  warn('Due to an issue with JPype 0.6.0, reading is slower. '\n"
     ]
    }
   ],
   "source": [
    "import preprocessing.import_data as im\n",
    "\n",
    "trim_series = True\n",
    "lif_test_name = \"test_data/2021-06-14/p2pdpwt\"\n",
    "lsm_test_name = \"test_data/2023-04-07/p2pdp_zld-sites-ctrl_fwd_1\"\n",
    "\n",
    "(\n",
    "    channels_full_dataset,\n",
    "    original_global_metadata,\n",
    "    original_frame_metadata,\n",
    "    export_global_metadata,\n",
    "    export_frame_metadata,\n",
    ") = im.import_save_dataset(lsm_test_name, trim_series)"
   ]
  },
  {
   "cell_type": "code",
   "execution_count": 4,
   "id": "982b8db0-f329-4512-9627-9ca02d0f4148",
   "metadata": {},
   "outputs": [],
   "source": [
    "import napari\n",
    "import matplotlib.pyplot as plt\n",
    "import numpy as np"
   ]
  },
  {
   "cell_type": "code",
   "execution_count": 5,
   "id": "9e0aeae0-8b3f-4239-a7ad-706405f48b2a",
   "metadata": {},
   "outputs": [],
   "source": [
    "nuclear_channel = channels_full_dataset[1]"
   ]
  },
  {
   "cell_type": "code",
   "execution_count": 6,
   "id": "6433d4ed-f39b-422b-be0d-16120bce2c1b",
   "metadata": {},
   "outputs": [],
   "source": [
    "import dask.array as da\n",
    "\n",
    "image = nuclear_channel[40:50]\n",
    "nuclear_test = da.from_array(image, chunks=image.shape)"
   ]
  },
  {
   "cell_type": "code",
   "execution_count": 7,
   "id": "bfe56f42-471f-4b91-96d3-b1e3f10d3ae7",
   "metadata": {},
   "outputs": [],
   "source": [
    "test_stack = nuclear_test[4]"
   ]
  },
  {
   "cell_type": "code",
   "execution_count": 8,
   "id": "29efae85-f790-420f-9952-9cc6501a4d08",
   "metadata": {},
   "outputs": [],
   "source": [
    "viewer = napari.view_image(test_stack, name=\"Nuclear Channel\")\n",
    "napari.run()"
   ]
  },
  {
   "cell_type": "code",
   "execution_count": 9,
   "id": "4bc91d34-82d7-42c9-9b7b-823f7c65aaf7",
   "metadata": {},
   "outputs": [],
   "source": [
    "import numpy as np\n",
    "from skimage import morphology as morph\n",
    "from skimage.filters import difference_of_gaussians\n",
    "from skimage.feature import peak_local_max\n",
    "from scipy import ndimage as ndi\n",
    "\n",
    "\n",
    "def _generate_cylinder(radius, height):\n",
    "    \"\"\"\n",
    "    Constructs a cylindrical footprint for maximum dilation during peak finding by\n",
    "    :func:`~skimage.feature.peak_local_max`.\n",
    "\n",
    "    :param int radius: Radius of cylindrical footprint.\n",
    "    :param int heigh: Height of cylindrical footprint.\n",
    "    :return: Cylindrical footprint.\n",
    "    :rtype: bool\n",
    "    \"\"\"\n",
    "    disk = morph.disk(radius)\n",
    "    cylinder = np.reshape(\n",
    "        np.repeat(disk, height), (disk.shape[0], disk.shape[1], height)\n",
    "    )\n",
    "    return cylinder\n",
    "\n",
    "\n",
    "def mark_nuclei(\n",
    "    image, low_sigma, high_sigma, footprint_radius, footprint_height, min_distance\n",
    "):\n",
    "    \"\"\"\n",
    "    Uses a difference of gaussians bandpass filter to enhance nuclei, then a local\n",
    "    maximum to find markers for each nucleus. Being permissive with the filtering at\n",
    "    this stage is recommended, since further filtering of the nuclear localization can\n",
    "    be done post-segmentation using the size and morphology of the segmented objects.\n",
    "\n",
    "    :param image: 2D (projected) or 3D image of a nuclear marker.\n",
    "    :type image: Numpy array.\n",
    "    :param float low_sigma: Sigma to use as the low-pass filter (mainly filters out\n",
    "        noise).\n",
    "    :param float high_sigma: Sigma to use as the high-pass filter (removes structured\n",
    "        background and dims down areas where nuclei are close together that might\n",
    "        start to coalesce under other morphological operations).\n",
    "    :param int footprint_radius: Radius of cylindrical footprint used by\n",
    "        :func:`~skimage.feature.peak_local_max` during maximum dilation.\n",
    "    :param int footprint_height: Height of cylindrical footprint used by\n",
    "        :func:`~skimage.feature.peak_local_max` during maximum dilation.\n",
    "    :param int min_distance: minimum distance in pixels between nearby peaks.\n",
    "    :return: Tuple(marker_coordinates, markers) where marker_coordinates is an array\n",
    "        of the nuclear locations in the image indexed as per the image (this can be\n",
    "        used for visualization) and markers is a boolean array of the same shape as\n",
    "        image, with the marker positions given by a True value.\n",
    "    :rtype: Tuple of numpy arrays.\n",
    "    \"\"\"\n",
    "    # Band-pass filter image using difference of gaussians - this seems to work\n",
    "    # better than trying to do blob detection by varying sigma on an approximation of\n",
    "    # a Laplacian of Gaussian filter.\n",
    "    dog = difference_of_gaussians(image, low_sigma=low_sigma, high_sigma=high_sigma)\n",
    "\n",
    "    # Find local minima of the bandpass-filtered image to localize nuclei\n",
    "    cylindrical_footprint = _generate_cylinder(footprint_radius, footprint_height)\n",
    "    marker_coordinates = peak_local_max(\n",
    "        dog,\n",
    "        min_distance,\n",
    "        exclude_border=True,\n",
    "        footprint=cylindrical_footprint,\n",
    "    )\n",
    "\n",
    "    # Generate marker mask for segmentation downstream\n",
    "    mask = np.zeros(dog.shape, dtype=bool)\n",
    "    mask[tuple(marker_coordinates.T)] = True\n",
    "    markers, _ = ndi.label(mask)\n",
    "\n",
    "    return (marker_coordinates, markers)"
   ]
  },
  {
   "cell_type": "code",
   "execution_count": 10,
   "id": "19faaf27-997d-4643-a420-c6e58b040316",
   "metadata": {},
   "outputs": [],
   "source": [
    "marker_coords, marker_bool = mark_nuclei(test_stack, [1,6,6], [15, 10, 10], 2, 21, 4)"
   ]
  },
  {
   "cell_type": "code",
   "execution_count": 11,
   "id": "a1c97b24-c6e8-43b5-af20-c8fcd8d0f186",
   "metadata": {},
   "outputs": [
    {
     "data": {
      "text/plain": [
       "<Points layer 'marker_coords' at 0x7fb1f05287f0>"
      ]
     },
     "execution_count": 11,
     "metadata": {},
     "output_type": "execute_result"
    }
   ],
   "source": [
    "viewer.add_points(marker_coords)"
   ]
  },
  {
   "cell_type": "code",
   "execution_count": null,
   "id": "b20d2248-cab9-46e9-9ae9-71f7b4e0f27c",
   "metadata": {},
   "outputs": [],
   "source": []
  }
 ],
 "metadata": {
  "kernelspec": {
   "display_name": "Python 3 (ipykernel)",
   "language": "python",
   "name": "python3"
  },
  "language_info": {
   "codemirror_mode": {
    "name": "ipython",
    "version": 3
   },
   "file_extension": ".py",
   "mimetype": "text/x-python",
   "name": "python",
   "nbconvert_exporter": "python",
   "pygments_lexer": "ipython3",
   "version": "3.10.11"
  }
 },
 "nbformat": 4,
 "nbformat_minor": 5
}
