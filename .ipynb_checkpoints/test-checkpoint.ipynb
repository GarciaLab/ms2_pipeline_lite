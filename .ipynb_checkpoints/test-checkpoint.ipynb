{
 "cells": [
  {
   "cell_type": "code",
   "execution_count": 3,
   "id": "1f40c2db-1bb8-45af-9612-0612d1806a8a",
   "metadata": {},
   "outputs": [],
   "source": [
    "import preprocessing.import_data as im"
   ]
  },
  {
   "cell_type": "code",
   "execution_count": 4,
   "id": "82e4f31c-d0e7-4391-a8ce-9394c6099bca",
   "metadata": {},
   "outputs": [],
   "source": [
    "trim_series = True\n",
    "lif_test_name = \"test_data/2021-06-14/p2pdpwt\"\n",
    "lsm_test_name = \"test_data/2023-04-07/p2pdp_zld-sites-ctrl_fwd_1\""
   ]
  },
  {
   "cell_type": "code",
   "execution_count": 5,
   "id": "bdb09b49-49bd-4cc1-bb6f-b318137076ad",
   "metadata": {},
   "outputs": [],
   "source": [
    "name_folder = lif_test_name"
   ]
  },
  {
   "cell_type": "code",
   "execution_count": 6,
   "id": "530d43b9-012c-496a-bdc2-a45002607f46",
   "metadata": {},
   "outputs": [
    {
     "name": "stderr",
     "output_type": "stream",
     "text": [
      "/home/ybadal/mambaforge/envs/transcription_pipeline/lib/python3.10/site-packages/pims/bioformats.py:410: UserWarning: Due to an issue with JPype 0.6.0, reading is slower. Please consider upgrading JPype to 0.6.1 or later.\n",
      "  warn('Due to an issue with JPype 0.6.0, reading is slower. '\n",
      "/home/ybadal/mambaforge/envs/transcription_pipeline/lib/python3.10/site-packages/scipy/io/matlab/_mio5.py:493: VisibleDeprecationWarning: Creating an ndarray from ragged nested sequences (which is a list-or-tuple of lists-or-tuples-or ndarrays with different lengths or shapes) is deprecated. If you meant to do this, you must specify 'dtype=object' when creating the ndarray.\n",
      "  narr = np.asanyarray(source)\n"
     ]
    }
   ],
   "source": [
    "export_test = im.import_save_dataset(name_folder, trim_series)"
   ]
  },
  {
   "cell_type": "markdown",
   "id": "c5f40444-5372-44c5-83f7-60ab8b19516f",
   "metadata": {},
   "source": [
    "## To-do\n",
    "- Now that we have import and metadata extraction working, we need to start preprocessing (mostly interpolating timepoints for z-slices if recorded on frame-by-frame basis by the scope) and some scheme for identification of a nuclear and a spot channel that is compatible with switching between the two channels (e.g. using mCherry to segment nuclei during cycles but not at the division)."
   ]
  },
  {
   "cell_type": "code",
   "execution_count": null,
   "id": "43a0bc30-26bd-437e-91d2-6070675bab30",
   "metadata": {},
   "outputs": [],
   "source": []
  }
 ],
 "metadata": {
  "kernelspec": {
   "display_name": "Python 3 (ipykernel)",
   "language": "python",
   "name": "python3"
  },
  "language_info": {
   "codemirror_mode": {
    "name": "ipython",
    "version": 3
   },
   "file_extension": ".py",
   "mimetype": "text/x-python",
   "name": "python",
   "nbconvert_exporter": "python",
   "pygments_lexer": "ipython3",
   "version": "3.10.11"
  }
 },
 "nbformat": 4,
 "nbformat_minor": 5
}
