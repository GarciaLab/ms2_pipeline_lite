{
 "cells": [
  {
   "cell_type": "markdown",
   "id": "c5f40444-5372-44c5-83f7-60ab8b19516f",
   "metadata": {},
   "source": [
    "## To-do\n",
    "- Now that we have import and metadata extraction working, we need to start preprocessing (mostly interpolating timepoints for z-slices if recorded on frame-by-frame basis by the scope) and some scheme for identification of a nuclear and a spot channel that is compatible with switching between the two channels (e.g. using mCherry to segment nuclei during cycles but not at the division).\n",
    "- Makes sense to use dask for visualization (e.g. choosing a threshold).\n",
    "- Write DoG/segmentation fuction so that it can take either 2D or 3D data - give the option to segment off of a projection, or off of raw 3D data.\n",
    "    - Write in options for DoG and LoG segmentation algorithm with standard nuclear sizes vs box DoG/LoG vs watershed.\n",
    "        - Actually, box filtering might not be very helpful if we're cutting off part of the nucleus is z - the BP filtering will project it into a distorted gaussian if we're not right in the middle of the nucleus, and then misplace the centroid and botch the diameter estimation from $\\sigma$. For 3D segmentation, it might be better to use a single filter to find markers then perform a watershed.\n",
    "- 3D DoG notes:\n",
    "    - $\\sigma_{x, y} = 8$ works perfectly to segment out nuclei during nc 13.\n",
    "    - $\\sigma_z$ is BP-filtered (1, 9) where 9 is the Z-sigma corresponding to the whole nucleus. This allow the BP to be very permissive in Z and filter out the nuclei in x and y.\n",
    "- Proposed procedure for local peak finding:\n",
    "    - Run box DoG as below with permissive BP in z and LoG approximation in (x, y), only varying $\\sigma$ in the latter.\n",
    "    - Peak-finding on standard image (e.g. $\\sigma_{x, y} = 8$), then use coordinates as initial guess for next sigma values.\n",
    "- Simple BP filter + peak finding does a good job finding markers. Give option then to watershed segment directly off of the image, off of distance-transformed otsu thresholded image, and off of edge-finding.\n",
    "    - For data with the mid-nuclear plane on the boundary of our z-stack, might be useful to give the option to segment in 2D, then threshold each nuclear column locally to identify the nucleus."
   ]
  },
  {
   "cell_type": "code",
   "execution_count": 1,
   "id": "1f40c2db-1bb8-45af-9612-0612d1806a8a",
   "metadata": {},
   "outputs": [
    {
     "name": "stderr",
     "output_type": "stream",
     "text": [
      "/home/ybadal/mambaforge/envs/transcription_pipeline/lib/python3.10/site-packages/pims/bioformats.py:410: UserWarning: Due to an issue with JPype 0.6.0, reading is slower. Please consider upgrading JPype to 0.6.1 or later.\n",
      "  warn('Due to an issue with JPype 0.6.0, reading is slower. '\n"
     ]
    }
   ],
   "source": [
    "import preprocessing.import_data as im\n",
    "\n",
    "trim_series = True\n",
    "lif_test_name = \"test_data/2021-06-14/p2pdpwt\"\n",
    "lsm_test_name = \"test_data/2023-04-07/p2pdp_zld-sites-ctrl_fwd_1\"\n",
    "\n",
    "(\n",
    "    channels_full_dataset,\n",
    "    original_global_metadata,\n",
    "    original_frame_metadata,\n",
    "    export_global_metadata,\n",
    "    export_frame_metadata,\n",
    ") = im.import_save_dataset(lsm_test_name, trim_series)"
   ]
  },
  {
   "cell_type": "code",
   "execution_count": 2,
   "id": "982b8db0-f329-4512-9627-9ca02d0f4148",
   "metadata": {},
   "outputs": [],
   "source": [
    "import napari\n",
    "import matplotlib.pyplot as plt\n",
    "import numpy as np"
   ]
  },
  {
   "cell_type": "code",
   "execution_count": 3,
   "id": "9e0aeae0-8b3f-4239-a7ad-706405f48b2a",
   "metadata": {},
   "outputs": [],
   "source": [
    "nuclear_channel = channels_full_dataset[1]"
   ]
  },
  {
   "cell_type": "code",
   "execution_count": 14,
   "id": "6433d4ed-f39b-422b-be0d-16120bce2c1b",
   "metadata": {},
   "outputs": [],
   "source": [
    "import dask.array as da\n",
    "\n",
    "image = nuclear_channel[40:50]\n",
    "# nuclear_test = da.from_array(image, chunks=image.shape)"
   ]
  },
  {
   "cell_type": "code",
   "execution_count": 15,
   "id": "bfe56f42-471f-4b91-96d3-b1e3f10d3ae7",
   "metadata": {},
   "outputs": [],
   "source": [
    "test_stack = image[4]"
   ]
  },
  {
   "cell_type": "code",
   "execution_count": 16,
   "id": "29efae85-f790-420f-9952-9cc6501a4d08",
   "metadata": {},
   "outputs": [],
   "source": [
    "viewer = napari.view_image(test_stack, name=\"Nuclear Channel\")\n",
    "napari.run()"
   ]
  },
  {
   "cell_type": "code",
   "execution_count": 60,
   "id": "4bc91d34-82d7-42c9-9b7b-823f7c65aaf7",
   "metadata": {},
   "outputs": [],
   "source": [
    "import numpy as np\n",
    "from skimage import morphology as morph\n",
    "from skimage.filters import difference_of_gaussians\n",
    "from skimage.feature import peak_local_max\n",
    "from scipy import ndimage as ndi\n",
    "\n",
    "\n",
    "def _generate_cylinder(radius, height):\n",
    "    \"\"\"\n",
    "    Constructs a cylindrical footprint for maximum dilation during peak finding by\n",
    "    :func:`~skimage.feature.peak_local_max`.\n",
    "\n",
    "    :param int radius: Radius of cylindrical footprint.\n",
    "    :param int heigh: Height of cylindrical footprint.\n",
    "    :return: Cylindrical footprint.\n",
    "    :rtype: bool\n",
    "    \"\"\"\n",
    "    disk = morph.disk(radius)\n",
    "    cylinder = np.reshape(\n",
    "        np.repeat(disk, height), (disk.shape[0], disk.shape[1], height)\n",
    "    )\n",
    "    return cylinder\n",
    "\n",
    "\n",
    "def mark_nuclei(\n",
    "    stack, low_sigma, high_sigma, footprint_radius, footprint_height, min_distance\n",
    "):\n",
    "    \"\"\"\n",
    "    Uses a difference of gaussians bandpass filter to enhance nuclei, then a local\n",
    "    maximum to find markers for each nucleus. Being permissive with the filtering at\n",
    "    this stage is recommended, since further filtering of the nuclear localization can\n",
    "    be done post-segmentation using the size and morphology of the segmented objects.\n",
    "\n",
    "    :param image: 2D (projected) or 3D image of a nuclear marker.\n",
    "    :type image: Numpy array.\n",
    "    :param float low_sigma: Sigma to use as the low-pass filter (mainly filters out\n",
    "        noise).\n",
    "    :param float high_sigma: Sigma to use as the high-pass filter (removes structured\n",
    "        background and dims down areas where nuclei are close together that might\n",
    "        start to coalesce under other morphological operations).\n",
    "    :param int footprint_radius: Radius of cylindrical footprint used by\n",
    "        :func:`~skimage.feature.peak_local_max` during maximum dilation.\n",
    "    :param int footprint_height: Height of cylindrical footprint used by\n",
    "        :func:`~skimage.feature.peak_local_max` during maximum dilation.\n",
    "    :param int min_distance: minimum distance in pixels between nearby peaks.\n",
    "    :return: Tuple(dog, marker_coordinates, markers) where dog is the\n",
    "        bandpass-filtered image, marker_coordinates is an array of the nuclear\n",
    "        locations in the image indexed as per the image (this can be used for\n",
    "        visualization) and markers is a boolean array of the same shape as image, with\n",
    "        the marker positions given by a True value.\n",
    "    :rtype: Tuple of numpy arrays.\n",
    "    \"\"\"\n",
    "    # Band-pass filter image using difference of gaussians - this seems to work\n",
    "    # better than trying to do blob detection by varying sigma on an approximation of\n",
    "    # a Laplacian of Gaussian filter.\n",
    "    dog = difference_of_gaussians(stack, low_sigma=low_sigma, high_sigma=high_sigma)\n",
    "\n",
    "    # Find local minima of the bandpass-filtered image to localize nuclei\n",
    "    cylindrical_footprint = _generate_cylinder(footprint_radius, footprint_height)\n",
    "    marker_coordinates = peak_local_max(\n",
    "        dog,\n",
    "        min_distance,\n",
    "        exclude_border=True,\n",
    "        footprint=cylindrical_footprint,\n",
    "    )\n",
    "\n",
    "    # Generate marker mask for segmentation downstream\n",
    "    mask = np.zeros(dog.shape, dtype=bool)\n",
    "    mask[tuple(marker_coordinates.T)] = True\n",
    "    markers, _ = ndi.label(mask)\n",
    "\n",
    "    return (dog, marker_coordinates, markers)"
   ]
  },
  {
   "cell_type": "code",
   "execution_count": 33,
   "id": "19faaf27-997d-4643-a420-c6e58b040316",
   "metadata": {},
   "outputs": [],
   "source": [
    "dog, marker_coords, marker_bool = mark_nuclei(\n",
    "    test_stack, [1, 6, 6], [15, 10, 10], 2, 21, 4\n",
    ")"
   ]
  },
  {
   "cell_type": "code",
   "execution_count": 19,
   "id": "a1c97b24-c6e8-43b5-af20-c8fcd8d0f186",
   "metadata": {},
   "outputs": [
    {
     "data": {
      "text/plain": [
       "<Points layer 'marker_coords' at 0x7ff7d8270f10>"
      ]
     },
     "execution_count": 19,
     "metadata": {},
     "output_type": "execute_result"
    }
   ],
   "source": [
    "viewer.add_points(marker_coords)"
   ]
  },
  {
   "cell_type": "code",
   "execution_count": 39,
   "id": "0eee1081-9729-44b8-8132-fa6f25fc3126",
   "metadata": {},
   "outputs": [],
   "source": [
    "from skimage.morphology import ball\n",
    "from skimage.filters import rank\n",
    "\n",
    "normalized_image = test_stack / np.max(np.abs(test_stack))\n",
    "denoised_stack = rank.median(normalized_image, ball(2))"
   ]
  },
  {
   "cell_type": "code",
   "execution_count": 41,
   "id": "52548162-8707-4f22-b0e8-7d87eb77ec40",
   "metadata": {},
   "outputs": [
    {
     "data": {
      "text/plain": [
       "<Image layer 'denoised_stack' at 0x7ff81b3f6140>"
      ]
     },
     "execution_count": 41,
     "metadata": {},
     "output_type": "execute_result"
    }
   ],
   "source": [
    "viewer.add_image(denoised_stack)"
   ]
  },
  {
   "cell_type": "code",
   "execution_count": 20,
   "id": "b20d2248-cab9-46e9-9ae9-71f7b4e0f27c",
   "metadata": {},
   "outputs": [],
   "source": [
    "from skimage.segmentation import watershed"
   ]
  },
  {
   "cell_type": "code",
   "execution_count": 52,
   "id": "b9a7dcec-5f95-4c32-bf98-6ad65ee3945e",
   "metadata": {},
   "outputs": [],
   "source": [
    "labels_raw = watershed(-denoised_stack, markers=marker_bool, mask=binarized_stack)"
   ]
  },
  {
   "cell_type": "code",
   "execution_count": 53,
   "id": "4cd9efd8-b336-43bb-b3f4-5b1a8ac8aa28",
   "metadata": {},
   "outputs": [
    {
     "data": {
      "text/plain": [
       "<Image layer 'raw_watershed' at 0x7ff819e83910>"
      ]
     },
     "execution_count": 53,
     "metadata": {},
     "output_type": "execute_result"
    }
   ],
   "source": [
    "viewer.add_image(labels_raw, name=\"raw_watershed\")"
   ]
  },
  {
   "cell_type": "code",
   "execution_count": 48,
   "id": "21f54f94-0082-45a2-9065-f1c8431db8b9",
   "metadata": {},
   "outputs": [],
   "source": [
    "from skimage.filters import threshold_otsu\n",
    "from scipy import ndimage as ndi\n",
    "\n",
    "threshold = threshold_otsu(denoised_stack)\n",
    "binarized_stack = denoised_stack > threshold\n",
    "distance = ndi.distance_transform_edt(binarized_stack)\n",
    "labels_distance = watershed(-distance, markers=marker_bool, mask=binarized_stack)"
   ]
  },
  {
   "cell_type": "code",
   "execution_count": 49,
   "id": "1285eff4-8484-45d7-b703-e67eb56b49cd",
   "metadata": {},
   "outputs": [
    {
     "data": {
      "text/plain": [
       "<Image layer 'distance_watershed' at 0x7ff81c29beb0>"
      ]
     },
     "execution_count": 49,
     "metadata": {},
     "output_type": "execute_result"
    }
   ],
   "source": [
    "viewer.add_image(labels_distance, name=\"distance_watershed\")"
   ]
  },
  {
   "cell_type": "code",
   "execution_count": 50,
   "id": "b9240ef0-ca34-44ac-8f15-142a46aa1e71",
   "metadata": {},
   "outputs": [],
   "source": [
    "labels_dog = watershed(-dog, markers=marker_bool, mask=binarized_stack)"
   ]
  },
  {
   "cell_type": "code",
   "execution_count": 51,
   "id": "8eaa4ba7-08ff-4bd8-aa8a-de0501c59341",
   "metadata": {},
   "outputs": [
    {
     "data": {
      "text/plain": [
       "<Image layer 'dog_watershed' at 0x7ff819ef1e10>"
      ]
     },
     "execution_count": 51,
     "metadata": {},
     "output_type": "execute_result"
    }
   ],
   "source": [
    "viewer.add_image(labels_dog, name=\"dog_watershed\")"
   ]
  },
  {
   "cell_type": "code",
   "execution_count": 57,
   "id": "4c93c33e-596b-45ca-85c7-5206aee1b102",
   "metadata": {},
   "outputs": [],
   "source": [
    "from skimage.filters import sobel\n",
    "\n",
    "elevation_map = sobel(denoised_stack)\n",
    "labels_sobel = watershed(elevation_map, markers=marker_bool, mask=binarized_stack)"
   ]
  },
  {
   "cell_type": "code",
   "execution_count": 59,
   "id": "0748d8f5-7724-4fee-9723-c52cc3f8320b",
   "metadata": {},
   "outputs": [
    {
     "data": {
      "text/plain": [
       "<Image layer 'sobel_watershed' at 0x7ff81c264880>"
      ]
     },
     "execution_count": 59,
     "metadata": {},
     "output_type": "execute_result"
    }
   ],
   "source": [
    "viewer.add_image(labels_sobel, name=\"sobel_watershed\")"
   ]
  },
  {
   "cell_type": "code",
   "execution_count": null,
   "id": "ec0b8cb0-b419-417a-a3b0-173cdfaa7f8a",
   "metadata": {},
   "outputs": [],
   "source": [
    "from skimage.filters import rank\n",
    "from skimage.filters import gaussian\n",
    "from skimage.filters import threshold_otsu\n",
    "from skimage.filters import threshold_li\n",
    "from skimage.filters import sobel\n",
    "from skimage.segmentation import watershed\n",
    "from skimage.morphology import binary_closing\n",
    "from scipy import ndimage as ndi\n",
    "\n",
    "\n",
    "def segment_nuclei(\n",
    "    stack,\n",
    "    markers,\n",
    "    denoising,\n",
    "    thresholding,\n",
    "    closing_footprint,\n",
    "    watershed_method,\n",
    "    **kwargs\n",
    "):\n",
    "    \"\"\"\n",
    "    Segments nuclei in a z-stack using watershed method.\n",
    "\n",
    "    WRITE PARAMETER DOCUMENTATION HERE.\n",
    "    \"\"\"\n",
    "    \n",
    "    # Normalize image\n",
    "    stack =/ np.max(np.abs(stack))\n",
    "\n",
    "    # Denoising step\n",
    "    if denoising == \"gaussian\":\n",
    "        try:\n",
    "            denoising_sigma = kwargs[\"denoising_sigma\"]\n",
    "        except KeyError:\n",
    "            raise Exception(\"Gaussian denoising requires a denoising_sigma parameter.\")\n",
    "        denoised_stack = gaussian(stack, sigma=denoising_sigma)\n",
    "\n",
    "    elif denoising == \"median\":\n",
    "        try:\n",
    "            median_footprint = kwargs[\"median_footprint\"]\n",
    "        except KeyError:\n",
    "            raise Exception(\"Median denoising requires a median_footprint parameter.\")\n",
    "        denoised_stack = rank.median(stack, footprint=median_footprint)\n",
    "\n",
    "    else:\n",
    "        raise Exception(\"Unrecognized denoising parameter.\")\n",
    "\n",
    "    # Thresholding step\n",
    "    if thresholding == \"global_otsu\":\n",
    "        threshold = threshold_otsu(denoised_stack)\n",
    "\n",
    "    elif thresholding == \"local_otsu\":\n",
    "        try:\n",
    "            otsu_footprint = kwargs[\"otsu_footprint\"]\n",
    "        except KeyError:\n",
    "            raise Exception(\n",
    "                \"Local Otsu thresholding requires an otsu_footprint parameter.\"\n",
    "            )\n",
    "        threshold = rank.otsu(denoised_stack, otsu_footprint)\n",
    "\n",
    "    elif thresholding == \"li\":\n",
    "        threshold_guess = threshold_otsu(denoised_stack)\n",
    "        threshold = threshold_li(denoised_stack, initial_guess=threshold_guess)\n",
    "\n",
    "    else:\n",
    "        raise Exception(\"Unrecognized thresholding parameter.\")\n",
    "\n",
    "    # Binarize stack by thresholding\n",
    "    binarized_stack = denoised_stack >= threshold\n",
    "\n",
    "    # Clean up binarized image with a closing operation\n",
    "    binarized_stack = binary_closing(binarized_stack, closing_footprint)\n",
    "\n",
    "    # Segmentation step\n",
    "    if watershed_method == \"raw\":\n",
    "        watershed_landscape = -denoised_stack\n",
    "\n",
    "    elif watershed_method == \"distance_transform\":\n",
    "        watershed_landscape = -(ndi.distance_transform_edt(binarized_stack))\n",
    "\n",
    "    elif watershed_method == \"sobel\":\n",
    "        watershed_landscape = sobel(denoised_stack)\n",
    "\n",
    "    else:\n",
    "        raise Exception(\"Unrecognized watershed_method parameter\")\n",
    "\n",
    "    labels = watershed(watershed_landscape, markers=markers, mask=binarized_stack)\n",
    "\n",
    "    return labels"
   ]
  }
 ],
 "metadata": {
  "kernelspec": {
   "display_name": "Python 3 (ipykernel)",
   "language": "python",
   "name": "python3"
  },
  "language_info": {
   "codemirror_mode": {
    "name": "ipython",
    "version": 3
   },
   "file_extension": ".py",
   "mimetype": "text/x-python",
   "name": "python",
   "nbconvert_exporter": "python",
   "pygments_lexer": "ipython3",
   "version": "3.10.11"
  }
 },
 "nbformat": 4,
 "nbformat_minor": 5
}
