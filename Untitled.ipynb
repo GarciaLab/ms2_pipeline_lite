{
 "cells": [
  {
   "cell_type": "code",
   "execution_count": 62,
   "id": "3dc8d794-55ac-461b-8473-d62cd4ec618c",
   "metadata": {},
   "outputs": [],
   "source": [
    "from aicsimageio import AICSImage\n",
    "from aicsimageio import metadata"
   ]
  },
  {
   "cell_type": "code",
   "execution_count": 64,
   "id": "122b476b-790e-48f6-8d16-ebbf6763809f",
   "metadata": {},
   "outputs": [],
   "source": [
    "meta = metadata.utils.bioformats_ome('test_data/2023-04-07/p2pdp_zld-sites-ctrl_fwd_1/p2pdp_zld-sites-ctrl_fwd_1_A.lsm',\n",
    "               original_meta=True)"
   ]
  },
  {
   "cell_type": "code",
   "execution_count": 43,
   "id": "985751a1-bad4-4a24-b962-700224984184",
   "metadata": {},
   "outputs": [],
   "source": [
    "meta = img.metadata"
   ]
  },
  {
   "cell_type": "code",
   "execution_count": 9,
   "id": "e7ca7424-e63d-4244-9974-95ae5c02934b",
   "metadata": {},
   "outputs": [
    {
     "data": {
      "text/plain": [
       "['ChS1', 'ChS2']"
      ]
     },
     "execution_count": 9,
     "metadata": {},
     "output_type": "execute_result"
    }
   ],
   "source": [
    "img.channel_names"
   ]
  },
  {
   "cell_type": "code",
   "execution_count": 5,
   "id": "5c2d84a7-932c-4f69-ad29-bfeb3141a3b4",
   "metadata": {},
   "outputs": [
    {
     "data": {
      "text/plain": [
       "0.5"
      ]
     },
     "execution_count": 5,
     "metadata": {},
     "output_type": "execute_result"
    }
   ],
   "source": [
    "img.physical_pixel_sizes.Z"
   ]
  },
  {
   "cell_type": "code",
   "execution_count": 18,
   "id": "467208d0-d47d-4bce-a730-dd7c26364026",
   "metadata": {},
   "outputs": [],
   "source": [
    "from display_xml import XML"
   ]
  },
  {
   "cell_type": "code",
   "execution_count": 69,
   "id": "0f57242d-1a8c-44db-9f15-d1687dabe102",
   "metadata": {},
   "outputs": [
    {
     "name": "stderr",
     "output_type": "stream",
     "text": [
      "/home/ybadal/mambaforge/envs/testing_pipeline/lib/python3.11/site-packages/ome_types/_convenience.py:106: FutureWarning: The default XML parser will be changing from 'xmlschema' to 'lxml' in version 0.4.0.  To silence this warning, please provide the `parser` argument, specifying either 'lxml' (to opt into the new behavior), or'xmlschema' (to retain the old behavior).\n",
      "  d = to_dict(os.fspath(xml), parser=parser, validate=validate)\n"
     ]
    }
   ],
   "source": [
    "img.save('test.tiff')"
   ]
  },
  {
   "cell_type": "code",
   "execution_count": null,
   "id": "c00ef261-af7c-4307-b7e0-59a257ecca10",
   "metadata": {},
   "outputs": [],
   "source": []
  }
 ],
 "metadata": {
  "kernelspec": {
   "display_name": "Python 3 (ipykernel)",
   "language": "python",
   "name": "python3"
  },
  "language_info": {
   "codemirror_mode": {
    "name": "ipython",
    "version": 3
   },
   "file_extension": ".py",
   "mimetype": "text/x-python",
   "name": "python",
   "nbconvert_exporter": "python",
   "pygments_lexer": "ipython3",
   "version": "3.11.3"
  }
 },
 "nbformat": 4,
 "nbformat_minor": 5
}
