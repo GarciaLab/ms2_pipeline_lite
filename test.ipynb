{
 "cells": [
  {
   "cell_type": "markdown",
   "id": "c5f40444-5372-44c5-83f7-60ab8b19516f",
   "metadata": {},
   "source": [
    "## To-do\n",
    "- Now that we have import and metadata extraction working, we need to start preprocessing (mostly interpolating timepoints for z-slices if recorded on frame-by-frame basis by the scope) and some scheme for identification of a nuclear and a spot channel that is compatible with switching between the two channels (e.g. using mCherry to segment nuclei during cycles but not at the division).\n",
    "- Makes sense to use dask for visualization (e.g. choosing a threshold).\n",
    "- Write DoG/segmentation fuction so that it can take either 2D or 3D data - give the option to segment off of a projection, or off of raw 3D data.\n",
    "    - Write in options for DoG and LoG segmentation algorithm with standard nuclear sizes vs box DoG/LoG vs watershed.\n",
    "        - Actually, box filtering might not be very helpful if we're cutting off part of the nucleus is z - the BP filtering will project it into a distorted gaussian if we're not right in the middle of the nucleus, and then misplace the centroid and botch the diameter estimation from $\\sigma$. For 3D segmentation, it might be better to use a single filter to find markers then perform a watershed.\n",
    "- 3D DoG notes:\n",
    "    - $\\sigma_{x, y} = 8$ works perfectly to segment out nuclei during nc 13.\n",
    "    - $\\sigma_z$ is BP-filtered (1, 9) where 9 is the Z-sigma corresponding to the whole nucleus. This allow the BP to be very permissive in Z and filter out the nuclei in x and y.\n",
    "- Proposed procedure for local peak finding:\n",
    "    - Run box DoG as below with permissive BP in z and LoG approximation in (x, y), only varying $\\sigma$ in the latter.\n",
    "    - Peak-finding on standard image (e.g. $\\sigma_{x, y} = 8$), then use coordinates as initial guess for next sigma values.\n",
    "- Simple BP filter + peak finding does a good job finding markers. Give option then to watershed segment directly off of the image, off of distance-transformed otsu thresholded image, and off of edge-finding.\n",
    "    - For data with the mid-nuclear plane on the boundary of our z-stack, might be useful to give the option to segment in 2D, then threshold each nuclear column locally to identify the nucleus.\n",
    "    - Need to write loop over timepoints, clean up small objects at each step, then commit segmentation to file."
   ]
  },
  {
   "cell_type": "code",
   "execution_count": 1,
   "id": "1f40c2db-1bb8-45af-9612-0612d1806a8a",
   "metadata": {},
   "outputs": [
    {
     "name": "stderr",
     "output_type": "stream",
     "text": [
      "/home/ybadal/mambaforge/envs/transcription_pipeline/lib/python3.10/site-packages/pims/bioformats.py:410: UserWarning: Due to an issue with JPype 0.6.0, reading is slower. Please consider upgrading JPype to 0.6.1 or later.\n",
      "  warn('Due to an issue with JPype 0.6.0, reading is slower. '\n",
      "/home/ybadal/Documents/Berkeley/github_repositories/transcription_pipeline/preprocessing/import_data.py:698: UserWarning: /home/ybadal/Documents/Berkeley/github_repositories/transcription_pipeline/test_data/2023-04-07/p2pdp_zld-sites-ctrl_fwd_1/collated_dataset/collated_dataset_ch00.tiff is a low contrast image\n",
      "  imsave(collated_data_path, channel_data, plugin=\"tifffile\")\n",
      "/home/ybadal/Documents/Berkeley/github_repositories/transcription_pipeline/preprocessing/import_data.py:698: UserWarning: /home/ybadal/Documents/Berkeley/github_repositories/transcription_pipeline/test_data/2023-04-07/p2pdp_zld-sites-ctrl_fwd_1/collated_dataset/collated_dataset_ch01.tiff is a low contrast image\n",
      "  imsave(collated_data_path, channel_data, plugin=\"tifffile\")\n"
     ]
    }
   ],
   "source": [
    "from preprocessing import import_data\n",
    "\n",
    "# from nuclear_segmentation import segment_nuclei\n",
    "import napari\n",
    "\n",
    "trim_series = True\n",
    "lif_test_name = \"test_data/2021-06-14/p2pdpwt\"\n",
    "lsm_test_name = \"test_data/2023-04-07/p2pdp_zld-sites-ctrl_fwd_1\"\n",
    "\n",
    "(\n",
    "    channels_full_dataset,\n",
    "    original_global_metadata,\n",
    "    original_frame_metadata,\n",
    "    export_global_metadata,\n",
    "    export_frame_metadata,\n",
    ") = import_data.import_save_dataset(lsm_test_name, trim_series=trim_series, mode=\"tiff\")"
   ]
  },
  {
   "cell_type": "code",
   "execution_count": 2,
   "id": "9e0aeae0-8b3f-4239-a7ad-706405f48b2a",
   "metadata": {},
   "outputs": [],
   "source": [
    "nuclear_channel = channels_full_dataset[1]"
   ]
  },
  {
   "cell_type": "code",
   "execution_count": 3,
   "id": "29efae85-f790-420f-9952-9cc6501a4d08",
   "metadata": {},
   "outputs": [],
   "source": [
    "viewer = napari.view_image(nuclear_channel, name=\"Nuclear Channel\")\n",
    "napari.run()"
   ]
  },
  {
   "cell_type": "code",
   "execution_count": 4,
   "id": "faedb4e5-3a7a-457e-81b0-63b1b49588a3",
   "metadata": {},
   "outputs": [
    {
     "name": "stderr",
     "output_type": "stream",
     "text": [
      "/home/ybadal/mambaforge/envs/transcription_pipeline/lib/python3.10/site-packages/distributed/client.py:3109: UserWarning: Sending large graph of size 876.75 MiB.\n",
      "This may cause some slowdown.\n",
      "Consider scattering data ahead of time and using futures.\n",
      "  warnings.warn(\n"
     ]
    }
   ],
   "source": [
    "from nuclear_segmentation import segment_nuclei\n",
    "\n",
    "markers = segment_nuclei.mark_nuclei(\n",
    "    nuclear_channel,\n",
    "    low_sigma=[1, 6, 6],\n",
    "    high_sigma=[15, 10, 10],\n",
    "    max_footprint=(4, segment_nuclei.ellipsoid(5, 3)),\n",
    "    num_processes=6,\n",
    ")"
   ]
  },
  {
   "cell_type": "code",
   "execution_count": 6,
   "id": "a5702824-6dda-4f9b-8b28-b79d83f53821",
   "metadata": {},
   "outputs": [],
   "source": [
    "labels = segment_nuclei.segment_nuclei(\n",
    "    nuclear_channel,\n",
    "    markers,\n",
    "    denoising=\"gaussian\",\n",
    "    denoising_sigma=3,\n",
    "    thresholding=\"global_otsu\",\n",
    "    closing_footprint=segment_nuclei.ellipsoid(3, 3),\n",
    "    watershed_method=\"raw\",\n",
    "    min_size=200,\n",
    "    num_processes=6,\n",
    ")"
   ]
  },
  {
   "cell_type": "code",
   "execution_count": 8,
   "id": "a3950dce-634d-495f-a8f0-ec757f8fc52a",
   "metadata": {},
   "outputs": [
    {
     "data": {
      "text/plain": [
       "<Labels layer 'Segmentation Mask' at 0x7fb431a78760>"
      ]
     },
     "execution_count": 8,
     "metadata": {},
     "output_type": "execute_result"
    }
   ],
   "source": [
    "viewer.add_labels(labels, name=\"Segmentation Mask\")"
   ]
  },
  {
   "cell_type": "code",
   "execution_count": null,
   "id": "066719d8-3e5b-4475-9fff-5d14d2e3645c",
   "metadata": {},
   "outputs": [],
   "source": []
  }
 ],
 "metadata": {
  "kernelspec": {
   "display_name": "Python 3 (ipykernel)",
   "language": "python",
   "name": "python3"
  },
  "language_info": {
   "codemirror_mode": {
    "name": "ipython",
    "version": 3
   },
   "file_extension": ".py",
   "mimetype": "text/x-python",
   "name": "python",
   "nbconvert_exporter": "python",
   "pygments_lexer": "ipython3",
   "version": "3.10.11"
  }
 },
 "nbformat": 4,
 "nbformat_minor": 5
}
