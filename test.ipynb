{
 "cells": [
  {
   "cell_type": "markdown",
   "id": "494c31dd-aae4-4514-afeb-605dcb5e254b",
   "metadata": {},
   "source": [
    "# Pipeline walkthrough"
   ]
  },
  {
   "cell_type": "markdown",
   "id": "d93494d4-9842-4e52-84eb-9a8c6b94f0f4",
   "metadata": {},
   "source": [
    "## Data import"
   ]
  },
  {
   "cell_type": "code",
   "execution_count": 1,
   "id": "1f40c2db-1bb8-45af-9612-0612d1806a8a",
   "metadata": {},
   "outputs": [
    {
     "name": "stderr",
     "output_type": "stream",
     "text": [
      "/home/yovan/mambaforge/envs/transcription_pipeline/lib/python3.10/site-packages/pims/bioformats.py:410: UserWarning: Due to an issue with JPype 0.6.0, reading is slower. Please consider upgrading JPype to 0.6.1 or later.\n",
      "  warn('Due to an issue with JPype 0.6.0, reading is slower. '\n"
     ]
    },
    {
     "name": "stdout",
     "output_type": "stream",
     "text": [
      "The series in ['Series001', 'Series002', 'Series003'] have inconsistent ChannelPinholeSize, check your imaging settings and metadata.\n",
      "The series in ['Series001', 'Series002', 'Series003'] have inconsistent LaserID, check your imaging settings and metadata.\n"
     ]
    },
    {
     "name": "stderr",
     "output_type": "stream",
     "text": [
      "/home/yovan/Documents/Berkeley/github_repositories/transcription_pipeline/preprocessing/import_data.py:719: UserWarning: /home/yovan/Documents/Berkeley/github_repositories/transcription_pipeline/test_data/2023-06-16/RBSPWM_embryo01/collated_dataset/collated_dataset_ch00.tiff is a low contrast image\n",
      "  imsave(collated_data_path, channel_data, plugin=\"tifffile\")\n",
      "/home/yovan/Documents/Berkeley/github_repositories/transcription_pipeline/preprocessing/import_data.py:719: UserWarning: /home/yovan/Documents/Berkeley/github_repositories/transcription_pipeline/test_data/2023-06-16/RBSPWM_embryo01/collated_dataset/collated_dataset_ch01.tiff is a low contrast image\n",
      "  imsave(collated_data_path, channel_data, plugin=\"tifffile\")\n"
     ]
    }
   ],
   "source": [
    "from preprocessing.import_data import import_save_dataset\n",
    "\n",
    "import napari\n",
    "\n",
    "trim_series = True\n",
    "lif_test_name = \"test_data/2021-06-14/p2pdpwt\"\n",
    "lsm_test_name = \"test_data/2023-04-07/p2pdp_zld-sites-ctrl_fwd_1\"\n",
    "var1_test_name = \"test_data/2023-06-16/RBSPWM_embryo01\"\n",
    "\n",
    "(\n",
    "    channels_full_dataset,\n",
    "    original_global_metadata,\n",
    "    original_frame_metadata,\n",
    "    export_global_metadata,\n",
    "    export_frame_metadata,\n",
    ") = import_save_dataset(var1_test_name, trim_series=trim_series, mode=\"tiff\")"
   ]
  },
  {
   "cell_type": "code",
   "execution_count": 2,
   "id": "9e0aeae0-8b3f-4239-a7ad-706405f48b2a",
   "metadata": {},
   "outputs": [],
   "source": [
    "nuclear_channel_metadata = export_frame_metadata[1]\n",
    "nuclear_channel = channels_full_dataset[1]"
   ]
  },
  {
   "cell_type": "markdown",
   "id": "6976782a-12a4-4005-a5b1-23b4e65d0e31",
   "metadata": {},
   "source": [
    "## Starting a Dask Client for parallelization"
   ]
  },
  {
   "cell_type": "code",
   "execution_count": 3,
   "id": "b5afe2d7-03af-4e32-85dd-6a07cb8a4063",
   "metadata": {},
   "outputs": [],
   "source": [
    "from dask.distributed import LocalCluster, Client"
   ]
  },
  {
   "cell_type": "code",
   "execution_count": 4,
   "id": "e152f7c2-0763-457f-a573-f45fd2e911e2",
   "metadata": {},
   "outputs": [],
   "source": [
    "cluster = LocalCluster(\n",
    "    host=\"localhost\",\n",
    "    scheduler_port=8786,\n",
    "    threads_per_worker=1,\n",
    "    n_workers=12,\n",
    "    memory_limit=\"4GB\",\n",
    ")"
   ]
  },
  {
   "cell_type": "code",
   "execution_count": 5,
   "id": "aa3b5d90-2a35-4cd6-83fa-ce06973d5355",
   "metadata": {},
   "outputs": [],
   "source": [
    "client = Client(cluster)"
   ]
  },
  {
   "cell_type": "code",
   "execution_count": 6,
   "id": "07d845af-9a56-4437-8cd8-da65ad53b59d",
   "metadata": {},
   "outputs": [
    {
     "data": {
      "text/html": [
       "<div>\n",
       "    <div style=\"width: 24px; height: 24px; background-color: #e1e1e1; border: 3px solid #9D9D9D; border-radius: 5px; position: absolute;\"> </div>\n",
       "    <div style=\"margin-left: 48px;\">\n",
       "        <h3 style=\"margin-bottom: 0px;\">Client</h3>\n",
       "        <p style=\"color: #9D9D9D; margin-bottom: 0px;\">Client-ad206338-31c0-11ee-932d-6045cb9bb9a9</p>\n",
       "        <table style=\"width: 100%; text-align: left;\">\n",
       "\n",
       "        <tr>\n",
       "        \n",
       "            <td style=\"text-align: left;\"><strong>Connection method:</strong> Cluster object</td>\n",
       "            <td style=\"text-align: left;\"><strong>Cluster type:</strong> distributed.LocalCluster</td>\n",
       "        \n",
       "        </tr>\n",
       "\n",
       "        \n",
       "            <tr>\n",
       "                <td style=\"text-align: left;\">\n",
       "                    <strong>Dashboard: </strong> <a href=\"http://127.0.0.1:8787/status\" target=\"_blank\">http://127.0.0.1:8787/status</a>\n",
       "                </td>\n",
       "                <td style=\"text-align: left;\"></td>\n",
       "            </tr>\n",
       "        \n",
       "\n",
       "        </table>\n",
       "\n",
       "        \n",
       "\n",
       "        \n",
       "            <details>\n",
       "            <summary style=\"margin-bottom: 20px;\"><h3 style=\"display: inline;\">Cluster Info</h3></summary>\n",
       "            <div class=\"jp-RenderedHTMLCommon jp-RenderedHTML jp-mod-trusted jp-OutputArea-output\">\n",
       "    <div style=\"width: 24px; height: 24px; background-color: #e1e1e1; border: 3px solid #9D9D9D; border-radius: 5px; position: absolute;\">\n",
       "    </div>\n",
       "    <div style=\"margin-left: 48px;\">\n",
       "        <h3 style=\"margin-bottom: 0px; margin-top: 0px;\">LocalCluster</h3>\n",
       "        <p style=\"color: #9D9D9D; margin-bottom: 0px;\">25bd5e94</p>\n",
       "        <table style=\"width: 100%; text-align: left;\">\n",
       "            <tr>\n",
       "                <td style=\"text-align: left;\">\n",
       "                    <strong>Dashboard:</strong> <a href=\"http://127.0.0.1:8787/status\" target=\"_blank\">http://127.0.0.1:8787/status</a>\n",
       "                </td>\n",
       "                <td style=\"text-align: left;\">\n",
       "                    <strong>Workers:</strong> 12\n",
       "                </td>\n",
       "            </tr>\n",
       "            <tr>\n",
       "                <td style=\"text-align: left;\">\n",
       "                    <strong>Total threads:</strong> 12\n",
       "                </td>\n",
       "                <td style=\"text-align: left;\">\n",
       "                    <strong>Total memory:</strong> 44.70 GiB\n",
       "                </td>\n",
       "            </tr>\n",
       "            \n",
       "            <tr>\n",
       "    <td style=\"text-align: left;\"><strong>Status:</strong> running</td>\n",
       "    <td style=\"text-align: left;\"><strong>Using processes:</strong> True</td>\n",
       "</tr>\n",
       "\n",
       "            \n",
       "        </table>\n",
       "\n",
       "        <details>\n",
       "            <summary style=\"margin-bottom: 20px;\">\n",
       "                <h3 style=\"display: inline;\">Scheduler Info</h3>\n",
       "            </summary>\n",
       "\n",
       "            <div style=\"\">\n",
       "    <div>\n",
       "        <div style=\"width: 24px; height: 24px; background-color: #FFF7E5; border: 3px solid #FF6132; border-radius: 5px; position: absolute;\"> </div>\n",
       "        <div style=\"margin-left: 48px;\">\n",
       "            <h3 style=\"margin-bottom: 0px;\">Scheduler</h3>\n",
       "            <p style=\"color: #9D9D9D; margin-bottom: 0px;\">Scheduler-9af3d4af-cc0a-4b47-bd1d-ffc94b7b36ce</p>\n",
       "            <table style=\"width: 100%; text-align: left;\">\n",
       "                <tr>\n",
       "                    <td style=\"text-align: left;\">\n",
       "                        <strong>Comm:</strong> tcp://127.0.0.1:8786\n",
       "                    </td>\n",
       "                    <td style=\"text-align: left;\">\n",
       "                        <strong>Workers:</strong> 12\n",
       "                    </td>\n",
       "                </tr>\n",
       "                <tr>\n",
       "                    <td style=\"text-align: left;\">\n",
       "                        <strong>Dashboard:</strong> <a href=\"http://127.0.0.1:8787/status\" target=\"_blank\">http://127.0.0.1:8787/status</a>\n",
       "                    </td>\n",
       "                    <td style=\"text-align: left;\">\n",
       "                        <strong>Total threads:</strong> 12\n",
       "                    </td>\n",
       "                </tr>\n",
       "                <tr>\n",
       "                    <td style=\"text-align: left;\">\n",
       "                        <strong>Started:</strong> Just now\n",
       "                    </td>\n",
       "                    <td style=\"text-align: left;\">\n",
       "                        <strong>Total memory:</strong> 44.70 GiB\n",
       "                    </td>\n",
       "                </tr>\n",
       "            </table>\n",
       "        </div>\n",
       "    </div>\n",
       "\n",
       "    <details style=\"margin-left: 48px;\">\n",
       "        <summary style=\"margin-bottom: 20px;\">\n",
       "            <h3 style=\"display: inline;\">Workers</h3>\n",
       "        </summary>\n",
       "\n",
       "        \n",
       "        <div style=\"margin-bottom: 20px;\">\n",
       "            <div style=\"width: 24px; height: 24px; background-color: #DBF5FF; border: 3px solid #4CC9FF; border-radius: 5px; position: absolute;\"> </div>\n",
       "            <div style=\"margin-left: 48px;\">\n",
       "            <details>\n",
       "                <summary>\n",
       "                    <h4 style=\"margin-bottom: 0px; display: inline;\">Worker: 0</h4>\n",
       "                </summary>\n",
       "                <table style=\"width: 100%; text-align: left;\">\n",
       "                    <tr>\n",
       "                        <td style=\"text-align: left;\">\n",
       "                            <strong>Comm: </strong> tcp://127.0.0.1:38913\n",
       "                        </td>\n",
       "                        <td style=\"text-align: left;\">\n",
       "                            <strong>Total threads: </strong> 1\n",
       "                        </td>\n",
       "                    </tr>\n",
       "                    <tr>\n",
       "                        <td style=\"text-align: left;\">\n",
       "                            <strong>Dashboard: </strong> <a href=\"http://127.0.0.1:39761/status\" target=\"_blank\">http://127.0.0.1:39761/status</a>\n",
       "                        </td>\n",
       "                        <td style=\"text-align: left;\">\n",
       "                            <strong>Memory: </strong> 3.73 GiB\n",
       "                        </td>\n",
       "                    </tr>\n",
       "                    <tr>\n",
       "                        <td style=\"text-align: left;\">\n",
       "                            <strong>Nanny: </strong> tcp://127.0.0.1:44537\n",
       "                        </td>\n",
       "                        <td style=\"text-align: left;\"></td>\n",
       "                    </tr>\n",
       "                    <tr>\n",
       "                        <td colspan=\"2\" style=\"text-align: left;\">\n",
       "                            <strong>Local directory: </strong> /tmp/dask-worker-space/worker-vl6ybwah\n",
       "                        </td>\n",
       "                    </tr>\n",
       "\n",
       "                    \n",
       "\n",
       "                    \n",
       "\n",
       "                </table>\n",
       "            </details>\n",
       "            </div>\n",
       "        </div>\n",
       "        \n",
       "        <div style=\"margin-bottom: 20px;\">\n",
       "            <div style=\"width: 24px; height: 24px; background-color: #DBF5FF; border: 3px solid #4CC9FF; border-radius: 5px; position: absolute;\"> </div>\n",
       "            <div style=\"margin-left: 48px;\">\n",
       "            <details>\n",
       "                <summary>\n",
       "                    <h4 style=\"margin-bottom: 0px; display: inline;\">Worker: 1</h4>\n",
       "                </summary>\n",
       "                <table style=\"width: 100%; text-align: left;\">\n",
       "                    <tr>\n",
       "                        <td style=\"text-align: left;\">\n",
       "                            <strong>Comm: </strong> tcp://127.0.0.1:37221\n",
       "                        </td>\n",
       "                        <td style=\"text-align: left;\">\n",
       "                            <strong>Total threads: </strong> 1\n",
       "                        </td>\n",
       "                    </tr>\n",
       "                    <tr>\n",
       "                        <td style=\"text-align: left;\">\n",
       "                            <strong>Dashboard: </strong> <a href=\"http://127.0.0.1:43137/status\" target=\"_blank\">http://127.0.0.1:43137/status</a>\n",
       "                        </td>\n",
       "                        <td style=\"text-align: left;\">\n",
       "                            <strong>Memory: </strong> 3.73 GiB\n",
       "                        </td>\n",
       "                    </tr>\n",
       "                    <tr>\n",
       "                        <td style=\"text-align: left;\">\n",
       "                            <strong>Nanny: </strong> tcp://127.0.0.1:34459\n",
       "                        </td>\n",
       "                        <td style=\"text-align: left;\"></td>\n",
       "                    </tr>\n",
       "                    <tr>\n",
       "                        <td colspan=\"2\" style=\"text-align: left;\">\n",
       "                            <strong>Local directory: </strong> /tmp/dask-worker-space/worker-6yp6umsn\n",
       "                        </td>\n",
       "                    </tr>\n",
       "\n",
       "                    \n",
       "\n",
       "                    \n",
       "\n",
       "                </table>\n",
       "            </details>\n",
       "            </div>\n",
       "        </div>\n",
       "        \n",
       "        <div style=\"margin-bottom: 20px;\">\n",
       "            <div style=\"width: 24px; height: 24px; background-color: #DBF5FF; border: 3px solid #4CC9FF; border-radius: 5px; position: absolute;\"> </div>\n",
       "            <div style=\"margin-left: 48px;\">\n",
       "            <details>\n",
       "                <summary>\n",
       "                    <h4 style=\"margin-bottom: 0px; display: inline;\">Worker: 2</h4>\n",
       "                </summary>\n",
       "                <table style=\"width: 100%; text-align: left;\">\n",
       "                    <tr>\n",
       "                        <td style=\"text-align: left;\">\n",
       "                            <strong>Comm: </strong> tcp://127.0.0.1:37379\n",
       "                        </td>\n",
       "                        <td style=\"text-align: left;\">\n",
       "                            <strong>Total threads: </strong> 1\n",
       "                        </td>\n",
       "                    </tr>\n",
       "                    <tr>\n",
       "                        <td style=\"text-align: left;\">\n",
       "                            <strong>Dashboard: </strong> <a href=\"http://127.0.0.1:44271/status\" target=\"_blank\">http://127.0.0.1:44271/status</a>\n",
       "                        </td>\n",
       "                        <td style=\"text-align: left;\">\n",
       "                            <strong>Memory: </strong> 3.73 GiB\n",
       "                        </td>\n",
       "                    </tr>\n",
       "                    <tr>\n",
       "                        <td style=\"text-align: left;\">\n",
       "                            <strong>Nanny: </strong> tcp://127.0.0.1:33011\n",
       "                        </td>\n",
       "                        <td style=\"text-align: left;\"></td>\n",
       "                    </tr>\n",
       "                    <tr>\n",
       "                        <td colspan=\"2\" style=\"text-align: left;\">\n",
       "                            <strong>Local directory: </strong> /tmp/dask-worker-space/worker-59xk_1ig\n",
       "                        </td>\n",
       "                    </tr>\n",
       "\n",
       "                    \n",
       "\n",
       "                    \n",
       "\n",
       "                </table>\n",
       "            </details>\n",
       "            </div>\n",
       "        </div>\n",
       "        \n",
       "        <div style=\"margin-bottom: 20px;\">\n",
       "            <div style=\"width: 24px; height: 24px; background-color: #DBF5FF; border: 3px solid #4CC9FF; border-radius: 5px; position: absolute;\"> </div>\n",
       "            <div style=\"margin-left: 48px;\">\n",
       "            <details>\n",
       "                <summary>\n",
       "                    <h4 style=\"margin-bottom: 0px; display: inline;\">Worker: 3</h4>\n",
       "                </summary>\n",
       "                <table style=\"width: 100%; text-align: left;\">\n",
       "                    <tr>\n",
       "                        <td style=\"text-align: left;\">\n",
       "                            <strong>Comm: </strong> tcp://127.0.0.1:36455\n",
       "                        </td>\n",
       "                        <td style=\"text-align: left;\">\n",
       "                            <strong>Total threads: </strong> 1\n",
       "                        </td>\n",
       "                    </tr>\n",
       "                    <tr>\n",
       "                        <td style=\"text-align: left;\">\n",
       "                            <strong>Dashboard: </strong> <a href=\"http://127.0.0.1:38159/status\" target=\"_blank\">http://127.0.0.1:38159/status</a>\n",
       "                        </td>\n",
       "                        <td style=\"text-align: left;\">\n",
       "                            <strong>Memory: </strong> 3.73 GiB\n",
       "                        </td>\n",
       "                    </tr>\n",
       "                    <tr>\n",
       "                        <td style=\"text-align: left;\">\n",
       "                            <strong>Nanny: </strong> tcp://127.0.0.1:34445\n",
       "                        </td>\n",
       "                        <td style=\"text-align: left;\"></td>\n",
       "                    </tr>\n",
       "                    <tr>\n",
       "                        <td colspan=\"2\" style=\"text-align: left;\">\n",
       "                            <strong>Local directory: </strong> /tmp/dask-worker-space/worker-0i_eskus\n",
       "                        </td>\n",
       "                    </tr>\n",
       "\n",
       "                    \n",
       "\n",
       "                    \n",
       "\n",
       "                </table>\n",
       "            </details>\n",
       "            </div>\n",
       "        </div>\n",
       "        \n",
       "        <div style=\"margin-bottom: 20px;\">\n",
       "            <div style=\"width: 24px; height: 24px; background-color: #DBF5FF; border: 3px solid #4CC9FF; border-radius: 5px; position: absolute;\"> </div>\n",
       "            <div style=\"margin-left: 48px;\">\n",
       "            <details>\n",
       "                <summary>\n",
       "                    <h4 style=\"margin-bottom: 0px; display: inline;\">Worker: 4</h4>\n",
       "                </summary>\n",
       "                <table style=\"width: 100%; text-align: left;\">\n",
       "                    <tr>\n",
       "                        <td style=\"text-align: left;\">\n",
       "                            <strong>Comm: </strong> tcp://127.0.0.1:46669\n",
       "                        </td>\n",
       "                        <td style=\"text-align: left;\">\n",
       "                            <strong>Total threads: </strong> 1\n",
       "                        </td>\n",
       "                    </tr>\n",
       "                    <tr>\n",
       "                        <td style=\"text-align: left;\">\n",
       "                            <strong>Dashboard: </strong> <a href=\"http://127.0.0.1:40851/status\" target=\"_blank\">http://127.0.0.1:40851/status</a>\n",
       "                        </td>\n",
       "                        <td style=\"text-align: left;\">\n",
       "                            <strong>Memory: </strong> 3.73 GiB\n",
       "                        </td>\n",
       "                    </tr>\n",
       "                    <tr>\n",
       "                        <td style=\"text-align: left;\">\n",
       "                            <strong>Nanny: </strong> tcp://127.0.0.1:37641\n",
       "                        </td>\n",
       "                        <td style=\"text-align: left;\"></td>\n",
       "                    </tr>\n",
       "                    <tr>\n",
       "                        <td colspan=\"2\" style=\"text-align: left;\">\n",
       "                            <strong>Local directory: </strong> /tmp/dask-worker-space/worker-36djhhfi\n",
       "                        </td>\n",
       "                    </tr>\n",
       "\n",
       "                    \n",
       "\n",
       "                    \n",
       "\n",
       "                </table>\n",
       "            </details>\n",
       "            </div>\n",
       "        </div>\n",
       "        \n",
       "        <div style=\"margin-bottom: 20px;\">\n",
       "            <div style=\"width: 24px; height: 24px; background-color: #DBF5FF; border: 3px solid #4CC9FF; border-radius: 5px; position: absolute;\"> </div>\n",
       "            <div style=\"margin-left: 48px;\">\n",
       "            <details>\n",
       "                <summary>\n",
       "                    <h4 style=\"margin-bottom: 0px; display: inline;\">Worker: 5</h4>\n",
       "                </summary>\n",
       "                <table style=\"width: 100%; text-align: left;\">\n",
       "                    <tr>\n",
       "                        <td style=\"text-align: left;\">\n",
       "                            <strong>Comm: </strong> tcp://127.0.0.1:42489\n",
       "                        </td>\n",
       "                        <td style=\"text-align: left;\">\n",
       "                            <strong>Total threads: </strong> 1\n",
       "                        </td>\n",
       "                    </tr>\n",
       "                    <tr>\n",
       "                        <td style=\"text-align: left;\">\n",
       "                            <strong>Dashboard: </strong> <a href=\"http://127.0.0.1:34219/status\" target=\"_blank\">http://127.0.0.1:34219/status</a>\n",
       "                        </td>\n",
       "                        <td style=\"text-align: left;\">\n",
       "                            <strong>Memory: </strong> 3.73 GiB\n",
       "                        </td>\n",
       "                    </tr>\n",
       "                    <tr>\n",
       "                        <td style=\"text-align: left;\">\n",
       "                            <strong>Nanny: </strong> tcp://127.0.0.1:46425\n",
       "                        </td>\n",
       "                        <td style=\"text-align: left;\"></td>\n",
       "                    </tr>\n",
       "                    <tr>\n",
       "                        <td colspan=\"2\" style=\"text-align: left;\">\n",
       "                            <strong>Local directory: </strong> /tmp/dask-worker-space/worker-ewkquhfl\n",
       "                        </td>\n",
       "                    </tr>\n",
       "\n",
       "                    \n",
       "\n",
       "                    \n",
       "\n",
       "                </table>\n",
       "            </details>\n",
       "            </div>\n",
       "        </div>\n",
       "        \n",
       "        <div style=\"margin-bottom: 20px;\">\n",
       "            <div style=\"width: 24px; height: 24px; background-color: #DBF5FF; border: 3px solid #4CC9FF; border-radius: 5px; position: absolute;\"> </div>\n",
       "            <div style=\"margin-left: 48px;\">\n",
       "            <details>\n",
       "                <summary>\n",
       "                    <h4 style=\"margin-bottom: 0px; display: inline;\">Worker: 6</h4>\n",
       "                </summary>\n",
       "                <table style=\"width: 100%; text-align: left;\">\n",
       "                    <tr>\n",
       "                        <td style=\"text-align: left;\">\n",
       "                            <strong>Comm: </strong> tcp://127.0.0.1:32871\n",
       "                        </td>\n",
       "                        <td style=\"text-align: left;\">\n",
       "                            <strong>Total threads: </strong> 1\n",
       "                        </td>\n",
       "                    </tr>\n",
       "                    <tr>\n",
       "                        <td style=\"text-align: left;\">\n",
       "                            <strong>Dashboard: </strong> <a href=\"http://127.0.0.1:33229/status\" target=\"_blank\">http://127.0.0.1:33229/status</a>\n",
       "                        </td>\n",
       "                        <td style=\"text-align: left;\">\n",
       "                            <strong>Memory: </strong> 3.73 GiB\n",
       "                        </td>\n",
       "                    </tr>\n",
       "                    <tr>\n",
       "                        <td style=\"text-align: left;\">\n",
       "                            <strong>Nanny: </strong> tcp://127.0.0.1:43353\n",
       "                        </td>\n",
       "                        <td style=\"text-align: left;\"></td>\n",
       "                    </tr>\n",
       "                    <tr>\n",
       "                        <td colspan=\"2\" style=\"text-align: left;\">\n",
       "                            <strong>Local directory: </strong> /tmp/dask-worker-space/worker-9yqyao08\n",
       "                        </td>\n",
       "                    </tr>\n",
       "\n",
       "                    \n",
       "\n",
       "                    \n",
       "\n",
       "                </table>\n",
       "            </details>\n",
       "            </div>\n",
       "        </div>\n",
       "        \n",
       "        <div style=\"margin-bottom: 20px;\">\n",
       "            <div style=\"width: 24px; height: 24px; background-color: #DBF5FF; border: 3px solid #4CC9FF; border-radius: 5px; position: absolute;\"> </div>\n",
       "            <div style=\"margin-left: 48px;\">\n",
       "            <details>\n",
       "                <summary>\n",
       "                    <h4 style=\"margin-bottom: 0px; display: inline;\">Worker: 7</h4>\n",
       "                </summary>\n",
       "                <table style=\"width: 100%; text-align: left;\">\n",
       "                    <tr>\n",
       "                        <td style=\"text-align: left;\">\n",
       "                            <strong>Comm: </strong> tcp://127.0.0.1:38515\n",
       "                        </td>\n",
       "                        <td style=\"text-align: left;\">\n",
       "                            <strong>Total threads: </strong> 1\n",
       "                        </td>\n",
       "                    </tr>\n",
       "                    <tr>\n",
       "                        <td style=\"text-align: left;\">\n",
       "                            <strong>Dashboard: </strong> <a href=\"http://127.0.0.1:34827/status\" target=\"_blank\">http://127.0.0.1:34827/status</a>\n",
       "                        </td>\n",
       "                        <td style=\"text-align: left;\">\n",
       "                            <strong>Memory: </strong> 3.73 GiB\n",
       "                        </td>\n",
       "                    </tr>\n",
       "                    <tr>\n",
       "                        <td style=\"text-align: left;\">\n",
       "                            <strong>Nanny: </strong> tcp://127.0.0.1:33639\n",
       "                        </td>\n",
       "                        <td style=\"text-align: left;\"></td>\n",
       "                    </tr>\n",
       "                    <tr>\n",
       "                        <td colspan=\"2\" style=\"text-align: left;\">\n",
       "                            <strong>Local directory: </strong> /tmp/dask-worker-space/worker-hm178o37\n",
       "                        </td>\n",
       "                    </tr>\n",
       "\n",
       "                    \n",
       "\n",
       "                    \n",
       "\n",
       "                </table>\n",
       "            </details>\n",
       "            </div>\n",
       "        </div>\n",
       "        \n",
       "        <div style=\"margin-bottom: 20px;\">\n",
       "            <div style=\"width: 24px; height: 24px; background-color: #DBF5FF; border: 3px solid #4CC9FF; border-radius: 5px; position: absolute;\"> </div>\n",
       "            <div style=\"margin-left: 48px;\">\n",
       "            <details>\n",
       "                <summary>\n",
       "                    <h4 style=\"margin-bottom: 0px; display: inline;\">Worker: 8</h4>\n",
       "                </summary>\n",
       "                <table style=\"width: 100%; text-align: left;\">\n",
       "                    <tr>\n",
       "                        <td style=\"text-align: left;\">\n",
       "                            <strong>Comm: </strong> tcp://127.0.0.1:35203\n",
       "                        </td>\n",
       "                        <td style=\"text-align: left;\">\n",
       "                            <strong>Total threads: </strong> 1\n",
       "                        </td>\n",
       "                    </tr>\n",
       "                    <tr>\n",
       "                        <td style=\"text-align: left;\">\n",
       "                            <strong>Dashboard: </strong> <a href=\"http://127.0.0.1:44957/status\" target=\"_blank\">http://127.0.0.1:44957/status</a>\n",
       "                        </td>\n",
       "                        <td style=\"text-align: left;\">\n",
       "                            <strong>Memory: </strong> 3.73 GiB\n",
       "                        </td>\n",
       "                    </tr>\n",
       "                    <tr>\n",
       "                        <td style=\"text-align: left;\">\n",
       "                            <strong>Nanny: </strong> tcp://127.0.0.1:41179\n",
       "                        </td>\n",
       "                        <td style=\"text-align: left;\"></td>\n",
       "                    </tr>\n",
       "                    <tr>\n",
       "                        <td colspan=\"2\" style=\"text-align: left;\">\n",
       "                            <strong>Local directory: </strong> /tmp/dask-worker-space/worker-tyu0iytm\n",
       "                        </td>\n",
       "                    </tr>\n",
       "\n",
       "                    \n",
       "\n",
       "                    \n",
       "\n",
       "                </table>\n",
       "            </details>\n",
       "            </div>\n",
       "        </div>\n",
       "        \n",
       "        <div style=\"margin-bottom: 20px;\">\n",
       "            <div style=\"width: 24px; height: 24px; background-color: #DBF5FF; border: 3px solid #4CC9FF; border-radius: 5px; position: absolute;\"> </div>\n",
       "            <div style=\"margin-left: 48px;\">\n",
       "            <details>\n",
       "                <summary>\n",
       "                    <h4 style=\"margin-bottom: 0px; display: inline;\">Worker: 9</h4>\n",
       "                </summary>\n",
       "                <table style=\"width: 100%; text-align: left;\">\n",
       "                    <tr>\n",
       "                        <td style=\"text-align: left;\">\n",
       "                            <strong>Comm: </strong> tcp://127.0.0.1:42937\n",
       "                        </td>\n",
       "                        <td style=\"text-align: left;\">\n",
       "                            <strong>Total threads: </strong> 1\n",
       "                        </td>\n",
       "                    </tr>\n",
       "                    <tr>\n",
       "                        <td style=\"text-align: left;\">\n",
       "                            <strong>Dashboard: </strong> <a href=\"http://127.0.0.1:38347/status\" target=\"_blank\">http://127.0.0.1:38347/status</a>\n",
       "                        </td>\n",
       "                        <td style=\"text-align: left;\">\n",
       "                            <strong>Memory: </strong> 3.73 GiB\n",
       "                        </td>\n",
       "                    </tr>\n",
       "                    <tr>\n",
       "                        <td style=\"text-align: left;\">\n",
       "                            <strong>Nanny: </strong> tcp://127.0.0.1:42001\n",
       "                        </td>\n",
       "                        <td style=\"text-align: left;\"></td>\n",
       "                    </tr>\n",
       "                    <tr>\n",
       "                        <td colspan=\"2\" style=\"text-align: left;\">\n",
       "                            <strong>Local directory: </strong> /tmp/dask-worker-space/worker-b1_me2ja\n",
       "                        </td>\n",
       "                    </tr>\n",
       "\n",
       "                    \n",
       "\n",
       "                    \n",
       "\n",
       "                </table>\n",
       "            </details>\n",
       "            </div>\n",
       "        </div>\n",
       "        \n",
       "        <div style=\"margin-bottom: 20px;\">\n",
       "            <div style=\"width: 24px; height: 24px; background-color: #DBF5FF; border: 3px solid #4CC9FF; border-radius: 5px; position: absolute;\"> </div>\n",
       "            <div style=\"margin-left: 48px;\">\n",
       "            <details>\n",
       "                <summary>\n",
       "                    <h4 style=\"margin-bottom: 0px; display: inline;\">Worker: 10</h4>\n",
       "                </summary>\n",
       "                <table style=\"width: 100%; text-align: left;\">\n",
       "                    <tr>\n",
       "                        <td style=\"text-align: left;\">\n",
       "                            <strong>Comm: </strong> tcp://127.0.0.1:37533\n",
       "                        </td>\n",
       "                        <td style=\"text-align: left;\">\n",
       "                            <strong>Total threads: </strong> 1\n",
       "                        </td>\n",
       "                    </tr>\n",
       "                    <tr>\n",
       "                        <td style=\"text-align: left;\">\n",
       "                            <strong>Dashboard: </strong> <a href=\"http://127.0.0.1:44793/status\" target=\"_blank\">http://127.0.0.1:44793/status</a>\n",
       "                        </td>\n",
       "                        <td style=\"text-align: left;\">\n",
       "                            <strong>Memory: </strong> 3.73 GiB\n",
       "                        </td>\n",
       "                    </tr>\n",
       "                    <tr>\n",
       "                        <td style=\"text-align: left;\">\n",
       "                            <strong>Nanny: </strong> tcp://127.0.0.1:45697\n",
       "                        </td>\n",
       "                        <td style=\"text-align: left;\"></td>\n",
       "                    </tr>\n",
       "                    <tr>\n",
       "                        <td colspan=\"2\" style=\"text-align: left;\">\n",
       "                            <strong>Local directory: </strong> /tmp/dask-worker-space/worker-yli5lyof\n",
       "                        </td>\n",
       "                    </tr>\n",
       "\n",
       "                    \n",
       "\n",
       "                    \n",
       "\n",
       "                </table>\n",
       "            </details>\n",
       "            </div>\n",
       "        </div>\n",
       "        \n",
       "        <div style=\"margin-bottom: 20px;\">\n",
       "            <div style=\"width: 24px; height: 24px; background-color: #DBF5FF; border: 3px solid #4CC9FF; border-radius: 5px; position: absolute;\"> </div>\n",
       "            <div style=\"margin-left: 48px;\">\n",
       "            <details>\n",
       "                <summary>\n",
       "                    <h4 style=\"margin-bottom: 0px; display: inline;\">Worker: 11</h4>\n",
       "                </summary>\n",
       "                <table style=\"width: 100%; text-align: left;\">\n",
       "                    <tr>\n",
       "                        <td style=\"text-align: left;\">\n",
       "                            <strong>Comm: </strong> tcp://127.0.0.1:35495\n",
       "                        </td>\n",
       "                        <td style=\"text-align: left;\">\n",
       "                            <strong>Total threads: </strong> 1\n",
       "                        </td>\n",
       "                    </tr>\n",
       "                    <tr>\n",
       "                        <td style=\"text-align: left;\">\n",
       "                            <strong>Dashboard: </strong> <a href=\"http://127.0.0.1:45379/status\" target=\"_blank\">http://127.0.0.1:45379/status</a>\n",
       "                        </td>\n",
       "                        <td style=\"text-align: left;\">\n",
       "                            <strong>Memory: </strong> 3.73 GiB\n",
       "                        </td>\n",
       "                    </tr>\n",
       "                    <tr>\n",
       "                        <td style=\"text-align: left;\">\n",
       "                            <strong>Nanny: </strong> tcp://127.0.0.1:43285\n",
       "                        </td>\n",
       "                        <td style=\"text-align: left;\"></td>\n",
       "                    </tr>\n",
       "                    <tr>\n",
       "                        <td colspan=\"2\" style=\"text-align: left;\">\n",
       "                            <strong>Local directory: </strong> /tmp/dask-worker-space/worker-v1q5z4pr\n",
       "                        </td>\n",
       "                    </tr>\n",
       "\n",
       "                    \n",
       "\n",
       "                    \n",
       "\n",
       "                </table>\n",
       "            </details>\n",
       "            </div>\n",
       "        </div>\n",
       "        \n",
       "\n",
       "    </details>\n",
       "</div>\n",
       "\n",
       "        </details>\n",
       "    </div>\n",
       "</div>\n",
       "            </details>\n",
       "        \n",
       "\n",
       "    </div>\n",
       "</div>"
      ],
      "text/plain": [
       "<Client: 'tcp://127.0.0.1:8786' processes=12 threads=12, memory=44.70 GiB>"
      ]
     },
     "execution_count": 6,
     "metadata": {},
     "output_type": "execute_result"
    }
   ],
   "source": [
    "client"
   ]
  },
  {
   "cell_type": "markdown",
   "id": "4bac27f9-da57-4b78-9c80-d160ba6aa42e",
   "metadata": {},
   "source": [
    "## Nuclear segmentation and tracking"
   ]
  },
  {
   "cell_type": "code",
   "execution_count": 7,
   "id": "d9ccf6d4-de0b-4c57-933d-32a381e432aa",
   "metadata": {},
   "outputs": [],
   "source": [
    "import pipeline"
   ]
  },
  {
   "cell_type": "code",
   "execution_count": 8,
   "id": "93e63153-16b8-475f-8e5c-6fe3ba235df0",
   "metadata": {},
   "outputs": [
    {
     "name": "stdout",
     "output_type": "stream",
     "text": [
      "CPU times: user 3.58 ms, sys: 28 µs, total: 3.6 ms\n",
      "Wall time: 2.94 ms\n"
     ]
    },
    {
     "name": "stderr",
     "output_type": "stream",
     "text": [
      "/home/yovan/Documents/Berkeley/github_repositories/transcription_pipeline/pipeline.py:40: UserWarning: Resolution is anisotropic in X and Y, segmentation parameters should be handled manually.\n",
      "  warnings.warn(\n"
     ]
    }
   ],
   "source": [
    "%%time\n",
    "\n",
    "nuclear_tracking = pipeline.Nuclear(\n",
    "    data=nuclear_channel,\n",
    "    global_metadata=export_global_metadata[1],\n",
    "    frame_metadata=nuclear_channel_metadata,\n",
    "    client=client,\n",
    ")"
   ]
  },
  {
   "cell_type": "code",
   "execution_count": 9,
   "id": "0c445272-35a4-4764-a287-a2f04e4e18b1",
   "metadata": {},
   "outputs": [
    {
     "name": "stdout",
     "output_type": "stream",
     "text": [
      "Frame 36: 324 trajectories present.\n"
     ]
    },
    {
     "ename": "SubnetOversizeException",
     "evalue": "search_range (aka maxdisp) too large for reasonable performance on these data (sub net contains 146 points)",
     "output_type": "error",
     "traceback": [
      "\u001b[0;31m---------------------------------------------------------------------------\u001b[0m",
      "\u001b[0;31mSubnetOversizeException\u001b[0m                   Traceback (most recent call last)",
      "File \u001b[0;32m<timed eval>:1\u001b[0m\n",
      "File \u001b[0;32m~/Documents/Berkeley/github_repositories/transcription_pipeline/pipeline.py:357\u001b[0m, in \u001b[0;36mNuclear.track_nuclei\u001b[0;34m(self)\u001b[0m\n\u001b[1;32m    354\u001b[0m     \u001b[38;5;28;01mdel\u001b[39;00m \u001b[38;5;28mself\u001b[39m\u001b[38;5;241m.\u001b[39mlabels\n\u001b[1;32m    355\u001b[0m     \u001b[38;5;28mself\u001b[39m\u001b[38;5;241m.\u001b[39mlabels \u001b[38;5;241m=\u001b[39m \u001b[38;5;28;01mNone\u001b[39;00m\n\u001b[0;32m--> 357\u001b[0m \u001b[38;5;28mself\u001b[39m\u001b[38;5;241m.\u001b[39mtracked_dataframe \u001b[38;5;241m=\u001b[39m \u001b[43mtrack_features\u001b[49m\u001b[38;5;241;43m.\u001b[39;49m\u001b[43mlink_df\u001b[49m\u001b[43m(\u001b[49m\n\u001b[1;32m    358\u001b[0m \u001b[43m    \u001b[49m\u001b[38;5;28;43mself\u001b[39;49m\u001b[38;5;241;43m.\u001b[39;49m\u001b[43msegmentation_dataframe\u001b[49m\u001b[43m,\u001b[49m\n\u001b[1;32m    359\u001b[0m \u001b[43m    \u001b[49m\u001b[38;5;241;43m*\u001b[39;49m\u001b[38;5;241;43m*\u001b[39;49m\u001b[43m(\u001b[49m\u001b[38;5;28;43mself\u001b[39;49m\u001b[38;5;241;43m.\u001b[39;49m\u001b[43mdefault_params\u001b[49m\u001b[43m[\u001b[49m\u001b[38;5;124;43m\"\u001b[39;49m\u001b[38;5;124;43mlink_df_params\u001b[39;49m\u001b[38;5;124;43m\"\u001b[39;49m\u001b[43m]\u001b[49m\u001b[43m)\u001b[49m\u001b[43m,\u001b[49m\n\u001b[1;32m    360\u001b[0m \u001b[43m\u001b[49m\u001b[43m)\u001b[49m\n\u001b[1;32m    362\u001b[0m \u001b[38;5;28mself\u001b[39m\u001b[38;5;241m.\u001b[39mmitosis_dataframe \u001b[38;5;241m=\u001b[39m detect_mitosis\u001b[38;5;241m.\u001b[39mconstruct_lineage(\n\u001b[1;32m    363\u001b[0m     \u001b[38;5;28mself\u001b[39m\u001b[38;5;241m.\u001b[39mtracked_dataframe,\n\u001b[1;32m    364\u001b[0m     \u001b[38;5;241m*\u001b[39m\u001b[38;5;241m*\u001b[39m(\u001b[38;5;28mself\u001b[39m\u001b[38;5;241m.\u001b[39mdefault_params[\u001b[38;5;124m\"\u001b[39m\u001b[38;5;124mconstruct_lineage_params\u001b[39m\u001b[38;5;124m\"\u001b[39m]),\n\u001b[1;32m    365\u001b[0m )\n\u001b[1;32m    367\u001b[0m (\n\u001b[1;32m    368\u001b[0m     \u001b[38;5;28mself\u001b[39m\u001b[38;5;241m.\u001b[39mreordered_labels,\n\u001b[1;32m    369\u001b[0m     \u001b[38;5;28mself\u001b[39m\u001b[38;5;241m.\u001b[39mreordered_labels_futures,\n\u001b[0;32m   (...)\u001b[0m\n\u001b[1;32m    377\u001b[0m     futures_out\u001b[38;5;241m=\u001b[39m\u001b[38;5;28;01mTrue\u001b[39;00m,\n\u001b[1;32m    378\u001b[0m )\n",
      "File \u001b[0;32m~/Documents/Berkeley/github_repositories/transcription_pipeline/tracking/track_features.py:412\u001b[0m, in \u001b[0;36mlink_df\u001b[0;34m(segmentation_df, search_range, memory, pos_columns, t_column, velocity_predict, velocity_averaging, reindex, **kwargs)\u001b[0m\n\u001b[1;32m    409\u001b[0m \u001b[38;5;28;01melse\u001b[39;00m:\n\u001b[1;32m    410\u001b[0m     link \u001b[38;5;241m=\u001b[39m tp\u001b[38;5;241m.\u001b[39mlink_df\n\u001b[0;32m--> 412\u001b[0m linked_dataframe \u001b[38;5;241m=\u001b[39m \u001b[43mlink\u001b[49m\u001b[43m(\u001b[49m\n\u001b[1;32m    413\u001b[0m \u001b[43m    \u001b[49m\u001b[43msegmentation_df\u001b[49m\u001b[43m,\u001b[49m\n\u001b[1;32m    414\u001b[0m \u001b[43m    \u001b[49m\u001b[43msearch_range\u001b[49m\u001b[38;5;241;43m=\u001b[39;49m\u001b[43msearch_range\u001b[49m\u001b[43m,\u001b[49m\n\u001b[1;32m    415\u001b[0m \u001b[43m    \u001b[49m\u001b[43mmemory\u001b[49m\u001b[38;5;241;43m=\u001b[39;49m\u001b[43mmemory\u001b[49m\u001b[43m,\u001b[49m\n\u001b[1;32m    416\u001b[0m \u001b[43m    \u001b[49m\u001b[43mpos_columns\u001b[49m\u001b[38;5;241;43m=\u001b[39;49m\u001b[43mpos_columns\u001b[49m\u001b[43m,\u001b[49m\n\u001b[1;32m    417\u001b[0m \u001b[43m    \u001b[49m\u001b[43mt_column\u001b[49m\u001b[38;5;241;43m=\u001b[39;49m\u001b[43mt_column\u001b[49m\u001b[43m,\u001b[49m\n\u001b[1;32m    418\u001b[0m \u001b[43m    \u001b[49m\u001b[38;5;241;43m*\u001b[39;49m\u001b[38;5;241;43m*\u001b[39;49m\u001b[43mkwargs\u001b[49m\u001b[43m,\u001b[49m\n\u001b[1;32m    419\u001b[0m \u001b[43m\u001b[49m\u001b[43m)\u001b[49m\n\u001b[1;32m    421\u001b[0m \u001b[38;5;66;03m# Reindex dataframe, next step in mitosis detection needs fresh index\u001b[39;00m\n\u001b[1;32m    422\u001b[0m \u001b[38;5;28;01mif\u001b[39;00m reindex:\n",
      "File \u001b[0;32m~/mambaforge/envs/transcription_pipeline/lib/python3.10/site-packages/trackpy/predict.py:121\u001b[0m, in \u001b[0;36mNullPredict.link_df\u001b[0;34m(self, *args, **kw)\u001b[0m\n\u001b[1;32m    113\u001b[0m \u001b[38;5;28;01mdef\u001b[39;00m \u001b[38;5;21mlink_df\u001b[39m(\u001b[38;5;28mself\u001b[39m, \u001b[38;5;241m*\u001b[39margs, \u001b[38;5;241m*\u001b[39m\u001b[38;5;241m*\u001b[39mkw):\n\u001b[1;32m    114\u001b[0m \u001b[38;5;250m    \u001b[39m\u001b[38;5;124;03m\"\"\"Wrapper for linking.link_df_iter() that causes it to use this predictor.\u001b[39;00m\n\u001b[1;32m    115\u001b[0m \n\u001b[1;32m    116\u001b[0m \u001b[38;5;124;03m    As with linking.link_df(), the features data is a single DataFrame.\u001b[39;00m\n\u001b[0;32m   (...)\u001b[0m\n\u001b[1;32m    119\u001b[0m \u001b[38;5;124;03m    options as that function. However in most cases it is functionally equivalent.\u001b[39;00m\n\u001b[1;32m    120\u001b[0m \u001b[38;5;124;03m    \"\"\"\u001b[39;00m\n\u001b[0;32m--> 121\u001b[0m     \u001b[38;5;28;01mreturn\u001b[39;00m \u001b[38;5;28;43mself\u001b[39;49m\u001b[38;5;241;43m.\u001b[39;49m\u001b[43mwrap_single\u001b[49m\u001b[43m(\u001b[49m\u001b[43mlinking\u001b[49m\u001b[38;5;241;43m.\u001b[39;49m\u001b[43mlink_df_iter\u001b[49m\u001b[43m,\u001b[49m\u001b[43m \u001b[49m\u001b[38;5;241;43m*\u001b[39;49m\u001b[43margs\u001b[49m\u001b[43m,\u001b[49m\u001b[43m \u001b[49m\u001b[38;5;241;43m*\u001b[39;49m\u001b[38;5;241;43m*\u001b[39;49m\u001b[43mkw\u001b[49m\u001b[43m)\u001b[49m\n",
      "File \u001b[0;32m~/mambaforge/envs/transcription_pipeline/lib/python3.10/site-packages/trackpy/predict.py:107\u001b[0m, in \u001b[0;36mNullPredict.wrap_single\u001b[0;34m(self, linking_fcn, *args, **kw)\u001b[0m\n\u001b[1;32m    105\u001b[0m kw[\u001b[38;5;124m'\u001b[39m\u001b[38;5;124mpredictor\u001b[39m\u001b[38;5;124m'\u001b[39m] \u001b[38;5;241m=\u001b[39m \u001b[38;5;28mself\u001b[39m\u001b[38;5;241m.\u001b[39mpredict\n\u001b[1;32m    106\u001b[0m features_iter \u001b[38;5;241m=\u001b[39m (frame \u001b[38;5;28;01mfor\u001b[39;00m fnum, frame \u001b[38;5;129;01min\u001b[39;00m features\u001b[38;5;241m.\u001b[39mgroupby(kw[\u001b[38;5;124m'\u001b[39m\u001b[38;5;124mt_column\u001b[39m\u001b[38;5;124m'\u001b[39m]))\n\u001b[0;32m--> 107\u001b[0m \u001b[38;5;28;01mreturn\u001b[39;00m \u001b[43mpandas_concat\u001b[49m\u001b[43m(\u001b[49m\u001b[38;5;28;43mself\u001b[39;49m\u001b[38;5;241;43m.\u001b[39;49m\u001b[43mwrap\u001b[49m\u001b[43m(\u001b[49m\u001b[43mlinking_fcn\u001b[49m\u001b[43m,\u001b[49m\u001b[43m \u001b[49m\u001b[43mfeatures_iter\u001b[49m\u001b[43m,\u001b[49m\u001b[43m \u001b[49m\u001b[38;5;241;43m*\u001b[39;49m\u001b[43margs\u001b[49m\u001b[43m,\u001b[49m\u001b[43m \u001b[49m\u001b[38;5;241;43m*\u001b[39;49m\u001b[38;5;241;43m*\u001b[39;49m\u001b[43mkw\u001b[49m\u001b[43m)\u001b[49m\u001b[43m)\u001b[49m\n",
      "File \u001b[0;32m~/mambaforge/envs/transcription_pipeline/lib/python3.10/site-packages/trackpy/utils.py:296\u001b[0m, in \u001b[0;36m_pandas_concat_post_023\u001b[0;34m(*args, **kwargs)\u001b[0m\n\u001b[1;32m    294\u001b[0m \u001b[38;5;250m\u001b[39m\u001b[38;5;124;03m\"\"\"Pass sort = False. Breaks API by not sorting, but we don't care. \"\"\"\u001b[39;00m\n\u001b[1;32m    295\u001b[0m kwargs\u001b[38;5;241m.\u001b[39msetdefault(\u001b[38;5;124m'\u001b[39m\u001b[38;5;124msort\u001b[39m\u001b[38;5;124m'\u001b[39m, \u001b[38;5;28;01mFalse\u001b[39;00m)\n\u001b[0;32m--> 296\u001b[0m \u001b[38;5;28;01mreturn\u001b[39;00m \u001b[43mpd\u001b[49m\u001b[38;5;241;43m.\u001b[39;49m\u001b[43mconcat\u001b[49m\u001b[43m(\u001b[49m\u001b[38;5;241;43m*\u001b[39;49m\u001b[43margs\u001b[49m\u001b[43m,\u001b[49m\u001b[43m \u001b[49m\u001b[38;5;241;43m*\u001b[39;49m\u001b[38;5;241;43m*\u001b[39;49m\u001b[43mkwargs\u001b[49m\u001b[43m)\u001b[49m\n",
      "File \u001b[0;32m~/mambaforge/envs/transcription_pipeline/lib/python3.10/site-packages/pandas/core/reshape/concat.py:372\u001b[0m, in \u001b[0;36mconcat\u001b[0;34m(objs, axis, join, ignore_index, keys, levels, names, verify_integrity, sort, copy)\u001b[0m\n\u001b[1;32m    369\u001b[0m \u001b[38;5;28;01melif\u001b[39;00m copy \u001b[38;5;129;01mand\u001b[39;00m using_copy_on_write():\n\u001b[1;32m    370\u001b[0m     copy \u001b[38;5;241m=\u001b[39m \u001b[38;5;28;01mFalse\u001b[39;00m\n\u001b[0;32m--> 372\u001b[0m op \u001b[38;5;241m=\u001b[39m \u001b[43m_Concatenator\u001b[49m\u001b[43m(\u001b[49m\n\u001b[1;32m    373\u001b[0m \u001b[43m    \u001b[49m\u001b[43mobjs\u001b[49m\u001b[43m,\u001b[49m\n\u001b[1;32m    374\u001b[0m \u001b[43m    \u001b[49m\u001b[43maxis\u001b[49m\u001b[38;5;241;43m=\u001b[39;49m\u001b[43maxis\u001b[49m\u001b[43m,\u001b[49m\n\u001b[1;32m    375\u001b[0m \u001b[43m    \u001b[49m\u001b[43mignore_index\u001b[49m\u001b[38;5;241;43m=\u001b[39;49m\u001b[43mignore_index\u001b[49m\u001b[43m,\u001b[49m\n\u001b[1;32m    376\u001b[0m \u001b[43m    \u001b[49m\u001b[43mjoin\u001b[49m\u001b[38;5;241;43m=\u001b[39;49m\u001b[43mjoin\u001b[49m\u001b[43m,\u001b[49m\n\u001b[1;32m    377\u001b[0m \u001b[43m    \u001b[49m\u001b[43mkeys\u001b[49m\u001b[38;5;241;43m=\u001b[39;49m\u001b[43mkeys\u001b[49m\u001b[43m,\u001b[49m\n\u001b[1;32m    378\u001b[0m \u001b[43m    \u001b[49m\u001b[43mlevels\u001b[49m\u001b[38;5;241;43m=\u001b[39;49m\u001b[43mlevels\u001b[49m\u001b[43m,\u001b[49m\n\u001b[1;32m    379\u001b[0m \u001b[43m    \u001b[49m\u001b[43mnames\u001b[49m\u001b[38;5;241;43m=\u001b[39;49m\u001b[43mnames\u001b[49m\u001b[43m,\u001b[49m\n\u001b[1;32m    380\u001b[0m \u001b[43m    \u001b[49m\u001b[43mverify_integrity\u001b[49m\u001b[38;5;241;43m=\u001b[39;49m\u001b[43mverify_integrity\u001b[49m\u001b[43m,\u001b[49m\n\u001b[1;32m    381\u001b[0m \u001b[43m    \u001b[49m\u001b[43mcopy\u001b[49m\u001b[38;5;241;43m=\u001b[39;49m\u001b[43mcopy\u001b[49m\u001b[43m,\u001b[49m\n\u001b[1;32m    382\u001b[0m \u001b[43m    \u001b[49m\u001b[43msort\u001b[49m\u001b[38;5;241;43m=\u001b[39;49m\u001b[43msort\u001b[49m\u001b[43m,\u001b[49m\n\u001b[1;32m    383\u001b[0m \u001b[43m\u001b[49m\u001b[43m)\u001b[49m\n\u001b[1;32m    385\u001b[0m \u001b[38;5;28;01mreturn\u001b[39;00m op\u001b[38;5;241m.\u001b[39mget_result()\n",
      "File \u001b[0;32m~/mambaforge/envs/transcription_pipeline/lib/python3.10/site-packages/pandas/core/reshape/concat.py:426\u001b[0m, in \u001b[0;36m_Concatenator.__init__\u001b[0;34m(self, objs, axis, join, keys, levels, names, ignore_index, verify_integrity, copy, sort)\u001b[0m\n\u001b[1;32m    424\u001b[0m     objs \u001b[38;5;241m=\u001b[39m [objs[k] \u001b[38;5;28;01mfor\u001b[39;00m k \u001b[38;5;129;01min\u001b[39;00m keys]\n\u001b[1;32m    425\u001b[0m \u001b[38;5;28;01melse\u001b[39;00m:\n\u001b[0;32m--> 426\u001b[0m     objs \u001b[38;5;241m=\u001b[39m \u001b[38;5;28;43mlist\u001b[39;49m\u001b[43m(\u001b[49m\u001b[43mobjs\u001b[49m\u001b[43m)\u001b[49m\n\u001b[1;32m    428\u001b[0m \u001b[38;5;28;01mif\u001b[39;00m \u001b[38;5;28mlen\u001b[39m(objs) \u001b[38;5;241m==\u001b[39m \u001b[38;5;241m0\u001b[39m:\n\u001b[1;32m    429\u001b[0m     \u001b[38;5;28;01mraise\u001b[39;00m \u001b[38;5;167;01mValueError\u001b[39;00m(\u001b[38;5;124m\"\u001b[39m\u001b[38;5;124mNo objects to concatenate\u001b[39m\u001b[38;5;124m\"\u001b[39m)\n",
      "File \u001b[0;32m~/mambaforge/envs/transcription_pipeline/lib/python3.10/site-packages/trackpy/predict.py:83\u001b[0m, in \u001b[0;36mNullPredict.wrap\u001b[0;34m(self, linking_fcn, *args, **kw)\u001b[0m\n\u001b[1;32m     80\u001b[0m kw[\u001b[38;5;124m'\u001b[39m\u001b[38;5;124mpos_columns\u001b[39m\u001b[38;5;124m'\u001b[39m] \u001b[38;5;241m=\u001b[39m \u001b[38;5;28mself\u001b[39m\u001b[38;5;241m.\u001b[39mpos_columns\n\u001b[1;32m     82\u001b[0m \u001b[38;5;28mself\u001b[39m\u001b[38;5;241m.\u001b[39mt_column \u001b[38;5;241m=\u001b[39m kw\u001b[38;5;241m.\u001b[39mget(\u001b[38;5;124m'\u001b[39m\u001b[38;5;124mt_column\u001b[39m\u001b[38;5;124m'\u001b[39m, \u001b[38;5;124m'\u001b[39m\u001b[38;5;124mframe\u001b[39m\u001b[38;5;124m'\u001b[39m)\n\u001b[0;32m---> 83\u001b[0m \u001b[38;5;28;01mfor\u001b[39;00m frame \u001b[38;5;129;01min\u001b[39;00m linking_fcn(\u001b[38;5;241m*\u001b[39margs, \u001b[38;5;241m*\u001b[39m\u001b[38;5;241m*\u001b[39mkw):\n\u001b[1;32m     84\u001b[0m     \u001b[38;5;28mself\u001b[39m\u001b[38;5;241m.\u001b[39mobserve(frame)\n\u001b[1;32m     85\u001b[0m     \u001b[38;5;28;01myield\u001b[39;00m frame\n",
      "File \u001b[0;32m~/mambaforge/envs/transcription_pipeline/lib/python3.10/site-packages/trackpy/linking/linking.py:278\u001b[0m, in \u001b[0;36mlink_df_iter\u001b[0;34m(f_iter, search_range, pos_columns, t_column, **kwargs)\u001b[0m\n\u001b[1;32m    274\u001b[0m coords_iter \u001b[38;5;241m=\u001b[39m coords_from_df_iter(f_coords_iter, pos_columns, t_column)\n\u001b[1;32m    276\u001b[0m ids_iter \u001b[38;5;241m=\u001b[39m (_ids \u001b[38;5;28;01mfor\u001b[39;00m _i, _ids \u001b[38;5;129;01min\u001b[39;00m\n\u001b[1;32m    277\u001b[0m     link_iter(coords_iter, search_range, \u001b[38;5;241m*\u001b[39m\u001b[38;5;241m*\u001b[39mkwargs))\n\u001b[0;32m--> 278\u001b[0m \u001b[38;5;28;01mfor\u001b[39;00m df, ids \u001b[38;5;129;01min\u001b[39;00m \u001b[38;5;28mzip\u001b[39m(f_iter, ids_iter):\n\u001b[1;32m    279\u001b[0m     df_linked \u001b[38;5;241m=\u001b[39m df\u001b[38;5;241m.\u001b[39mcopy()\n\u001b[1;32m    280\u001b[0m     df_linked[\u001b[38;5;124m'\u001b[39m\u001b[38;5;124mparticle\u001b[39m\u001b[38;5;124m'\u001b[39m] \u001b[38;5;241m=\u001b[39m ids\n",
      "File \u001b[0;32m~/mambaforge/envs/transcription_pipeline/lib/python3.10/site-packages/trackpy/linking/linking.py:276\u001b[0m, in \u001b[0;36m<genexpr>\u001b[0;34m(.0)\u001b[0m\n\u001b[1;32m    273\u001b[0m f_iter, f_coords_iter \u001b[38;5;241m=\u001b[39m itertools\u001b[38;5;241m.\u001b[39mtee(f_iter)\n\u001b[1;32m    274\u001b[0m coords_iter \u001b[38;5;241m=\u001b[39m coords_from_df_iter(f_coords_iter, pos_columns, t_column)\n\u001b[0;32m--> 276\u001b[0m ids_iter \u001b[38;5;241m=\u001b[39m (_ids \u001b[38;5;28;01mfor\u001b[39;00m _i, _ids \u001b[38;5;129;01min\u001b[39;00m\n\u001b[1;32m    277\u001b[0m     link_iter(coords_iter, search_range, \u001b[38;5;241m*\u001b[39m\u001b[38;5;241m*\u001b[39mkwargs))\n\u001b[1;32m    278\u001b[0m \u001b[38;5;28;01mfor\u001b[39;00m df, ids \u001b[38;5;129;01min\u001b[39;00m \u001b[38;5;28mzip\u001b[39m(f_iter, ids_iter):\n\u001b[1;32m    279\u001b[0m     df_linked \u001b[38;5;241m=\u001b[39m df\u001b[38;5;241m.\u001b[39mcopy()\n",
      "File \u001b[0;32m~/mambaforge/envs/transcription_pipeline/lib/python3.10/site-packages/trackpy/linking/linking.py:102\u001b[0m, in \u001b[0;36mlink_iter\u001b[0;34m(coords_iter, search_range, **kwargs)\u001b[0m\n\u001b[1;32m     99\u001b[0m \u001b[38;5;28;01myield\u001b[39;00m t, linker\u001b[38;5;241m.\u001b[39mparticle_ids\n\u001b[1;32m    101\u001b[0m \u001b[38;5;28;01mfor\u001b[39;00m t, coords \u001b[38;5;129;01min\u001b[39;00m coords_iter:\n\u001b[0;32m--> 102\u001b[0m     \u001b[43mlinker\u001b[49m\u001b[38;5;241;43m.\u001b[39;49m\u001b[43mnext_level\u001b[49m\u001b[43m(\u001b[49m\u001b[43mcoords\u001b[49m\u001b[43m,\u001b[49m\u001b[43m \u001b[49m\u001b[43mt\u001b[49m\u001b[43m)\u001b[49m\n\u001b[1;32m    103\u001b[0m     logger\u001b[38;5;241m.\u001b[39minfo(\u001b[38;5;124m\"\u001b[39m\u001b[38;5;124mFrame \u001b[39m\u001b[38;5;132;01m{}\u001b[39;00m\u001b[38;5;124m: \u001b[39m\u001b[38;5;132;01m{}\u001b[39;00m\u001b[38;5;124m trajectories present.\u001b[39m\u001b[38;5;124m\"\u001b[39m\u001b[38;5;241m.\u001b[39mformat(t, \u001b[38;5;28mlen\u001b[39m(linker\u001b[38;5;241m.\u001b[39mparticle_ids)))\n\u001b[1;32m    104\u001b[0m     \u001b[38;5;28;01myield\u001b[39;00m t, linker\u001b[38;5;241m.\u001b[39mparticle_ids\n",
      "File \u001b[0;32m~/mambaforge/envs/transcription_pipeline/lib/python3.10/site-packages/trackpy/linking/linking.py:511\u001b[0m, in \u001b[0;36mLinker.next_level\u001b[0;34m(self, coords, t, extra_data)\u001b[0m\n\u001b[1;32m    507\u001b[0m prev_hash \u001b[38;5;241m=\u001b[39m \u001b[38;5;28mself\u001b[39m\u001b[38;5;241m.\u001b[39mupdate_hash(coords, t, extra_data)\n\u001b[1;32m    509\u001b[0m \u001b[38;5;28mself\u001b[39m\u001b[38;5;241m.\u001b[39msubnets \u001b[38;5;241m=\u001b[39m Subnets(prev_hash, \u001b[38;5;28mself\u001b[39m\u001b[38;5;241m.\u001b[39mhash, \u001b[38;5;28mself\u001b[39m\u001b[38;5;241m.\u001b[39msearch_range,\n\u001b[1;32m    510\u001b[0m                        \u001b[38;5;28mself\u001b[39m\u001b[38;5;241m.\u001b[39mMAX_NEIGHBORS)\n\u001b[0;32m--> 511\u001b[0m spl, dpl \u001b[38;5;241m=\u001b[39m \u001b[38;5;28;43mself\u001b[39;49m\u001b[38;5;241;43m.\u001b[39;49m\u001b[43massign_links\u001b[49m\u001b[43m(\u001b[49m\u001b[43m)\u001b[49m\n\u001b[1;32m    512\u001b[0m \u001b[38;5;28mself\u001b[39m\u001b[38;5;241m.\u001b[39mapply_links(spl, dpl)\n",
      "File \u001b[0;32m~/mambaforge/envs/transcription_pipeline/lib/python3.10/site-packages/trackpy/linking/linking.py:520\u001b[0m, in \u001b[0;36mLinker.assign_links\u001b[0;34m(self)\u001b[0m\n\u001b[1;32m    517\u001b[0m \u001b[38;5;28;01mfor\u001b[39;00m sp \u001b[38;5;129;01min\u001b[39;00m source_set:\n\u001b[1;32m    518\u001b[0m     sp\u001b[38;5;241m.\u001b[39mforward_cands\u001b[38;5;241m.\u001b[39msort(key\u001b[38;5;241m=\u001b[39m\u001b[38;5;28;01mlambda\u001b[39;00m x: x[\u001b[38;5;241m1\u001b[39m])\n\u001b[0;32m--> 520\u001b[0m sn_spl, sn_dpl \u001b[38;5;241m=\u001b[39m \u001b[38;5;28;43mself\u001b[39;49m\u001b[38;5;241;43m.\u001b[39;49m\u001b[43msubnet_linker\u001b[49m\u001b[43m(\u001b[49m\u001b[43msource_set\u001b[49m\u001b[43m,\u001b[49m\u001b[43m \u001b[49m\u001b[43mdest_set\u001b[49m\u001b[43m,\u001b[49m\n\u001b[1;32m    521\u001b[0m \u001b[43m                                    \u001b[49m\u001b[38;5;28;43mself\u001b[39;49m\u001b[38;5;241;43m.\u001b[39;49m\u001b[43msearch_range\u001b[49m\u001b[43m)\u001b[49m\n\u001b[1;32m    522\u001b[0m spl\u001b[38;5;241m.\u001b[39mextend(sn_spl)\n\u001b[1;32m    523\u001b[0m dpl\u001b[38;5;241m.\u001b[39mextend(sn_dpl)\n",
      "File \u001b[0;32m~/mambaforge/envs/transcription_pipeline/lib/python3.10/site-packages/trackpy/linking/subnetlinker.py:461\u001b[0m, in \u001b[0;36msubnet_linker_numba\u001b[0;34m(source_set, dest_set, search_range, hybrid, **kwargs)\u001b[0m\n\u001b[1;32m    459\u001b[0m     sn_spl, sn_dpl \u001b[38;5;241m=\u001b[39m recursive_linker_obj(source_set, lds, search_range, \u001b[38;5;241m*\u001b[39m\u001b[38;5;241m*\u001b[39mkwargs)\n\u001b[1;32m    460\u001b[0m \u001b[38;5;28;01melse\u001b[39;00m:\n\u001b[0;32m--> 461\u001b[0m     sn_spl, sn_dpl \u001b[38;5;241m=\u001b[39m \u001b[43mnumba_link\u001b[49m\u001b[43m(\u001b[49m\u001b[43msource_set\u001b[49m\u001b[43m,\u001b[49m\u001b[43m \u001b[49m\u001b[43mlds\u001b[49m\u001b[43m,\u001b[49m\u001b[43m \u001b[49m\u001b[43msearch_range\u001b[49m\u001b[43m,\u001b[49m\u001b[43m \u001b[49m\u001b[38;5;241;43m*\u001b[39;49m\u001b[38;5;241;43m*\u001b[39;49m\u001b[43mkwargs\u001b[49m\u001b[43m)\u001b[49m\n\u001b[1;32m    463\u001b[0m \u001b[38;5;28;01mfor\u001b[39;00m dp \u001b[38;5;129;01min\u001b[39;00m dest_set \u001b[38;5;241m-\u001b[39m \u001b[38;5;28mset\u001b[39m(sn_dpl):\n\u001b[1;32m    464\u001b[0m     \u001b[38;5;66;03m# Unclaimed destination particle in subnet\u001b[39;00m\n\u001b[1;32m    465\u001b[0m     sn_spl\u001b[38;5;241m.\u001b[39mappend(\u001b[38;5;28;01mNone\u001b[39;00m)\n",
      "File \u001b[0;32m~/mambaforge/envs/transcription_pipeline/lib/python3.10/site-packages/trackpy/linking/subnetlinker.py:189\u001b[0m, in \u001b[0;36mnumba_link\u001b[0;34m(s_sn, dest_size, search_range, max_size, diag)\u001b[0m\n\u001b[1;32m    187\u001b[0m nj \u001b[38;5;241m=\u001b[39m \u001b[38;5;28mlen\u001b[39m(src_net) \u001b[38;5;66;03m# j will index the source particles\u001b[39;00m\n\u001b[1;32m    188\u001b[0m \u001b[38;5;28;01mif\u001b[39;00m nj \u001b[38;5;241m>\u001b[39m max_size:\n\u001b[0;32m--> 189\u001b[0m     \u001b[38;5;28;01mraise\u001b[39;00m SubnetOversizeException(\u001b[38;5;124m'\u001b[39m\u001b[38;5;124msearch_range (aka maxdisp) too large for reasonable performance \u001b[39m\u001b[38;5;124m'\u001b[39m\n\u001b[1;32m    190\u001b[0m                                   \u001b[38;5;124m'\u001b[39m\u001b[38;5;124mon these data (sub net contains \u001b[39m\u001b[38;5;132;01m%d\u001b[39;00m\u001b[38;5;124m points)\u001b[39m\u001b[38;5;124m'\u001b[39m \u001b[38;5;241m%\u001b[39m nj)\n\u001b[1;32m    191\u001b[0m \u001b[38;5;66;03m# Build arrays of all destination (forward) candidates and their distances\u001b[39;00m\n\u001b[1;32m    192\u001b[0m dcands \u001b[38;5;241m=\u001b[39m \u001b[38;5;28mset\u001b[39m()\n",
      "\u001b[0;31mSubnetOversizeException\u001b[0m: search_range (aka maxdisp) too large for reasonable performance on these data (sub net contains 146 points)"
     ]
    }
   ],
   "source": [
    "%%time\n",
    "\n",
    "nuclear_tracking.track_nuclei()"
   ]
  },
  {
   "cell_type": "code",
   "execution_count": 16,
   "id": "f8fc7271-c790-4eb3-ac80-83e987d5ab50",
   "metadata": {},
   "outputs": [
    {
     "data": {
      "text/plain": [
       "{'denoise_params': {'denoising': 'gaussian',\n",
       "  'denoising_sigma': array([0.94679453, 1.15978779, 1.15978755])},\n",
       " 'binarize_params': {'thresholding': 'global_otsu',\n",
       "  'closing_footprint': array([[[False,  True, False],\n",
       "          [ True,  True,  True],\n",
       "          [False,  True, False]],\n",
       "  \n",
       "         [[ True,  True,  True],\n",
       "          [ True,  True,  True],\n",
       "          [ True,  True,  True]],\n",
       "  \n",
       "         [[False,  True, False],\n",
       "          [ True,  True,  True],\n",
       "          [False,  True, False]]]),\n",
       "  'cc_min_span': array([ 0.        , 46.39151144, 46.39150213]),\n",
       "  'background_max_span': array([   9,  256, 1024]),\n",
       "  'background_sigma': array([ 0.37871781, 46.39151144, 46.39150213]),\n",
       "  'background_threshold_method': 'otsu',\n",
       "  'background_dilation_footprint': array([[[False,  True, False],\n",
       "          [ True,  True,  True],\n",
       "          [False,  True, False]],\n",
       "  \n",
       "         [[ True,  True,  True],\n",
       "          [ True,  True,  True],\n",
       "          [ True,  True,  True]],\n",
       "  \n",
       "         [[False,  True, False],\n",
       "          [ True,  True,  True],\n",
       "          [False,  True, False]]])},\n",
       " 'mark_params': {'low_sigma': array([5.17057978, 6.33376631, 6.33376504]),\n",
       "  'high_sigma': array([25.8528989 , 31.66883155, 31.6688252 ]),\n",
       "  'max_footprint': ((1, 24),\n",
       "   array([[[False, False, False],\n",
       "           [False,  True, False],\n",
       "           [False, False, False]],\n",
       "   \n",
       "          [[False,  True, False],\n",
       "           [ True,  True,  True],\n",
       "           [False,  True, False]],\n",
       "   \n",
       "          [[ True,  True,  True],\n",
       "           [ True,  True,  True],\n",
       "           [ True,  True,  True]],\n",
       "   \n",
       "          [[False,  True, False],\n",
       "           [ True,  True,  True],\n",
       "           [False,  True, False]],\n",
       "   \n",
       "          [[False, False, False],\n",
       "           [False,  True, False],\n",
       "           [False, False, False]]])),\n",
       "  'max_diff': 1},\n",
       " 'segment_params': {'watershed_method': 'raw', 'min_size': 266.7296693213742},\n",
       " 'segmentation_df_params': {'num_nuclei_per_fov': {12: array([42.97259115, 77.35066407]),\n",
       "   13: array([103.13421876, 154.70132813]),\n",
       "   14: array([206.26843751, 343.78072919])},\n",
       "  'division_peak_height': 0.1,\n",
       "  'min_time_between_divisions': 10},\n",
       " 'link_df_params': {'search_range': 23.19575571815446,\n",
       "  'memory': 1,\n",
       "  'pos_columns': ['y', 'x'],\n",
       "  't_column': 'frame_reverse',\n",
       "  'velocity_predict': True,\n",
       "  'velocity_averaging': 2,\n",
       "  'reindex': True},\n",
       " 'construct_lineage_params': {'pos_columns': ['y', 'x'],\n",
       "  'search_range_mitosis': 46.39151143630892,\n",
       "  'adaptive_stop': 0.05,\n",
       "  'adaptive_step': 0.99,\n",
       "  'antiparallel_coordinate': 'collision',\n",
       "  'antiparallel_weight': None,\n",
       "  'min_track_length': 3,\n",
       "  'image_dimensions': array([ 256, 1024]),\n",
       "  'exclude_border': 0.02,\n",
       "  'minimum_age': 4}}"
      ]
     },
     "execution_count": 16,
     "metadata": {},
     "output_type": "execute_result"
    }
   ],
   "source": [
    "nuclear_tracking.default_params"
   ]
  },
  {
   "cell_type": "code",
   "execution_count": 10,
   "id": "25fdd859-2461-45e7-ad48-17a99b97dea6",
   "metadata": {},
   "outputs": [],
   "source": [
    "viewer = napari.view_image(nuclear_channel)\n",
    "napari.run()"
   ]
  },
  {
   "cell_type": "code",
   "execution_count": 11,
   "id": "af0405e1-4549-42d7-9d9f-6be97de346a6",
   "metadata": {},
   "outputs": [],
   "source": [
    "labels = nuclear_tracking.labels_futures"
   ]
  },
  {
   "cell_type": "code",
   "execution_count": 12,
   "id": "72cbda69-7104-4436-a49c-43d55f34d711",
   "metadata": {},
   "outputs": [],
   "source": [
    "import numpy as np"
   ]
  },
  {
   "cell_type": "code",
   "execution_count": 13,
   "id": "65a1c380-b46c-43da-a976-ce5dc637cf3d",
   "metadata": {},
   "outputs": [],
   "source": [
    "labels = np.concatenate(client.gather(labels))"
   ]
  },
  {
   "cell_type": "code",
   "execution_count": 14,
   "id": "0b6d0bdd-4b14-431b-8d96-a91d18cf6e9c",
   "metadata": {},
   "outputs": [],
   "source": [
    "labels = labels.reshape(nuclear_channel.shape)"
   ]
  },
  {
   "cell_type": "code",
   "execution_count": 15,
   "id": "1b65f799-ee45-4f75-b633-dd7c97dbc7d3",
   "metadata": {},
   "outputs": [
    {
     "data": {
      "text/plain": [
       "<Labels layer 'labels' at 0x7f9819661300>"
      ]
     },
     "execution_count": 15,
     "metadata": {},
     "output_type": "execute_result"
    }
   ],
   "source": [
    "viewer.add_labels(labels)"
   ]
  },
  {
   "cell_type": "code",
   "execution_count": 10,
   "id": "3be2444a-678f-4389-9bc7-cb4b6fd760ba",
   "metadata": {},
   "outputs": [
    {
     "data": {
      "text/plain": [
       "<Labels layer 'Labels' at 0x7ff6fdfc5810>"
      ]
     },
     "execution_count": 10,
     "metadata": {},
     "output_type": "execute_result"
    }
   ],
   "source": [
    "viewer.add_labels(nuclear_tracking.reordered_labels)"
   ]
  },
  {
   "cell_type": "code",
   "execution_count": 13,
   "id": "56de5c76-fc39-4e7f-b1b3-f0df8358e489",
   "metadata": {},
   "outputs": [],
   "source": [
    "cluster.close()"
   ]
  },
  {
   "cell_type": "code",
   "execution_count": 184,
   "id": "d4c8ac4f-8ad3-4ddb-8856-68e8077fd6b4",
   "metadata": {},
   "outputs": [
    {
     "name": "stderr",
     "output_type": "stream",
     "text": [
      "/home/ybadal/Documents/Berkeley/github_repositories/transcription_pipeline/pipeline.py:40: UserWarning: Resolution is anisotropic in X and Y, segmentation parameters should be handled manually.\n",
      "  warnings.warn(\n"
     ]
    }
   ],
   "source": [
    "nuclear_tracking = pipeline.Nuclear(\n",
    "    data=nuclear_channel,\n",
    "    global_metadata=export_global_metadata[1],\n",
    "    frame_metadata=nuclear_channel_metadata,\n",
    "    client=client,\n",
    ")"
   ]
  },
  {
   "cell_type": "code",
   "execution_count": 22,
   "id": "a755166b-a2c3-46de-866a-3434ed0b59b8",
   "metadata": {},
   "outputs": [],
   "source": [
    "mask = nuclear_tracking.reordered_labels > 0"
   ]
  },
  {
   "cell_type": "code",
   "execution_count": 15,
   "id": "44b77e9f-e9a5-4577-b56f-9bb4e2abf8f1",
   "metadata": {},
   "outputs": [],
   "source": [
    "from skimage.segmentation import expand_labels"
   ]
  },
  {
   "cell_type": "code",
   "execution_count": null,
   "id": "2242d5ac-27b5-459f-af8c-1429adea17fc",
   "metadata": {},
   "outputs": [],
   "source": [
    "expand_labels(mask[20])"
   ]
  },
  {
   "cell_type": "code",
   "execution_count": 185,
   "id": "bfd2711b-bb32-42a4-a489-b0607ed935c1",
   "metadata": {},
   "outputs": [
    {
     "data": {
      "text/plain": [
       "{'denoise_params': {'denoising': 'gaussian',\n",
       "  'denoising_sigma': array([1.06725195, 2.        , 2.        ])},\n",
       " 'binarize_params': {'thresholding': 'global_otsu',\n",
       "  'closing_footprint': array([[[False,  True, False],\n",
       "          [ True,  True,  True],\n",
       "          [False,  True, False]],\n",
       "  \n",
       "         [[ True,  True,  True],\n",
       "          [ True,  True,  True],\n",
       "          [ True,  True,  True]],\n",
       "  \n",
       "         [[False,  True, False],\n",
       "          [ True,  True,  True],\n",
       "          [False,  True, False]]]),\n",
       "  'cc_min_span': array([ 0.        , 39.54547443, 39.54547213]),\n",
       "  'background_max_span': array([  5, 256, 512]),\n",
       "  'background_sigma': array([ 0.80043896, 39.54547443, 39.54547213]),\n",
       "  'background_threshold_method': 'li'},\n",
       " 'mark_params': {'low_sigma': array([4.37131119, 5.39908673, 5.39908641]),\n",
       "  'high_sigma': array([21.85655594, 26.99543364, 26.99543207]),\n",
       "  'max_footprint': ((1, 20),\n",
       "   array([[[False,  True, False],\n",
       "           [ True,  True,  True],\n",
       "           [False,  True, False]],\n",
       "   \n",
       "          [[ True,  True,  True],\n",
       "           [ True,  True,  True],\n",
       "           [ True,  True,  True]],\n",
       "   \n",
       "          [[False,  True, False],\n",
       "           [ True,  True,  True],\n",
       "           [False,  True, False]]])),\n",
       "  'max_diff': 1},\n",
       " 'segment_params': {'watershed_method': 'raw', 'min_size': 163.85526683623587},\n",
       " 'segmentation_df_params': {'num_nuclei_per_fov': {12: array([29.56956581, 53.22521846]),\n",
       "   13: array([ 70.96695795, 106.45043693]),\n",
       "   14: array([141.9339159 , 236.55652651])},\n",
       "  'division_peak_height': 0.1,\n",
       "  'min_time_between_divisions': 10},\n",
       " 'link_df_params': {'search_range': 19.772737216999236,\n",
       "  'memory': 1,\n",
       "  'pos_columns': ['y', 'x'],\n",
       "  't_column': 'frame_reverse',\n",
       "  'velocity_predict': True,\n",
       "  'velocity_averaging': 2,\n",
       "  'reindex': True},\n",
       " 'construct_lineage_params': {'pos_columns': ['y', 'x'],\n",
       "  'search_range_mitosis': 39.54547443399847,\n",
       "  'adaptive_stop': 0.05,\n",
       "  'adaptive_step': 0.99,\n",
       "  'antiparallel_coordinate': 'collision',\n",
       "  'antiparallel_weight': None,\n",
       "  'min_track_length': 3,\n",
       "  'image_dimensions': array([256, 512]),\n",
       "  'exclude_border': 0.02,\n",
       "  'minimum_age': 4}}"
      ]
     },
     "execution_count": 185,
     "metadata": {},
     "output_type": "execute_result"
    }
   ],
   "source": [
    "nuclear_tracking.default_params"
   ]
  },
  {
   "cell_type": "code",
   "execution_count": 9,
   "id": "2f2c5d17-ef13-4aa4-92e2-25772779a9d7",
   "metadata": {},
   "outputs": [
    {
     "ename": "AttributeError",
     "evalue": "'Nuclear' object has no attribute 'reordered_labels'",
     "output_type": "error",
     "traceback": [
      "\u001b[0;31m---------------------------------------------------------------------------\u001b[0m",
      "\u001b[0;31mAttributeError\u001b[0m                            Traceback (most recent call last)",
      "Cell \u001b[0;32mIn[9], line 1\u001b[0m\n\u001b[0;32m----> 1\u001b[0m nuclear_segmentation \u001b[38;5;241m=\u001b[39m \u001b[43mnuclear_tracking\u001b[49m\u001b[38;5;241;43m.\u001b[39;49m\u001b[43mreordered_labels\u001b[49m\n",
      "\u001b[0;31mAttributeError\u001b[0m: 'Nuclear' object has no attribute 'reordered_labels'"
     ]
    }
   ],
   "source": [
    "nuclear_segmentation = nuclear_tracking.reordered_labels"
   ]
  },
  {
   "cell_type": "code",
   "execution_count": 11,
   "id": "28cd045a-0290-4b66-bca8-aee2a3c51c21",
   "metadata": {},
   "outputs": [],
   "source": [
    "viewer = napari.view_image(nuclear_channel)\n",
    "viewer.add_labels(nuclear_segmentation)\n",
    "napari.run()"
   ]
  },
  {
   "cell_type": "code",
   "execution_count": 14,
   "id": "d7fac01a-21a0-41a4-9049-59d7e72943b9",
   "metadata": {},
   "outputs": [],
   "source": [
    "import numpy as np"
   ]
  },
  {
   "cell_type": "code",
   "execution_count": 15,
   "id": "7b8451c0-0c71-40ff-8c51-92307c2daec5",
   "metadata": {},
   "outputs": [],
   "source": [
    "nuclear_segmentation = np.concatenate(client.gather(nuclear_segmentation))"
   ]
  },
  {
   "cell_type": "code",
   "execution_count": 12,
   "id": "6d1b7f4a-0bfa-4d25-8c92-eed1e7e8ab20",
   "metadata": {},
   "outputs": [
    {
     "ename": "AttributeError",
     "evalue": "'Nuclear' object has no attribute 'reordered_labels_futures'",
     "output_type": "error",
     "traceback": [
      "\u001b[0;31m---------------------------------------------------------------------------\u001b[0m",
      "\u001b[0;31mAttributeError\u001b[0m                            Traceback (most recent call last)",
      "Cell \u001b[0;32mIn[12], line 1\u001b[0m\n\u001b[0;32m----> 1\u001b[0m nuclear_labels_futures \u001b[38;5;241m=\u001b[39m \u001b[43mnuclear_tracking\u001b[49m\u001b[38;5;241;43m.\u001b[39;49m\u001b[43mreordered_labels_futures\u001b[49m\n",
      "\u001b[0;31mAttributeError\u001b[0m: 'Nuclear' object has no attribute 'reordered_labels_futures'"
     ]
    }
   ],
   "source": [
    "nuclear_labels_futures = nuclear_tracking.reordered_labels_futures"
   ]
  },
  {
   "cell_type": "code",
   "execution_count": 16,
   "id": "289ff288-ed14-43e7-b444-a51e36b2a6ae",
   "metadata": {},
   "outputs": [],
   "source": [
    "test_mask = client.gather(nuclear_tracking.mask_futures)"
   ]
  },
  {
   "cell_type": "code",
   "execution_count": 17,
   "id": "56c7a038-0867-4c4a-a67e-da991669dc0e",
   "metadata": {},
   "outputs": [],
   "source": [
    "import numpy as np"
   ]
  },
  {
   "cell_type": "code",
   "execution_count": 18,
   "id": "9e671141-1184-47b9-a664-4e323e1d33f6",
   "metadata": {},
   "outputs": [
    {
     "ename": "TypeError",
     "evalue": "dispatcher for __array_function__ did not return an iterable",
     "output_type": "error",
     "traceback": [
      "\u001b[0;31m---------------------------------------------------------------------------\u001b[0m",
      "\u001b[0;31mTypeError\u001b[0m                                 Traceback (most recent call last)",
      "Cell \u001b[0;32mIn[18], line 1\u001b[0m\n\u001b[0;32m----> 1\u001b[0m test_mask \u001b[38;5;241m=\u001b[39m \u001b[43mnp\u001b[49m\u001b[38;5;241;43m.\u001b[39;49m\u001b[43mconcatenate\u001b[49m\u001b[43m(\u001b[49m\u001b[43mtest_mask\u001b[49m\u001b[43m)\u001b[49m\n",
      "File \u001b[0;32m<__array_function__ internals>:200\u001b[0m, in \u001b[0;36mconcatenate\u001b[0;34m(*args, **kwargs)\u001b[0m\n",
      "\u001b[0;31mTypeError\u001b[0m: dispatcher for __array_function__ did not return an iterable"
     ]
    }
   ],
   "source": [
    "test_mask = np.concatenate(test_mask)"
   ]
  },
  {
   "cell_type": "code",
   "execution_count": 22,
   "id": "62118768-2250-4614-8ce2-1e44e6c9642d",
   "metadata": {},
   "outputs": [
    {
     "data": {
      "text/plain": [
       "<Image layer 'frame_test' at 0x7fec1c5cb5e0>"
      ]
     },
     "execution_count": 22,
     "metadata": {},
     "output_type": "execute_result"
    }
   ],
   "source": [
    "viewer.add_image(frame_test)"
   ]
  },
  {
   "cell_type": "code",
   "execution_count": 20,
   "id": "ce672ccf-5289-4614-8551-5e562607be8e",
   "metadata": {},
   "outputs": [
    {
     "data": {
      "text/plain": [
       "<Labels layer 'nuclear_segmentation' at 0x7fa11bf123b0>"
      ]
     },
     "execution_count": 20,
     "metadata": {},
     "output_type": "execute_result"
    }
   ],
   "source": [
    "viewer.add_labels(nuclear_segmentation)"
   ]
  },
  {
   "cell_type": "code",
   "execution_count": 24,
   "id": "07d9f7a0-9575-42a7-a5c6-1dc1bbc65644",
   "metadata": {},
   "outputs": [],
   "source": [
    "from nuclear_analysis.segmentation import ellipsoid"
   ]
  },
  {
   "cell_type": "code",
   "execution_count": 31,
   "id": "b1578326-ae37-43e0-8963-580e6ff9df0b",
   "metadata": {},
   "outputs": [],
   "source": [
    "from skimage.filters import difference_of_gaussians\n",
    "import numpy as np"
   ]
  },
  {
   "cell_type": "code",
   "execution_count": 41,
   "id": "75c7ec45-d138-4c71-8f74-d83ce06d4978",
   "metadata": {},
   "outputs": [],
   "source": [
    "low_sigma = np.array([1.17057978, 10.33376631, 10.33376504])\n",
    "high_sigma = np.array([10.8528989, 15.66883155, 15.6688252])"
   ]
  },
  {
   "cell_type": "code",
   "execution_count": 42,
   "id": "88d1829b-7788-4794-9fef-9d0735d19e9b",
   "metadata": {},
   "outputs": [],
   "source": [
    "dog_test = difference_of_gaussians(\n",
    "    frame_test, low_sigma=low_sigma, high_sigma=high_sigma\n",
    ")"
   ]
  },
  {
   "cell_type": "code",
   "execution_count": 43,
   "id": "eafa9b3f-359b-4ae7-821b-fd8ddc95333e",
   "metadata": {},
   "outputs": [
    {
     "data": {
      "text/plain": [
       "<Image layer 'dog_test' at 0x7fec8e44a6e0>"
      ]
     },
     "execution_count": 43,
     "metadata": {},
     "output_type": "execute_result"
    }
   ],
   "source": [
    "viewer.add_image(dog_test)"
   ]
  },
  {
   "cell_type": "code",
   "execution_count": 44,
   "id": "ad21da75-0bf0-40c6-aac0-7c9d8971b244",
   "metadata": {},
   "outputs": [],
   "source": [
    "import matplotlib.pyplot as plt"
   ]
  },
  {
   "cell_type": "code",
   "execution_count": 51,
   "id": "63cba0ca-c623-4bd8-aa70-a1ff765d1697",
   "metadata": {},
   "outputs": [
    {
     "data": {
      "text/plain": [
       "(array([1.068612e+06, 0.000000e+00, 9.781400e+05, 0.000000e+00,\n",
       "        4.765800e+05, 0.000000e+00, 1.658520e+05, 0.000000e+00,\n",
       "        4.731100e+04, 0.000000e+00, 0.000000e+00, 1.184000e+04,\n",
       "        0.000000e+00, 2.890000e+03, 0.000000e+00, 7.100000e+02,\n",
       "        0.000000e+00, 2.130000e+02, 0.000000e+00, 0.000000e+00,\n",
       "        1.140000e+02, 0.000000e+00, 6.800000e+01, 0.000000e+00,\n",
       "        4.200000e+01, 0.000000e+00, 3.200000e+01, 0.000000e+00,\n",
       "        2.900000e+01, 0.000000e+00, 0.000000e+00, 1.100000e+01,\n",
       "        0.000000e+00, 2.000000e+01, 0.000000e+00, 1.000000e+01,\n",
       "        0.000000e+00, 1.300000e+01, 0.000000e+00, 0.000000e+00,\n",
       "        1.000000e+01, 0.000000e+00, 2.000000e+00, 0.000000e+00,\n",
       "        3.000000e+00, 0.000000e+00, 4.000000e+00, 0.000000e+00,\n",
       "        3.000000e+00, 0.000000e+00, 0.000000e+00, 1.000000e+00,\n",
       "        0.000000e+00, 0.000000e+00, 0.000000e+00, 1.000000e+00,\n",
       "        0.000000e+00, 0.000000e+00, 0.000000e+00, 1.000000e+00]),\n",
       " array([ 0.  ,  0.45,  0.9 ,  1.35,  1.8 ,  2.25,  2.7 ,  3.15,  3.6 ,\n",
       "         4.05,  4.5 ,  4.95,  5.4 ,  5.85,  6.3 ,  6.75,  7.2 ,  7.65,\n",
       "         8.1 ,  8.55,  9.  ,  9.45,  9.9 , 10.35, 10.8 , 11.25, 11.7 ,\n",
       "        12.15, 12.6 , 13.05, 13.5 , 13.95, 14.4 , 14.85, 15.3 , 15.75,\n",
       "        16.2 , 16.65, 17.1 , 17.55, 18.  , 18.45, 18.9 , 19.35, 19.8 ,\n",
       "        20.25, 20.7 , 21.15, 21.6 , 22.05, 22.5 , 22.95, 23.4 , 23.85,\n",
       "        24.3 , 24.75, 25.2 , 25.65, 26.1 , 26.55, 27.  ]),\n",
       " <BarContainer object of 60 artists>)"
      ]
     },
     "execution_count": 51,
     "metadata": {},
     "output_type": "execute_result"
    },
    {
     "data": {
      "image/png": "[encoded data removed]",
      "text/plain": [
       "<Figure size 640x480 with 1 Axes>"
      ]
     },
     "metadata": {},
     "output_type": "display_data"
    }
   ],
   "source": [
    "plt.hist(frame_test.flatten(), bins=60)"
   ]
  },
  {
   "cell_type": "code",
   "execution_count": 59,
   "id": "662a4456-5eda-490d-9ea2-1b5b6a6adcac",
   "metadata": {},
   "outputs": [
    {
     "data": {
      "text/plain": [
       "(array([5.00000e+00, 1.30000e+01, 2.10000e+01, 3.30000e+01, 4.90000e+01,\n",
       "        6.40000e+01, 8.20000e+01, 1.06000e+02, 1.17000e+02, 1.64000e+02,\n",
       "        1.80000e+02, 2.10000e+02, 2.61000e+02, 3.11000e+02, 3.58000e+02,\n",
       "        4.39000e+02, 5.26000e+02, 6.88000e+02, 1.11600e+03, 1.32700e+03,\n",
       "        1.53000e+03, 1.86200e+03, 1.59400e+03, 1.45700e+03, 1.48000e+03,\n",
       "        1.62200e+03, 1.92500e+03, 2.30800e+03, 3.47500e+03, 7.45000e+03,\n",
       "        1.89410e+04, 4.08570e+04, 6.50630e+04, 8.57320e+04, 1.00173e+05,\n",
       "        1.05078e+05, 1.05872e+05, 1.05914e+05, 1.04961e+05, 1.04884e+05,\n",
       "        1.04332e+05, 1.02627e+05, 1.00856e+05, 9.89930e+04, 9.79360e+04,\n",
       "        9.65090e+04, 9.50500e+04, 9.09530e+04, 9.05590e+04, 8.80150e+04,\n",
       "        8.53600e+04, 8.28960e+04, 7.67920e+04, 7.08450e+04, 6.52300e+04,\n",
       "        5.75310e+04, 5.20230e+04, 4.64750e+04, 4.24070e+04, 3.91360e+04,\n",
       "        3.48890e+04, 3.02030e+04, 2.70140e+04, 2.50990e+04, 2.30080e+04,\n",
       "        1.99880e+04, 1.81730e+04, 1.49860e+04, 1.37660e+04, 1.15670e+04,\n",
       "        1.05710e+04, 9.35400e+03, 8.13900e+03, 7.46200e+03, 6.21200e+03,\n",
       "        5.65100e+03, 4.78900e+03, 4.15200e+03, 3.65400e+03, 2.85500e+03,\n",
       "        2.21300e+03, 2.06200e+03, 1.84500e+03, 1.64100e+03, 1.49800e+03,\n",
       "        1.31300e+03, 1.17700e+03, 9.69000e+02, 8.88000e+02, 8.48000e+02,\n",
       "        6.49000e+02, 6.07000e+02, 5.66000e+02, 4.55000e+02, 3.74000e+02,\n",
       "        3.45000e+02, 2.87000e+02, 1.67000e+02, 1.62000e+02, 1.41000e+02]),\n",
       " array([7.48662421e-06, 7.68000577e-06, 7.87338732e-06, 8.06676888e-06,\n",
       "        8.26015044e-06, 8.45353200e-06, 8.64691356e-06, 8.84029512e-06,\n",
       "        9.03367668e-06, 9.22705823e-06, 9.42043979e-06, 9.61382135e-06,\n",
       "        9.80720291e-06, 1.00005845e-05, 1.01939660e-05, 1.03873476e-05,\n",
       "        1.05807291e-05, 1.07741107e-05, 1.09674923e-05, 1.11608738e-05,\n",
       "        1.13542554e-05, 1.15476369e-05, 1.17410185e-05, 1.19344001e-05,\n",
       "        1.21277816e-05, 1.23211632e-05, 1.25145447e-05, 1.27079263e-05,\n",
       "        1.29013078e-05, 1.30946894e-05, 1.32880710e-05, 1.34814525e-05,\n",
       "        1.36748341e-05, 1.38682156e-05, 1.40615972e-05, 1.42549788e-05,\n",
       "        1.44483603e-05, 1.46417419e-05, 1.48351234e-05, 1.50285050e-05,\n",
       "        1.52218866e-05, 1.54152681e-05, 1.56086497e-05, 1.58020312e-05,\n",
       "        1.59954128e-05, 1.61887943e-05, 1.63821759e-05, 1.65755575e-05,\n",
       "        1.67689390e-05, 1.69623206e-05, 1.71557021e-05, 1.73490837e-05,\n",
       "        1.75424653e-05, 1.77358468e-05, 1.79292284e-05, 1.81226099e-05,\n",
       "        1.83159915e-05, 1.85093731e-05, 1.87027546e-05, 1.88961362e-05,\n",
       "        1.90895177e-05, 1.92828993e-05, 1.94762808e-05, 1.96696624e-05,\n",
       "        1.98630440e-05, 2.00564255e-05, 2.02498071e-05, 2.04431886e-05,\n",
       "        2.06365702e-05, 2.08299518e-05, 2.10233333e-05, 2.12167149e-05,\n",
       "        2.14100964e-05, 2.16034780e-05, 2.17968595e-05, 2.19902411e-05,\n",
       "        2.21836227e-05, 2.23770042e-05, 2.25703858e-05, 2.27637673e-05,\n",
       "        2.29571489e-05, 2.31505305e-05, 2.33439120e-05, 2.35372936e-05,\n",
       "        2.37306751e-05, 2.39240567e-05, 2.41174383e-05, 2.43108198e-05,\n",
       "        2.45042014e-05, 2.46975829e-05, 2.48909645e-05, 2.50843460e-05,\n",
       "        2.52777276e-05, 2.54711092e-05, 2.56644907e-05, 2.58578723e-05,\n",
       "        2.60512538e-05, 2.62446354e-05, 2.64380170e-05, 2.66313985e-05,\n",
       "        2.68247801e-05]),\n",
       " <BarContainer object of 100 artists>)"
      ]
     },
     "execution_count": 59,
     "metadata": {},
     "output_type": "execute_result"
    },
    {
     "data": {
      "image/png": "[encoded data removed]",
      "text/plain": [
       "<Figure size 640x480 with 1 Axes>"
      ]
     },
     "metadata": {},
     "output_type": "display_data"
    }
   ],
   "source": [
    "plt.hist(gaussian_test.flatten(), bins=100, log=False)"
   ]
  },
  {
   "cell_type": "code",
   "execution_count": 92,
   "id": "dfbdf1b1-5b02-463a-a884-4a42822c403f",
   "metadata": {},
   "outputs": [
    {
     "data": {
      "text/plain": [
       "(21, 256, 512)"
      ]
     },
     "execution_count": 92,
     "metadata": {},
     "output_type": "execute_result"
    }
   ],
   "source": [
    "frame_test.shape"
   ]
  },
  {
   "cell_type": "code",
   "execution_count": 17,
   "id": "9b17c25d-1062-4ab4-8ecc-b149b1672f53",
   "metadata": {},
   "outputs": [],
   "source": [
    "frame_test = nuclear_channel[34]"
   ]
  },
  {
   "cell_type": "code",
   "execution_count": 126,
   "id": "bf1f8079-9fd1-423a-abc8-3dc746da4905",
   "metadata": {},
   "outputs": [],
   "source": [
    "frame_test = frame_test[:19]"
   ]
  },
  {
   "cell_type": "code",
   "execution_count": 4,
   "id": "97a556e6-7e99-4071-82c6-a0ef4a62344e",
   "metadata": {},
   "outputs": [],
   "source": [
    "viewer = napari.view_image(frame_test)\n",
    "napari.run()"
   ]
  },
  {
   "cell_type": "code",
   "execution_count": 127,
   "id": "64325311-0962-4af9-88d0-a05fcf7c8942",
   "metadata": {},
   "outputs": [
    {
     "data": {
      "text/plain": [
       "<Image layer 'frame_test' at 0x7f3e9475f370>"
      ]
     },
     "execution_count": 127,
     "metadata": {},
     "output_type": "execute_result"
    }
   ],
   "source": [
    "viewer.add_image(frame_test)"
   ]
  },
  {
   "cell_type": "code",
   "execution_count": 5,
   "id": "fe94487d-38e6-48e6-988b-dbef36911033",
   "metadata": {},
   "outputs": [],
   "source": [
    "from skimage.filters import gaussian"
   ]
  },
  {
   "cell_type": "code",
   "execution_count": 6,
   "id": "3d621c09-0fc6-4dfd-ba50-e048bbe85711",
   "metadata": {},
   "outputs": [],
   "source": [
    "gaussian_test = gaussian(frame_test, sigma=[0.5, 30, 30])"
   ]
  },
  {
   "cell_type": "code",
   "execution_count": 7,
   "id": "a0d9ff62-7aa8-4a0e-b4aa-218656eefacc",
   "metadata": {},
   "outputs": [
    {
     "data": {
      "text/plain": [
       "<Image layer 'gaussian_test' at 0x7f3e3c4f2c50>"
      ]
     },
     "execution_count": 7,
     "metadata": {},
     "output_type": "execute_result"
    }
   ],
   "source": [
    "viewer.add_image(gaussian_test)"
   ]
  },
  {
   "cell_type": "code",
   "execution_count": 19,
   "id": "cd96c51c-db39-420d-9031-4987afd0c2f7",
   "metadata": {},
   "outputs": [],
   "source": [
    "from skimage.filters import threshold_otsu, threshold_li, threshold_triangle"
   ]
  },
  {
   "cell_type": "code",
   "execution_count": 9,
   "id": "3d9c4d3d-13cb-4df1-9a6f-3abb65229d5d",
   "metadata": {},
   "outputs": [],
   "source": [
    "test_threshold = threshold_otsu(gaussian_test)"
   ]
  },
  {
   "cell_type": "code",
   "execution_count": 10,
   "id": "32529634-5810-49f4-a5a8-39f6e714b662",
   "metadata": {},
   "outputs": [
    {
     "data": {
      "text/plain": [
       "1.7551364506959035e-05"
      ]
     },
     "execution_count": 10,
     "metadata": {},
     "output_type": "execute_result"
    }
   ],
   "source": [
    "test_threshold"
   ]
  },
  {
   "cell_type": "code",
   "execution_count": 11,
   "id": "78548af8-28b8-4f34-bf68-8db51b484d24",
   "metadata": {},
   "outputs": [],
   "source": [
    "otsu = gaussian_test > test_threshold"
   ]
  },
  {
   "cell_type": "code",
   "execution_count": 17,
   "id": "b79d4444-5bad-4c7a-a2bf-bb1e1fa4d7fc",
   "metadata": {},
   "outputs": [
    {
     "data": {
      "text/plain": [
       "<Labels layer 'otsu' at 0x7f3e9a383c10>"
      ]
     },
     "execution_count": 17,
     "metadata": {},
     "output_type": "execute_result"
    }
   ],
   "source": [
    "viewer.add_labels(otsu)"
   ]
  },
  {
   "cell_type": "code",
   "execution_count": 16,
   "id": "400d1708-2ede-4a3a-beb7-dfcc66ac9abd",
   "metadata": {},
   "outputs": [],
   "source": [
    "li = gaussian_test > threshold_li(gaussian_test, initial_guess=test_threshold)"
   ]
  },
  {
   "cell_type": "code",
   "execution_count": 18,
   "id": "3b77894d-b422-4619-8ca8-9fdc7c6e1732",
   "metadata": {},
   "outputs": [
    {
     "data": {
      "text/plain": [
       "<Labels layer 'li' at 0x7f3e99f01c00>"
      ]
     },
     "execution_count": 18,
     "metadata": {},
     "output_type": "execute_result"
    }
   ],
   "source": [
    "viewer.add_labels(li)"
   ]
  },
  {
   "cell_type": "code",
   "execution_count": 20,
   "id": "6b7778f2-ad29-404d-b30a-4fc8771e1c74",
   "metadata": {},
   "outputs": [],
   "source": [
    "triangle = gaussian_test > threshold_triangle(gaussian_test)"
   ]
  },
  {
   "cell_type": "code",
   "execution_count": 21,
   "id": "fc9f4320-544f-43a1-ac88-8335ea363445",
   "metadata": {},
   "outputs": [
    {
     "data": {
      "text/plain": [
       "<Labels layer 'triangle' at 0x7f3e9a0fa380>"
      ]
     },
     "execution_count": 21,
     "metadata": {},
     "output_type": "execute_result"
    }
   ],
   "source": [
    "viewer.add_labels(triangle)"
   ]
  },
  {
   "cell_type": "code",
   "execution_count": 36,
   "id": "8b36e7ca-0457-4f2e-a6eb-4e20d1c2ef0d",
   "metadata": {},
   "outputs": [],
   "source": [
    "from skimage.measure import label, regionprops\n",
    "import numpy as np"
   ]
  },
  {
   "cell_type": "code",
   "execution_count": 53,
   "id": "3ec3830f-a9aa-4ac0-bacb-26078686d91c",
   "metadata": {},
   "outputs": [],
   "source": [
    "labelled_lowpass = label(otsu)"
   ]
  },
  {
   "cell_type": "code",
   "execution_count": 54,
   "id": "33f043e3-24da-4b3b-ad00-04cd9ea45c11",
   "metadata": {},
   "outputs": [
    {
     "data": {
      "text/plain": [
       "<Labels layer 'labelled_lowpass' at 0x7fee396dafe0>"
      ]
     },
     "execution_count": 54,
     "metadata": {},
     "output_type": "execute_result"
    }
   ],
   "source": [
    "viewer.add_labels(labelled_lowpass)"
   ]
  },
  {
   "cell_type": "code",
   "execution_count": 55,
   "id": "dc619dc3-ae50-47b8-bb26-b874539f298c",
   "metadata": {},
   "outputs": [],
   "source": [
    "measured_labels = regionprops(labelled_lowpass)"
   ]
  },
  {
   "cell_type": "code",
   "execution_count": 56,
   "id": "b30d6e68-eba0-44b8-afcc-90005547b573",
   "metadata": {},
   "outputs": [],
   "source": [
    "component_sizes = np.array([component.num_pixels for component in measured_labels])"
   ]
  },
  {
   "cell_type": "code",
   "execution_count": 57,
   "id": "221e5667-4b54-4c24-a6e3-f3f20a883932",
   "metadata": {},
   "outputs": [],
   "source": [
    "largest_component_idx = np.argmax(component_sizes)"
   ]
  },
  {
   "cell_type": "code",
   "execution_count": 58,
   "id": "a70843a4-e737-4b65-a1cd-8de287248bf5",
   "metadata": {},
   "outputs": [],
   "source": [
    "largest_cc_bbox = measured_labels[largest_component_idx].bbox"
   ]
  },
  {
   "cell_type": "code",
   "execution_count": 63,
   "id": "3a58b383-8f34-409e-ae91-337f2f609761",
   "metadata": {},
   "outputs": [],
   "source": [
    "z_span = np.array([largest_cc_bbox[0], largest_cc_bbox[3] - 1])"
   ]
  },
  {
   "cell_type": "code",
   "execution_count": 64,
   "id": "6f532a43-8fba-476c-b89a-ef2a08bf9160",
   "metadata": {},
   "outputs": [
    {
     "data": {
      "text/plain": [
       "array([15, 20])"
      ]
     },
     "execution_count": 64,
     "metadata": {},
     "output_type": "execute_result"
    }
   ],
   "source": [
    "z_span"
   ]
  },
  {
   "cell_type": "code",
   "execution_count": 62,
   "id": "c6eca4d5-b6d0-47e4-a98f-94b6638cb0c6",
   "metadata": {},
   "outputs": [
    {
     "data": {
      "text/plain": [
       "(15, 0, 0, 21, 256, 512)"
      ]
     },
     "execution_count": 62,
     "metadata": {},
     "output_type": "execute_result"
    }
   ],
   "source": [
    "largest_cc_bbox"
   ]
  },
  {
   "cell_type": "markdown",
   "id": "3206b908-f80a-4955-91e0-6317182d273a",
   "metadata": {},
   "source": [
    "## Spot segmentation and fitting"
   ]
  },
  {
   "cell_type": "markdown",
   "id": "f442668b-3a60-41f7-8745-b07f4e6ab1cb",
   "metadata": {},
   "source": [
    "It can be shown for an xy-symmetric Gaussian that\n",
    "$$\n",
    "\\int_{\\mathbb{R}^3} A e^{- \\frac{x^2 + y^2}{2 \\sigma_{xy}^2} - \\frac{z^2}{2 \\sigma_z^2}} \\ dx \\ dy \\ dz = 2 \\sqrt{2} A \\pi^{3/2} \\sigma_{xy}^2 \\sigma_z\n",
    "$$\n",
    "where we have used notation consistent with that used in `spot_analysis.fitting`. We can therefore use simple algebraic manipulation of the fit parameters to estimate the spot intensities."
   ]
  },
  {
   "cell_type": "code",
   "execution_count": 22,
   "id": "ed0361f4-b4c9-4edd-917d-d203303aca3d",
   "metadata": {},
   "outputs": [],
   "source": [
    "transcription_channel_metadata = export_frame_metadata[0]\n",
    "transcription_channel = channels_full_dataset[0]"
   ]
  },
  {
   "cell_type": "code",
   "execution_count": null,
   "id": "80e29282-a502-4fa1-ab54-8c9781403013",
   "metadata": {},
   "outputs": [],
   "source": [
    "%%time\n",
    "\n",
    "spot_tracking = pipeline.Spot(\n",
    "    data=transcription_channel,\n",
    "    global_metadata=export_global_metadata[0],\n",
    "    frame_metadata=transcription_channel_metadata,\n",
    "    nuclear_labels=nuclear_labels_futures,\n",
    "    client=client,\n",
    "    keep_bandpass=False,\n",
    ")\n",
    "\n",
    "spot_tracking.extract_spot_traces()"
   ]
  },
  {
   "cell_type": "code",
   "execution_count": null,
   "id": "ba94bd31-4d5e-4cf7-b04d-c722ffccccd9",
   "metadata": {},
   "outputs": [],
   "source": [
    "spot_labels = spot_tracking.reordered_spot_labels"
   ]
  },
  {
   "cell_type": "markdown",
   "id": "66315c5d-ace5-494a-85bf-c67863c437aa",
   "metadata": {},
   "source": [
    "## Compiling traces"
   ]
  },
  {
   "cell_type": "code",
   "execution_count": null,
   "id": "26be1d83-a993-4343-ae96-66757f08f896",
   "metadata": {},
   "outputs": [],
   "source": [
    "from spot_analysis import compile_data"
   ]
  },
  {
   "cell_type": "code",
   "execution_count": null,
   "id": "fea4ef46-ce77-4607-92d2-00ed5b3f4537",
   "metadata": {},
   "outputs": [],
   "source": [
    "spot_dataframe = spot_tracking.spot_dataframe\n",
    "mitosis_dataframe = nuclear_tracking.mitosis_dataframe\n",
    "\n",
    "compiled_dataframe = compile_data.compile_traces(\n",
    "    spot_dataframe,\n",
    "    nuclear_tracking_dataframe=mitosis_dataframe,\n",
    "    compile_columns_nuclear=[\"nuclear_cycle\", \"division_time\"],\n",
    ")"
   ]
  },
  {
   "cell_type": "code",
   "execution_count": null,
   "id": "7412379c-3092-44b1-92a2-fd7e17efd37f",
   "metadata": {},
   "outputs": [],
   "source": [
    "compiled_dataframe"
   ]
  },
  {
   "cell_type": "markdown",
   "id": "e6703c55-c2b0-44a2-b81e-0f72c7df0cfc",
   "metadata": {},
   "source": [
    "## Visualizing traces"
   ]
  },
  {
   "cell_type": "code",
   "execution_count": null,
   "id": "7498c302-937b-4314-bc67-4128ac03f837",
   "metadata": {},
   "outputs": [],
   "source": [
    "from utils import plottable"
   ]
  },
  {
   "cell_type": "code",
   "execution_count": null,
   "id": "a453bec6-4572-40aa-bc92-7b5645dde025",
   "metadata": {},
   "outputs": [],
   "source": [
    "%matplotlib widget\n",
    "# This is taken from https://stackoverflow.com/questions/18390461/scroll-backwards-and-forwards-through-matplotlib-plots\n",
    "import matplotlib.pyplot as plt\n",
    "\n",
    "traces = plottable.generate_trace_plot_list(compiled_dataframe)\n",
    "\n",
    "curr_pos = 0\n",
    "\n",
    "\n",
    "def key_event(e):\n",
    "    global curr_pos\n",
    "\n",
    "    if e.key == \"right\":\n",
    "        curr_pos = curr_pos + 1\n",
    "    elif e.key == \"left\":\n",
    "        curr_pos = curr_pos - 1\n",
    "    else:\n",
    "        return\n",
    "    curr_pos = curr_pos % len(traces)\n",
    "\n",
    "    ax.cla()\n",
    "    ax.plot(traces[curr_pos][0], traces[curr_pos][1], \".\")\n",
    "    ax.set_xlabel(\"time (s)\")\n",
    "    ax.set_ylabel(\"Spot intensity (AU)\")\n",
    "    ax.set_title(f\"Particle {traces[curr_pos][2]}, NC {traces[curr_pos][3]}\")\n",
    "    fig.canvas.draw()\n",
    "\n",
    "\n",
    "fig = plt.figure()\n",
    "fig.canvas.mpl_connect(\"key_press_event\", key_event)\n",
    "\n",
    "ax = fig.add_subplot(111)\n",
    "ax.plot(traces[curr_pos][0], traces[curr_pos][1], \".\")\n",
    "ax.set_xlabel(\"time (s)\")\n",
    "ax.set_ylabel(\"Spot intensity (AU)\")\n",
    "ax.set_title(f\"Particle {traces[curr_pos][2]}, NC {traces[curr_pos][3]}\")\n",
    "\n",
    "plt.show()"
   ]
  },
  {
   "cell_type": "code",
   "execution_count": null,
   "id": "5fa2e94d-e8b0-4801-832f-b4ee4b68ac9e",
   "metadata": {},
   "outputs": [],
   "source": [
    "from tracking import detect_mitosis"
   ]
  },
  {
   "cell_type": "code",
   "execution_count": null,
   "id": "5e430978-5f98-4bf1-9bb1-d11e53ab7615",
   "metadata": {},
   "outputs": [],
   "source": [
    "viewer = napari.view_image(nuclear_channel, name=\"Nuclear Channel\")\n",
    "viewer.add_labels(nuclear_labels)\n",
    "_ = detect_mitosis.tracks_to_napari(\n",
    "    viewer, mitosis_dataframe, name=\"nuclear_tracks\", output=False\n",
    ")\n",
    "viewer.add_image(transcription_channel, name=\"Transcription Channel\")\n",
    "viewer.add_labels(spot_labels)\n",
    "napari.run()"
   ]
  },
  {
   "cell_type": "markdown",
   "id": "f85ed599-28c1-44e0-be9b-4fe8d34fb45e",
   "metadata": {},
   "source": [
    "General procedure for background removal:\n",
    "1. Blur on xy-lengthscale larger than nuclei, very small z-lengthscale.\n",
    "2. Automatic threshold and label.\n",
    "3. Check largest connected component bbox for overlap with top or bottom slice and z-span smaller than predetermined number (either by fraction of z-stack or by absolute length in $\\mu m$).\n",
    "4. If conditions above are met, then that connected component is inverted and passed through as a mask which is applied prior to binarization and watershed segmentation."
   ]
  },
  {
   "cell_type": "code",
   "execution_count": 22,
   "id": "091609fd-8d11-4ee8-a3fe-89bfea5145d8",
   "metadata": {},
   "outputs": [],
   "source": [
    "test_bbox = (4, 0, 0, 19, 20, 49)"
   ]
  },
  {
   "cell_type": "code",
   "execution_count": 37,
   "id": "402447fa-80cb-4ba0-94f4-2ea5792e02f7",
   "metadata": {},
   "outputs": [],
   "source": [
    "import numpy as np"
   ]
  },
  {
   "cell_type": "code",
   "execution_count": 40,
   "id": "2f312a96-896a-4f37-8774-2c7a23dd3dcd",
   "metadata": {},
   "outputs": [
    {
     "data": {
      "text/plain": [
       "[array([4, 0, 0]), array([19, 20, 49])]"
      ]
     },
     "execution_count": 40,
     "metadata": {},
     "output_type": "execute_result"
    }
   ],
   "source": [
    "np.split(np.asarray(test_bbox), 2)"
   ]
  },
  {
   "cell_type": "code",
   "execution_count": 34,
   "id": "f29c6dc2-18cb-44fc-96ba-4d3594737b6a",
   "metadata": {},
   "outputs": [
    {
     "data": {
      "text/plain": [
       "3.0"
      ]
     },
     "execution_count": 34,
     "metadata": {},
     "output_type": "execute_result"
    }
   ],
   "source": [
    "len(test_bbox) / 2"
   ]
  },
  {
   "cell_type": "code",
   "execution_count": 46,
   "id": "be298ee3-b9b2-459f-9535-2901f3d05ceb",
   "metadata": {},
   "outputs": [],
   "source": [
    "import matplotlib.pyplot as plt"
   ]
  },
  {
   "cell_type": "code",
   "execution_count": 60,
   "id": "b718e075-343a-433c-8916-69215fe1fb6c",
   "metadata": {},
   "outputs": [],
   "source": [
    "gaussian2 = gaussian(frame_test, sigma=1)"
   ]
  },
  {
   "cell_type": "code",
   "execution_count": 58,
   "id": "493281ef-c872-4acc-ad51-6ad56793c9fd",
   "metadata": {},
   "outputs": [],
   "source": [
    "gaussian2[gaussian_test > test_threshold] = np.nan"
   ]
  },
  {
   "cell_type": "code",
   "execution_count": 62,
   "id": "eca7bf14-cf05-4197-ad5e-2f279faf9396",
   "metadata": {},
   "outputs": [],
   "source": [
    "li_test2 = threshold_li(gaussian2[gaussian_test > test_threshold])"
   ]
  },
  {
   "cell_type": "code",
   "execution_count": 55,
   "id": "c46856fb-e2c0-46be-9b11-714881ac0791",
   "metadata": {},
   "outputs": [],
   "source": [
    "otsu2 = gaussian2 > otsu_test2"
   ]
  },
  {
   "cell_type": "code",
   "execution_count": 56,
   "id": "2bfa7709-8c90-4f02-97e9-76f803c2c30d",
   "metadata": {},
   "outputs": [
    {
     "data": {
      "text/plain": [
       "<Labels layer 'otsu2' at 0x7f3e97c44040>"
      ]
     },
     "execution_count": 56,
     "metadata": {},
     "output_type": "execute_result"
    }
   ],
   "source": [
    "viewer.add_labels(otsu2)"
   ]
  },
  {
   "cell_type": "code",
   "execution_count": 65,
   "id": "d9531426-2f5e-4ddd-ab1e-086859d91d4c",
   "metadata": {},
   "outputs": [],
   "source": [
    "from nuclear_analysis import segmentation"
   ]
  },
  {
   "cell_type": "code",
   "execution_count": 170,
   "id": "74eef8e4-df46-4fc2-b278-656a0d91aecf",
   "metadata": {},
   "outputs": [
    {
     "data": {
      "text/plain": [
       "<module 'nuclear_analysis.segmentation' from '/home/ybadal/Documents/Berkeley/github_repositories/transcription_pipeline/nuclear_analysis/segmentation.py'>"
      ]
     },
     "execution_count": 170,
     "metadata": {},
     "output_type": "execute_result"
    }
   ],
   "source": [
    "reload(segmentation)"
   ]
  },
  {
   "cell_type": "code",
   "execution_count": 171,
   "id": "84be6cdf-8f35-4c35-884a-d8d705acdc86",
   "metadata": {},
   "outputs": [],
   "source": [
    "denoised_stack = segmentation.denoise_frame(\n",
    "    frame_test, denoising=\"gaussian\", denoising_sigma=1\n",
    ")"
   ]
  },
  {
   "cell_type": "code",
   "execution_count": 176,
   "id": "0ffc8375-6f1d-4f12-bf5d-9f4e7b9ed4df",
   "metadata": {},
   "outputs": [],
   "source": [
    "test_binarize = segmentation.binarize_frame(\n",
    "    denoised_stack,\n",
    "    thresholding=\"global_otsu\",\n",
    "    closing_footprint=segmentation.ellipsoid(5, 3),\n",
    "    cc_min_span=[2, 100, 100],\n",
    "    background_max_span=[7, 256, 512],\n",
    "    background_sigma=[0.05, 40, 40],\n",
    "    background_threshold_method=\"li\",\n",
    ")"
   ]
  },
  {
   "cell_type": "code",
   "execution_count": 177,
   "id": "944055ff-c808-44e2-b57e-c2017340d0a5",
   "metadata": {},
   "outputs": [
    {
     "data": {
      "text/plain": [
       "<Labels layer 'test_binarize [2]' at 0x7f3e0d007fa0>"
      ]
     },
     "execution_count": 177,
     "metadata": {},
     "output_type": "execute_result"
    }
   ],
   "source": [
    "viewer.add_labels(test_binarize)"
   ]
  },
  {
   "cell_type": "code",
   "execution_count": 163,
   "id": "a37559ed-ee1f-4b00-826f-8a02735bda0b",
   "metadata": {},
   "outputs": [
    {
     "data": {
      "text/plain": [
       "(19, 256, 512)"
      ]
     },
     "execution_count": 163,
     "metadata": {},
     "output_type": "execute_result"
    }
   ],
   "source": [
    "frame_test.shape"
   ]
  },
  {
   "cell_type": "code",
   "execution_count": 21,
   "id": "a00c6809-6ee7-4c99-a32e-35216191fff2",
   "metadata": {},
   "outputs": [],
   "source": [
    "binarize_params = nuclear_tracking.default_params[\"binarize_params\"]"
   ]
  },
  {
   "cell_type": "code",
   "execution_count": 24,
   "id": "297d78e5-07dc-4be3-bcc6-db6e0da3df1f",
   "metadata": {},
   "outputs": [],
   "source": [
    "denoised_params = nuclear_tracking.default_params[\"denoise_params\"]"
   ]
  },
  {
   "cell_type": "code",
   "execution_count": 23,
   "id": "45e3fdc4-b062-4729-9868-e5f04c4ba5bf",
   "metadata": {},
   "outputs": [],
   "source": [
    "from nuclear_analysis import segmentation"
   ]
  },
  {
   "cell_type": "code",
   "execution_count": 26,
   "id": "b3f2c4ba-e72c-41f0-a8dd-ecba4692c619",
   "metadata": {},
   "outputs": [],
   "source": [
    "test_denoise = segmentation.denoise_movie_parallel(\n",
    "    nuclear_channel, **denoised_params, client=client\n",
    ")"
   ]
  },
  {
   "cell_type": "markdown",
   "id": "fe56912a-cf1a-436c-977c-2499fd519244",
   "metadata": {},
   "source": [
    "To-do:\n",
    "- Make background removal more aggressive, anisotropic.\n",
    "- Remove connected components with unreasonable span during labelling (or make footprint larger in z during marking)\n",
    "- Need a more pointed approach for mid-range background insufficient to trigger full mask response. Could use solidity to try to remove connected slices from each label until the labels appear disconnected."
   ]
  },
  {
   "cell_type": "code",
   "execution_count": null,
   "id": "012a0a7a-1ce9-4489-915e-4809a5081a94",
   "metadata": {},
   "outputs": [],
   "source": []
  }
 ],
 "metadata": {
  "kernelspec": {
   "display_name": "Python 3 (ipykernel)",
   "language": "python",
   "name": "python3"
  },
  "language_info": {
   "codemirror_mode": {
    "name": "ipython",
    "version": 3
   },
   "file_extension": ".py",
   "mimetype": "text/x-python",
   "name": "python",
   "nbconvert_exporter": "python",
   "pygments_lexer": "ipython3",
   "version": "3.10.11"
  }
 },
 "nbformat": 4,
 "nbformat_minor": 5
}
