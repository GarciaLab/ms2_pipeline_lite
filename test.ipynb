{
 "cells": [
  {
   "cell_type": "markdown",
   "id": "494c31dd-aae4-4514-afeb-605dcb5e254b",
   "metadata": {},
   "source": [
    "# Pipeline walkthrough"
   ]
  },
  {
   "cell_type": "markdown",
   "id": "d93494d4-9842-4e52-84eb-9a8c6b94f0f4",
   "metadata": {},
   "source": [
    "## Data import"
   ]
  },
  {
   "cell_type": "code",
   "execution_count": 2,
   "id": "1f40c2db-1bb8-45af-9612-0612d1806a8a",
   "metadata": {},
   "outputs": [
    {
     "name": "stderr",
     "output_type": "stream",
     "text": [
      "/home/ybadal/mambaforge/envs/transcription_pipeline/lib/python3.10/site-packages/pims/bioformats.py:410: UserWarning: Due to an issue with JPype 0.6.0, reading is slower. Please consider upgrading JPype to 0.6.1 or later.\n",
      "  warn('Due to an issue with JPype 0.6.0, reading is slower. '\n",
      "/home/ybadal/Documents/Berkeley/github_repositories/transcription_pipeline/preprocessing/import_data.py:719: UserWarning: /home/ybadal/Documents/Berkeley/github_repositories/transcription_pipeline/test_data/2021-06-14/p2pdpwt/collated_dataset/collated_dataset_ch00.tiff is a low contrast image\n",
      "  imsave(collated_data_path, channel_data, plugin=\"tifffile\")\n",
      "/home/ybadal/Documents/Berkeley/github_repositories/transcription_pipeline/preprocessing/import_data.py:719: UserWarning: /home/ybadal/Documents/Berkeley/github_repositories/transcription_pipeline/test_data/2021-06-14/p2pdpwt/collated_dataset/collated_dataset_ch01.tiff is a low contrast image\n",
      "  imsave(collated_data_path, channel_data, plugin=\"tifffile\")\n"
     ]
    }
   ],
   "source": [
    "from preprocessing.import_data import import_save_dataset\n",
    "\n",
    "import napari\n",
    "\n",
    "trim_series = True\n",
    "lif_test_name = \"test_data/2021-06-14/p2pdpwt\"\n",
    "lsm_test_name = \"test_data/2023-04-07/p2pdp_zld-sites-ctrl_fwd_1\"\n",
    "var1_test_name = \"test_data/2023-06-16/RBSPWM_embryo01\"\n",
    "\n",
    "(\n",
    "    channels_full_dataset,\n",
    "    original_global_metadata,\n",
    "    original_frame_metadata,\n",
    "    export_global_metadata,\n",
    "    export_frame_metadata,\n",
    ") = import_save_dataset(lif_test_name, trim_series=trim_series, mode=\"tiff\")"
   ]
  },
  {
   "cell_type": "code",
   "execution_count": 3,
   "id": "9e0aeae0-8b3f-4239-a7ad-706405f48b2a",
   "metadata": {},
   "outputs": [],
   "source": [
    "nuclear_channel_metadata = export_frame_metadata[1]\n",
    "nuclear_channel = channels_full_dataset[1]"
   ]
  },
  {
   "cell_type": "markdown",
   "id": "6976782a-12a4-4005-a5b1-23b4e65d0e31",
   "metadata": {},
   "source": [
    "## Starting a Dask Client for parallelization"
   ]
  },
  {
   "cell_type": "code",
   "execution_count": 4,
   "id": "b5afe2d7-03af-4e32-85dd-6a07cb8a4063",
   "metadata": {},
   "outputs": [],
   "source": [
    "from dask.distributed import LocalCluster, Client"
   ]
  },
  {
   "cell_type": "code",
   "execution_count": 5,
   "id": "e152f7c2-0763-457f-a573-f45fd2e911e2",
   "metadata": {},
   "outputs": [],
   "source": [
    "cluster = LocalCluster(\n",
    "    host=\"localhost\",\n",
    "    scheduler_port=8786,\n",
    "    threads_per_worker=1,\n",
    "    n_workers=12,\n",
    "    memory_limit=\"4GB\",\n",
    ")"
   ]
  },
  {
   "cell_type": "code",
   "execution_count": 6,
   "id": "aa3b5d90-2a35-4cd6-83fa-ce06973d5355",
   "metadata": {},
   "outputs": [],
   "source": [
    "client = Client(cluster)"
   ]
  },
  {
   "cell_type": "code",
   "execution_count": 7,
   "id": "07d845af-9a56-4437-8cd8-da65ad53b59d",
   "metadata": {},
   "outputs": [
    {
     "data": {
      "text/html": [
       "<div>\n",
       "    <div style=\"width: 24px; height: 24px; background-color: #e1e1e1; border: 3px solid #9D9D9D; border-radius: 5px; position: absolute;\"> </div>\n",
       "    <div style=\"margin-left: 48px;\">\n",
       "        <h3 style=\"margin-bottom: 0px;\">Client</h3>\n",
       "        <p style=\"color: #9D9D9D; margin-bottom: 0px;\">Client-27dd21c1-30c0-11ee-8ac9-8cf8c53addba</p>\n",
       "        <table style=\"width: 100%; text-align: left;\">\n",
       "\n",
       "        <tr>\n",
       "        \n",
       "            <td style=\"text-align: left;\"><strong>Connection method:</strong> Cluster object</td>\n",
       "            <td style=\"text-align: left;\"><strong>Cluster type:</strong> distributed.LocalCluster</td>\n",
       "        \n",
       "        </tr>\n",
       "\n",
       "        \n",
       "            <tr>\n",
       "                <td style=\"text-align: left;\">\n",
       "                    <strong>Dashboard: </strong> <a href=\"http://127.0.0.1:8787/status\" target=\"_blank\">http://127.0.0.1:8787/status</a>\n",
       "                </td>\n",
       "                <td style=\"text-align: left;\"></td>\n",
       "            </tr>\n",
       "        \n",
       "\n",
       "        </table>\n",
       "\n",
       "        \n",
       "\n",
       "        \n",
       "            <details>\n",
       "            <summary style=\"margin-bottom: 20px;\"><h3 style=\"display: inline;\">Cluster Info</h3></summary>\n",
       "            <div class=\"jp-RenderedHTMLCommon jp-RenderedHTML jp-mod-trusted jp-OutputArea-output\">\n",
       "    <div style=\"width: 24px; height: 24px; background-color: #e1e1e1; border: 3px solid #9D9D9D; border-radius: 5px; position: absolute;\">\n",
       "    </div>\n",
       "    <div style=\"margin-left: 48px;\">\n",
       "        <h3 style=\"margin-bottom: 0px; margin-top: 0px;\">LocalCluster</h3>\n",
       "        <p style=\"color: #9D9D9D; margin-bottom: 0px;\">d8f68128</p>\n",
       "        <table style=\"width: 100%; text-align: left;\">\n",
       "            <tr>\n",
       "                <td style=\"text-align: left;\">\n",
       "                    <strong>Dashboard:</strong> <a href=\"http://127.0.0.1:8787/status\" target=\"_blank\">http://127.0.0.1:8787/status</a>\n",
       "                </td>\n",
       "                <td style=\"text-align: left;\">\n",
       "                    <strong>Workers:</strong> 12\n",
       "                </td>\n",
       "            </tr>\n",
       "            <tr>\n",
       "                <td style=\"text-align: left;\">\n",
       "                    <strong>Total threads:</strong> 12\n",
       "                </td>\n",
       "                <td style=\"text-align: left;\">\n",
       "                    <strong>Total memory:</strong> 44.70 GiB\n",
       "                </td>\n",
       "            </tr>\n",
       "            \n",
       "            <tr>\n",
       "    <td style=\"text-align: left;\"><strong>Status:</strong> running</td>\n",
       "    <td style=\"text-align: left;\"><strong>Using processes:</strong> True</td>\n",
       "</tr>\n",
       "\n",
       "            \n",
       "        </table>\n",
       "\n",
       "        <details>\n",
       "            <summary style=\"margin-bottom: 20px;\">\n",
       "                <h3 style=\"display: inline;\">Scheduler Info</h3>\n",
       "            </summary>\n",
       "\n",
       "            <div style=\"\">\n",
       "    <div>\n",
       "        <div style=\"width: 24px; height: 24px; background-color: #FFF7E5; border: 3px solid #FF6132; border-radius: 5px; position: absolute;\"> </div>\n",
       "        <div style=\"margin-left: 48px;\">\n",
       "            <h3 style=\"margin-bottom: 0px;\">Scheduler</h3>\n",
       "            <p style=\"color: #9D9D9D; margin-bottom: 0px;\">Scheduler-7716cec0-5423-46d7-ba0a-77b9ae560b1b</p>\n",
       "            <table style=\"width: 100%; text-align: left;\">\n",
       "                <tr>\n",
       "                    <td style=\"text-align: left;\">\n",
       "                        <strong>Comm:</strong> tcp://127.0.0.1:8786\n",
       "                    </td>\n",
       "                    <td style=\"text-align: left;\">\n",
       "                        <strong>Workers:</strong> 12\n",
       "                    </td>\n",
       "                </tr>\n",
       "                <tr>\n",
       "                    <td style=\"text-align: left;\">\n",
       "                        <strong>Dashboard:</strong> <a href=\"http://127.0.0.1:8787/status\" target=\"_blank\">http://127.0.0.1:8787/status</a>\n",
       "                    </td>\n",
       "                    <td style=\"text-align: left;\">\n",
       "                        <strong>Total threads:</strong> 12\n",
       "                    </td>\n",
       "                </tr>\n",
       "                <tr>\n",
       "                    <td style=\"text-align: left;\">\n",
       "                        <strong>Started:</strong> Just now\n",
       "                    </td>\n",
       "                    <td style=\"text-align: left;\">\n",
       "                        <strong>Total memory:</strong> 44.70 GiB\n",
       "                    </td>\n",
       "                </tr>\n",
       "            </table>\n",
       "        </div>\n",
       "    </div>\n",
       "\n",
       "    <details style=\"margin-left: 48px;\">\n",
       "        <summary style=\"margin-bottom: 20px;\">\n",
       "            <h3 style=\"display: inline;\">Workers</h3>\n",
       "        </summary>\n",
       "\n",
       "        \n",
       "        <div style=\"margin-bottom: 20px;\">\n",
       "            <div style=\"width: 24px; height: 24px; background-color: #DBF5FF; border: 3px solid #4CC9FF; border-radius: 5px; position: absolute;\"> </div>\n",
       "            <div style=\"margin-left: 48px;\">\n",
       "            <details>\n",
       "                <summary>\n",
       "                    <h4 style=\"margin-bottom: 0px; display: inline;\">Worker: 0</h4>\n",
       "                </summary>\n",
       "                <table style=\"width: 100%; text-align: left;\">\n",
       "                    <tr>\n",
       "                        <td style=\"text-align: left;\">\n",
       "                            <strong>Comm: </strong> tcp://127.0.0.1:41921\n",
       "                        </td>\n",
       "                        <td style=\"text-align: left;\">\n",
       "                            <strong>Total threads: </strong> 1\n",
       "                        </td>\n",
       "                    </tr>\n",
       "                    <tr>\n",
       "                        <td style=\"text-align: left;\">\n",
       "                            <strong>Dashboard: </strong> <a href=\"http://127.0.0.1:34597/status\" target=\"_blank\">http://127.0.0.1:34597/status</a>\n",
       "                        </td>\n",
       "                        <td style=\"text-align: left;\">\n",
       "                            <strong>Memory: </strong> 3.73 GiB\n",
       "                        </td>\n",
       "                    </tr>\n",
       "                    <tr>\n",
       "                        <td style=\"text-align: left;\">\n",
       "                            <strong>Nanny: </strong> tcp://127.0.0.1:42877\n",
       "                        </td>\n",
       "                        <td style=\"text-align: left;\"></td>\n",
       "                    </tr>\n",
       "                    <tr>\n",
       "                        <td colspan=\"2\" style=\"text-align: left;\">\n",
       "                            <strong>Local directory: </strong> /tmp/dask-scratch-space/worker-2z3w8mkz\n",
       "                        </td>\n",
       "                    </tr>\n",
       "\n",
       "                    \n",
       "\n",
       "                    \n",
       "\n",
       "                </table>\n",
       "            </details>\n",
       "            </div>\n",
       "        </div>\n",
       "        \n",
       "        <div style=\"margin-bottom: 20px;\">\n",
       "            <div style=\"width: 24px; height: 24px; background-color: #DBF5FF; border: 3px solid #4CC9FF; border-radius: 5px; position: absolute;\"> </div>\n",
       "            <div style=\"margin-left: 48px;\">\n",
       "            <details>\n",
       "                <summary>\n",
       "                    <h4 style=\"margin-bottom: 0px; display: inline;\">Worker: 1</h4>\n",
       "                </summary>\n",
       "                <table style=\"width: 100%; text-align: left;\">\n",
       "                    <tr>\n",
       "                        <td style=\"text-align: left;\">\n",
       "                            <strong>Comm: </strong> tcp://127.0.0.1:39413\n",
       "                        </td>\n",
       "                        <td style=\"text-align: left;\">\n",
       "                            <strong>Total threads: </strong> 1\n",
       "                        </td>\n",
       "                    </tr>\n",
       "                    <tr>\n",
       "                        <td style=\"text-align: left;\">\n",
       "                            <strong>Dashboard: </strong> <a href=\"http://127.0.0.1:40103/status\" target=\"_blank\">http://127.0.0.1:40103/status</a>\n",
       "                        </td>\n",
       "                        <td style=\"text-align: left;\">\n",
       "                            <strong>Memory: </strong> 3.73 GiB\n",
       "                        </td>\n",
       "                    </tr>\n",
       "                    <tr>\n",
       "                        <td style=\"text-align: left;\">\n",
       "                            <strong>Nanny: </strong> tcp://127.0.0.1:46875\n",
       "                        </td>\n",
       "                        <td style=\"text-align: left;\"></td>\n",
       "                    </tr>\n",
       "                    <tr>\n",
       "                        <td colspan=\"2\" style=\"text-align: left;\">\n",
       "                            <strong>Local directory: </strong> /tmp/dask-scratch-space/worker-_luktvcj\n",
       "                        </td>\n",
       "                    </tr>\n",
       "\n",
       "                    \n",
       "\n",
       "                    \n",
       "\n",
       "                </table>\n",
       "            </details>\n",
       "            </div>\n",
       "        </div>\n",
       "        \n",
       "        <div style=\"margin-bottom: 20px;\">\n",
       "            <div style=\"width: 24px; height: 24px; background-color: #DBF5FF; border: 3px solid #4CC9FF; border-radius: 5px; position: absolute;\"> </div>\n",
       "            <div style=\"margin-left: 48px;\">\n",
       "            <details>\n",
       "                <summary>\n",
       "                    <h4 style=\"margin-bottom: 0px; display: inline;\">Worker: 2</h4>\n",
       "                </summary>\n",
       "                <table style=\"width: 100%; text-align: left;\">\n",
       "                    <tr>\n",
       "                        <td style=\"text-align: left;\">\n",
       "                            <strong>Comm: </strong> tcp://127.0.0.1:36473\n",
       "                        </td>\n",
       "                        <td style=\"text-align: left;\">\n",
       "                            <strong>Total threads: </strong> 1\n",
       "                        </td>\n",
       "                    </tr>\n",
       "                    <tr>\n",
       "                        <td style=\"text-align: left;\">\n",
       "                            <strong>Dashboard: </strong> <a href=\"http://127.0.0.1:35479/status\" target=\"_blank\">http://127.0.0.1:35479/status</a>\n",
       "                        </td>\n",
       "                        <td style=\"text-align: left;\">\n",
       "                            <strong>Memory: </strong> 3.73 GiB\n",
       "                        </td>\n",
       "                    </tr>\n",
       "                    <tr>\n",
       "                        <td style=\"text-align: left;\">\n",
       "                            <strong>Nanny: </strong> tcp://127.0.0.1:36219\n",
       "                        </td>\n",
       "                        <td style=\"text-align: left;\"></td>\n",
       "                    </tr>\n",
       "                    <tr>\n",
       "                        <td colspan=\"2\" style=\"text-align: left;\">\n",
       "                            <strong>Local directory: </strong> /tmp/dask-scratch-space/worker-w6xrqkld\n",
       "                        </td>\n",
       "                    </tr>\n",
       "\n",
       "                    \n",
       "\n",
       "                    \n",
       "\n",
       "                </table>\n",
       "            </details>\n",
       "            </div>\n",
       "        </div>\n",
       "        \n",
       "        <div style=\"margin-bottom: 20px;\">\n",
       "            <div style=\"width: 24px; height: 24px; background-color: #DBF5FF; border: 3px solid #4CC9FF; border-radius: 5px; position: absolute;\"> </div>\n",
       "            <div style=\"margin-left: 48px;\">\n",
       "            <details>\n",
       "                <summary>\n",
       "                    <h4 style=\"margin-bottom: 0px; display: inline;\">Worker: 3</h4>\n",
       "                </summary>\n",
       "                <table style=\"width: 100%; text-align: left;\">\n",
       "                    <tr>\n",
       "                        <td style=\"text-align: left;\">\n",
       "                            <strong>Comm: </strong> tcp://127.0.0.1:46845\n",
       "                        </td>\n",
       "                        <td style=\"text-align: left;\">\n",
       "                            <strong>Total threads: </strong> 1\n",
       "                        </td>\n",
       "                    </tr>\n",
       "                    <tr>\n",
       "                        <td style=\"text-align: left;\">\n",
       "                            <strong>Dashboard: </strong> <a href=\"http://127.0.0.1:42023/status\" target=\"_blank\">http://127.0.0.1:42023/status</a>\n",
       "                        </td>\n",
       "                        <td style=\"text-align: left;\">\n",
       "                            <strong>Memory: </strong> 3.73 GiB\n",
       "                        </td>\n",
       "                    </tr>\n",
       "                    <tr>\n",
       "                        <td style=\"text-align: left;\">\n",
       "                            <strong>Nanny: </strong> tcp://127.0.0.1:38473\n",
       "                        </td>\n",
       "                        <td style=\"text-align: left;\"></td>\n",
       "                    </tr>\n",
       "                    <tr>\n",
       "                        <td colspan=\"2\" style=\"text-align: left;\">\n",
       "                            <strong>Local directory: </strong> /tmp/dask-scratch-space/worker-x0ksmnkg\n",
       "                        </td>\n",
       "                    </tr>\n",
       "\n",
       "                    \n",
       "\n",
       "                    \n",
       "\n",
       "                </table>\n",
       "            </details>\n",
       "            </div>\n",
       "        </div>\n",
       "        \n",
       "        <div style=\"margin-bottom: 20px;\">\n",
       "            <div style=\"width: 24px; height: 24px; background-color: #DBF5FF; border: 3px solid #4CC9FF; border-radius: 5px; position: absolute;\"> </div>\n",
       "            <div style=\"margin-left: 48px;\">\n",
       "            <details>\n",
       "                <summary>\n",
       "                    <h4 style=\"margin-bottom: 0px; display: inline;\">Worker: 4</h4>\n",
       "                </summary>\n",
       "                <table style=\"width: 100%; text-align: left;\">\n",
       "                    <tr>\n",
       "                        <td style=\"text-align: left;\">\n",
       "                            <strong>Comm: </strong> tcp://127.0.0.1:34983\n",
       "                        </td>\n",
       "                        <td style=\"text-align: left;\">\n",
       "                            <strong>Total threads: </strong> 1\n",
       "                        </td>\n",
       "                    </tr>\n",
       "                    <tr>\n",
       "                        <td style=\"text-align: left;\">\n",
       "                            <strong>Dashboard: </strong> <a href=\"http://127.0.0.1:41873/status\" target=\"_blank\">http://127.0.0.1:41873/status</a>\n",
       "                        </td>\n",
       "                        <td style=\"text-align: left;\">\n",
       "                            <strong>Memory: </strong> 3.73 GiB\n",
       "                        </td>\n",
       "                    </tr>\n",
       "                    <tr>\n",
       "                        <td style=\"text-align: left;\">\n",
       "                            <strong>Nanny: </strong> tcp://127.0.0.1:39273\n",
       "                        </td>\n",
       "                        <td style=\"text-align: left;\"></td>\n",
       "                    </tr>\n",
       "                    <tr>\n",
       "                        <td colspan=\"2\" style=\"text-align: left;\">\n",
       "                            <strong>Local directory: </strong> /tmp/dask-scratch-space/worker-tl0c85o6\n",
       "                        </td>\n",
       "                    </tr>\n",
       "\n",
       "                    \n",
       "\n",
       "                    \n",
       "\n",
       "                </table>\n",
       "            </details>\n",
       "            </div>\n",
       "        </div>\n",
       "        \n",
       "        <div style=\"margin-bottom: 20px;\">\n",
       "            <div style=\"width: 24px; height: 24px; background-color: #DBF5FF; border: 3px solid #4CC9FF; border-radius: 5px; position: absolute;\"> </div>\n",
       "            <div style=\"margin-left: 48px;\">\n",
       "            <details>\n",
       "                <summary>\n",
       "                    <h4 style=\"margin-bottom: 0px; display: inline;\">Worker: 5</h4>\n",
       "                </summary>\n",
       "                <table style=\"width: 100%; text-align: left;\">\n",
       "                    <tr>\n",
       "                        <td style=\"text-align: left;\">\n",
       "                            <strong>Comm: </strong> tcp://127.0.0.1:43137\n",
       "                        </td>\n",
       "                        <td style=\"text-align: left;\">\n",
       "                            <strong>Total threads: </strong> 1\n",
       "                        </td>\n",
       "                    </tr>\n",
       "                    <tr>\n",
       "                        <td style=\"text-align: left;\">\n",
       "                            <strong>Dashboard: </strong> <a href=\"http://127.0.0.1:41241/status\" target=\"_blank\">http://127.0.0.1:41241/status</a>\n",
       "                        </td>\n",
       "                        <td style=\"text-align: left;\">\n",
       "                            <strong>Memory: </strong> 3.73 GiB\n",
       "                        </td>\n",
       "                    </tr>\n",
       "                    <tr>\n",
       "                        <td style=\"text-align: left;\">\n",
       "                            <strong>Nanny: </strong> tcp://127.0.0.1:42371\n",
       "                        </td>\n",
       "                        <td style=\"text-align: left;\"></td>\n",
       "                    </tr>\n",
       "                    <tr>\n",
       "                        <td colspan=\"2\" style=\"text-align: left;\">\n",
       "                            <strong>Local directory: </strong> /tmp/dask-scratch-space/worker-44uvpb6o\n",
       "                        </td>\n",
       "                    </tr>\n",
       "\n",
       "                    \n",
       "\n",
       "                    \n",
       "\n",
       "                </table>\n",
       "            </details>\n",
       "            </div>\n",
       "        </div>\n",
       "        \n",
       "        <div style=\"margin-bottom: 20px;\">\n",
       "            <div style=\"width: 24px; height: 24px; background-color: #DBF5FF; border: 3px solid #4CC9FF; border-radius: 5px; position: absolute;\"> </div>\n",
       "            <div style=\"margin-left: 48px;\">\n",
       "            <details>\n",
       "                <summary>\n",
       "                    <h4 style=\"margin-bottom: 0px; display: inline;\">Worker: 6</h4>\n",
       "                </summary>\n",
       "                <table style=\"width: 100%; text-align: left;\">\n",
       "                    <tr>\n",
       "                        <td style=\"text-align: left;\">\n",
       "                            <strong>Comm: </strong> tcp://127.0.0.1:36857\n",
       "                        </td>\n",
       "                        <td style=\"text-align: left;\">\n",
       "                            <strong>Total threads: </strong> 1\n",
       "                        </td>\n",
       "                    </tr>\n",
       "                    <tr>\n",
       "                        <td style=\"text-align: left;\">\n",
       "                            <strong>Dashboard: </strong> <a href=\"http://127.0.0.1:38257/status\" target=\"_blank\">http://127.0.0.1:38257/status</a>\n",
       "                        </td>\n",
       "                        <td style=\"text-align: left;\">\n",
       "                            <strong>Memory: </strong> 3.73 GiB\n",
       "                        </td>\n",
       "                    </tr>\n",
       "                    <tr>\n",
       "                        <td style=\"text-align: left;\">\n",
       "                            <strong>Nanny: </strong> tcp://127.0.0.1:41259\n",
       "                        </td>\n",
       "                        <td style=\"text-align: left;\"></td>\n",
       "                    </tr>\n",
       "                    <tr>\n",
       "                        <td colspan=\"2\" style=\"text-align: left;\">\n",
       "                            <strong>Local directory: </strong> /tmp/dask-scratch-space/worker-15y0ucbb\n",
       "                        </td>\n",
       "                    </tr>\n",
       "\n",
       "                    \n",
       "\n",
       "                    \n",
       "\n",
       "                </table>\n",
       "            </details>\n",
       "            </div>\n",
       "        </div>\n",
       "        \n",
       "        <div style=\"margin-bottom: 20px;\">\n",
       "            <div style=\"width: 24px; height: 24px; background-color: #DBF5FF; border: 3px solid #4CC9FF; border-radius: 5px; position: absolute;\"> </div>\n",
       "            <div style=\"margin-left: 48px;\">\n",
       "            <details>\n",
       "                <summary>\n",
       "                    <h4 style=\"margin-bottom: 0px; display: inline;\">Worker: 7</h4>\n",
       "                </summary>\n",
       "                <table style=\"width: 100%; text-align: left;\">\n",
       "                    <tr>\n",
       "                        <td style=\"text-align: left;\">\n",
       "                            <strong>Comm: </strong> tcp://127.0.0.1:40627\n",
       "                        </td>\n",
       "                        <td style=\"text-align: left;\">\n",
       "                            <strong>Total threads: </strong> 1\n",
       "                        </td>\n",
       "                    </tr>\n",
       "                    <tr>\n",
       "                        <td style=\"text-align: left;\">\n",
       "                            <strong>Dashboard: </strong> <a href=\"http://127.0.0.1:35983/status\" target=\"_blank\">http://127.0.0.1:35983/status</a>\n",
       "                        </td>\n",
       "                        <td style=\"text-align: left;\">\n",
       "                            <strong>Memory: </strong> 3.73 GiB\n",
       "                        </td>\n",
       "                    </tr>\n",
       "                    <tr>\n",
       "                        <td style=\"text-align: left;\">\n",
       "                            <strong>Nanny: </strong> tcp://127.0.0.1:40371\n",
       "                        </td>\n",
       "                        <td style=\"text-align: left;\"></td>\n",
       "                    </tr>\n",
       "                    <tr>\n",
       "                        <td colspan=\"2\" style=\"text-align: left;\">\n",
       "                            <strong>Local directory: </strong> /tmp/dask-scratch-space/worker-0eatzw3d\n",
       "                        </td>\n",
       "                    </tr>\n",
       "\n",
       "                    \n",
       "\n",
       "                    \n",
       "\n",
       "                </table>\n",
       "            </details>\n",
       "            </div>\n",
       "        </div>\n",
       "        \n",
       "        <div style=\"margin-bottom: 20px;\">\n",
       "            <div style=\"width: 24px; height: 24px; background-color: #DBF5FF; border: 3px solid #4CC9FF; border-radius: 5px; position: absolute;\"> </div>\n",
       "            <div style=\"margin-left: 48px;\">\n",
       "            <details>\n",
       "                <summary>\n",
       "                    <h4 style=\"margin-bottom: 0px; display: inline;\">Worker: 8</h4>\n",
       "                </summary>\n",
       "                <table style=\"width: 100%; text-align: left;\">\n",
       "                    <tr>\n",
       "                        <td style=\"text-align: left;\">\n",
       "                            <strong>Comm: </strong> tcp://127.0.0.1:34733\n",
       "                        </td>\n",
       "                        <td style=\"text-align: left;\">\n",
       "                            <strong>Total threads: </strong> 1\n",
       "                        </td>\n",
       "                    </tr>\n",
       "                    <tr>\n",
       "                        <td style=\"text-align: left;\">\n",
       "                            <strong>Dashboard: </strong> <a href=\"http://127.0.0.1:36879/status\" target=\"_blank\">http://127.0.0.1:36879/status</a>\n",
       "                        </td>\n",
       "                        <td style=\"text-align: left;\">\n",
       "                            <strong>Memory: </strong> 3.73 GiB\n",
       "                        </td>\n",
       "                    </tr>\n",
       "                    <tr>\n",
       "                        <td style=\"text-align: left;\">\n",
       "                            <strong>Nanny: </strong> tcp://127.0.0.1:36347\n",
       "                        </td>\n",
       "                        <td style=\"text-align: left;\"></td>\n",
       "                    </tr>\n",
       "                    <tr>\n",
       "                        <td colspan=\"2\" style=\"text-align: left;\">\n",
       "                            <strong>Local directory: </strong> /tmp/dask-scratch-space/worker-xrqb8jvg\n",
       "                        </td>\n",
       "                    </tr>\n",
       "\n",
       "                    \n",
       "\n",
       "                    \n",
       "\n",
       "                </table>\n",
       "            </details>\n",
       "            </div>\n",
       "        </div>\n",
       "        \n",
       "        <div style=\"margin-bottom: 20px;\">\n",
       "            <div style=\"width: 24px; height: 24px; background-color: #DBF5FF; border: 3px solid #4CC9FF; border-radius: 5px; position: absolute;\"> </div>\n",
       "            <div style=\"margin-left: 48px;\">\n",
       "            <details>\n",
       "                <summary>\n",
       "                    <h4 style=\"margin-bottom: 0px; display: inline;\">Worker: 9</h4>\n",
       "                </summary>\n",
       "                <table style=\"width: 100%; text-align: left;\">\n",
       "                    <tr>\n",
       "                        <td style=\"text-align: left;\">\n",
       "                            <strong>Comm: </strong> tcp://127.0.0.1:41979\n",
       "                        </td>\n",
       "                        <td style=\"text-align: left;\">\n",
       "                            <strong>Total threads: </strong> 1\n",
       "                        </td>\n",
       "                    </tr>\n",
       "                    <tr>\n",
       "                        <td style=\"text-align: left;\">\n",
       "                            <strong>Dashboard: </strong> <a href=\"http://127.0.0.1:34029/status\" target=\"_blank\">http://127.0.0.1:34029/status</a>\n",
       "                        </td>\n",
       "                        <td style=\"text-align: left;\">\n",
       "                            <strong>Memory: </strong> 3.73 GiB\n",
       "                        </td>\n",
       "                    </tr>\n",
       "                    <tr>\n",
       "                        <td style=\"text-align: left;\">\n",
       "                            <strong>Nanny: </strong> tcp://127.0.0.1:37751\n",
       "                        </td>\n",
       "                        <td style=\"text-align: left;\"></td>\n",
       "                    </tr>\n",
       "                    <tr>\n",
       "                        <td colspan=\"2\" style=\"text-align: left;\">\n",
       "                            <strong>Local directory: </strong> /tmp/dask-scratch-space/worker-zlw3okjj\n",
       "                        </td>\n",
       "                    </tr>\n",
       "\n",
       "                    \n",
       "\n",
       "                    \n",
       "\n",
       "                </table>\n",
       "            </details>\n",
       "            </div>\n",
       "        </div>\n",
       "        \n",
       "        <div style=\"margin-bottom: 20px;\">\n",
       "            <div style=\"width: 24px; height: 24px; background-color: #DBF5FF; border: 3px solid #4CC9FF; border-radius: 5px; position: absolute;\"> </div>\n",
       "            <div style=\"margin-left: 48px;\">\n",
       "            <details>\n",
       "                <summary>\n",
       "                    <h4 style=\"margin-bottom: 0px; display: inline;\">Worker: 10</h4>\n",
       "                </summary>\n",
       "                <table style=\"width: 100%; text-align: left;\">\n",
       "                    <tr>\n",
       "                        <td style=\"text-align: left;\">\n",
       "                            <strong>Comm: </strong> tcp://127.0.0.1:33207\n",
       "                        </td>\n",
       "                        <td style=\"text-align: left;\">\n",
       "                            <strong>Total threads: </strong> 1\n",
       "                        </td>\n",
       "                    </tr>\n",
       "                    <tr>\n",
       "                        <td style=\"text-align: left;\">\n",
       "                            <strong>Dashboard: </strong> <a href=\"http://127.0.0.1:46189/status\" target=\"_blank\">http://127.0.0.1:46189/status</a>\n",
       "                        </td>\n",
       "                        <td style=\"text-align: left;\">\n",
       "                            <strong>Memory: </strong> 3.73 GiB\n",
       "                        </td>\n",
       "                    </tr>\n",
       "                    <tr>\n",
       "                        <td style=\"text-align: left;\">\n",
       "                            <strong>Nanny: </strong> tcp://127.0.0.1:35165\n",
       "                        </td>\n",
       "                        <td style=\"text-align: left;\"></td>\n",
       "                    </tr>\n",
       "                    <tr>\n",
       "                        <td colspan=\"2\" style=\"text-align: left;\">\n",
       "                            <strong>Local directory: </strong> /tmp/dask-scratch-space/worker-019jsj1w\n",
       "                        </td>\n",
       "                    </tr>\n",
       "\n",
       "                    \n",
       "\n",
       "                    \n",
       "\n",
       "                </table>\n",
       "            </details>\n",
       "            </div>\n",
       "        </div>\n",
       "        \n",
       "        <div style=\"margin-bottom: 20px;\">\n",
       "            <div style=\"width: 24px; height: 24px; background-color: #DBF5FF; border: 3px solid #4CC9FF; border-radius: 5px; position: absolute;\"> </div>\n",
       "            <div style=\"margin-left: 48px;\">\n",
       "            <details>\n",
       "                <summary>\n",
       "                    <h4 style=\"margin-bottom: 0px; display: inline;\">Worker: 11</h4>\n",
       "                </summary>\n",
       "                <table style=\"width: 100%; text-align: left;\">\n",
       "                    <tr>\n",
       "                        <td style=\"text-align: left;\">\n",
       "                            <strong>Comm: </strong> tcp://127.0.0.1:38889\n",
       "                        </td>\n",
       "                        <td style=\"text-align: left;\">\n",
       "                            <strong>Total threads: </strong> 1\n",
       "                        </td>\n",
       "                    </tr>\n",
       "                    <tr>\n",
       "                        <td style=\"text-align: left;\">\n",
       "                            <strong>Dashboard: </strong> <a href=\"http://127.0.0.1:44799/status\" target=\"_blank\">http://127.0.0.1:44799/status</a>\n",
       "                        </td>\n",
       "                        <td style=\"text-align: left;\">\n",
       "                            <strong>Memory: </strong> 3.73 GiB\n",
       "                        </td>\n",
       "                    </tr>\n",
       "                    <tr>\n",
       "                        <td style=\"text-align: left;\">\n",
       "                            <strong>Nanny: </strong> tcp://127.0.0.1:43795\n",
       "                        </td>\n",
       "                        <td style=\"text-align: left;\"></td>\n",
       "                    </tr>\n",
       "                    <tr>\n",
       "                        <td colspan=\"2\" style=\"text-align: left;\">\n",
       "                            <strong>Local directory: </strong> /tmp/dask-scratch-space/worker-kqyah7pf\n",
       "                        </td>\n",
       "                    </tr>\n",
       "\n",
       "                    \n",
       "\n",
       "                    \n",
       "\n",
       "                </table>\n",
       "            </details>\n",
       "            </div>\n",
       "        </div>\n",
       "        \n",
       "\n",
       "    </details>\n",
       "</div>\n",
       "\n",
       "        </details>\n",
       "    </div>\n",
       "</div>\n",
       "            </details>\n",
       "        \n",
       "\n",
       "    </div>\n",
       "</div>"
      ],
      "text/plain": [
       "<Client: 'tcp://127.0.0.1:8786' processes=12 threads=12, memory=44.70 GiB>"
      ]
     },
     "execution_count": 7,
     "metadata": {},
     "output_type": "execute_result"
    }
   ],
   "source": [
    "client"
   ]
  },
  {
   "cell_type": "markdown",
   "id": "4bac27f9-da57-4b78-9c80-d160ba6aa42e",
   "metadata": {},
   "source": [
    "## Nuclear segmentation and tracking"
   ]
  },
  {
   "cell_type": "code",
   "execution_count": 8,
   "id": "d9ccf6d4-de0b-4c57-933d-32a381e432aa",
   "metadata": {},
   "outputs": [],
   "source": [
    "import pipeline"
   ]
  },
  {
   "cell_type": "code",
   "execution_count": 9,
   "id": "93e63153-16b8-475f-8e5c-6fe3ba235df0",
   "metadata": {},
   "outputs": [
    {
     "name": "stdout",
     "output_type": "stream",
     "text": [
      "Frame 2: 1 trajectories present.\n",
      "CPU times: user 45.7 s, sys: 17.8 s, total: 1min 3s\n",
      "Wall time: 3min 4s\n"
     ]
    }
   ],
   "source": [
    "%%time\n",
    "\n",
    "nuclear_tracking = pipeline.Nuclear(\n",
    "    data=nuclear_channel,\n",
    "    global_metadata=export_global_metadata[1],\n",
    "    frame_metadata=nuclear_channel_metadata,\n",
    "    client=client,\n",
    ")\n",
    "\n",
    "nuclear_tracking.track_nuclei()"
   ]
  },
  {
   "cell_type": "code",
   "execution_count": 10,
   "id": "2f2c5d17-ef13-4aa4-92e2-25772779a9d7",
   "metadata": {},
   "outputs": [],
   "source": [
    "nuclear_segmentation = nuclear_tracking.reordered_labels"
   ]
  },
  {
   "cell_type": "code",
   "execution_count": 11,
   "id": "28cd045a-0290-4b66-bca8-aee2a3c51c21",
   "metadata": {},
   "outputs": [],
   "source": [
    "viewer = napari.view_image(nuclear_channel)\n",
    "viewer.add_labels(nuclear_segmentation)\n",
    "napari.run()"
   ]
  },
  {
   "cell_type": "code",
   "execution_count": 14,
   "id": "d7fac01a-21a0-41a4-9049-59d7e72943b9",
   "metadata": {},
   "outputs": [],
   "source": [
    "import numpy as np"
   ]
  },
  {
   "cell_type": "code",
   "execution_count": 15,
   "id": "7b8451c0-0c71-40ff-8c51-92307c2daec5",
   "metadata": {},
   "outputs": [],
   "source": [
    "nuclear_segmentation = np.concatenate(client.gather(nuclear_segmentation))"
   ]
  },
  {
   "cell_type": "code",
   "execution_count": 12,
   "id": "6d1b7f4a-0bfa-4d25-8c92-eed1e7e8ab20",
   "metadata": {},
   "outputs": [
    {
     "ename": "AttributeError",
     "evalue": "'Nuclear' object has no attribute 'reordered_labels_futures'",
     "output_type": "error",
     "traceback": [
      "\u001b[0;31m---------------------------------------------------------------------------\u001b[0m",
      "\u001b[0;31mAttributeError\u001b[0m                            Traceback (most recent call last)",
      "Cell \u001b[0;32mIn[12], line 1\u001b[0m\n\u001b[0;32m----> 1\u001b[0m nuclear_labels_futures \u001b[38;5;241m=\u001b[39m \u001b[43mnuclear_tracking\u001b[49m\u001b[38;5;241;43m.\u001b[39;49m\u001b[43mreordered_labels_futures\u001b[49m\n",
      "\u001b[0;31mAttributeError\u001b[0m: 'Nuclear' object has no attribute 'reordered_labels_futures'"
     ]
    }
   ],
   "source": [
    "nuclear_labels_futures = nuclear_tracking.reordered_labels_futures"
   ]
  },
  {
   "cell_type": "code",
   "execution_count": 16,
   "id": "289ff288-ed14-43e7-b444-a51e36b2a6ae",
   "metadata": {},
   "outputs": [],
   "source": [
    "test_mask = client.gather(nuclear_tracking.mask_futures)"
   ]
  },
  {
   "cell_type": "code",
   "execution_count": 17,
   "id": "56c7a038-0867-4c4a-a67e-da991669dc0e",
   "metadata": {},
   "outputs": [],
   "source": [
    "import numpy as np"
   ]
  },
  {
   "cell_type": "code",
   "execution_count": 18,
   "id": "9e671141-1184-47b9-a664-4e323e1d33f6",
   "metadata": {},
   "outputs": [
    {
     "ename": "TypeError",
     "evalue": "dispatcher for __array_function__ did not return an iterable",
     "output_type": "error",
     "traceback": [
      "\u001b[0;31m---------------------------------------------------------------------------\u001b[0m",
      "\u001b[0;31mTypeError\u001b[0m                                 Traceback (most recent call last)",
      "Cell \u001b[0;32mIn[18], line 1\u001b[0m\n\u001b[0;32m----> 1\u001b[0m test_mask \u001b[38;5;241m=\u001b[39m \u001b[43mnp\u001b[49m\u001b[38;5;241;43m.\u001b[39;49m\u001b[43mconcatenate\u001b[49m\u001b[43m(\u001b[49m\u001b[43mtest_mask\u001b[49m\u001b[43m)\u001b[49m\n",
      "File \u001b[0;32m<__array_function__ internals>:200\u001b[0m, in \u001b[0;36mconcatenate\u001b[0;34m(*args, **kwargs)\u001b[0m\n",
      "\u001b[0;31mTypeError\u001b[0m: dispatcher for __array_function__ did not return an iterable"
     ]
    }
   ],
   "source": [
    "test_mask = np.concatenate(test_mask)"
   ]
  },
  {
   "cell_type": "code",
   "execution_count": 22,
   "id": "62118768-2250-4614-8ce2-1e44e6c9642d",
   "metadata": {},
   "outputs": [
    {
     "data": {
      "text/plain": [
       "<Image layer 'frame_test' at 0x7fec1c5cb5e0>"
      ]
     },
     "execution_count": 22,
     "metadata": {},
     "output_type": "execute_result"
    }
   ],
   "source": [
    "viewer.add_image(frame_test)"
   ]
  },
  {
   "cell_type": "code",
   "execution_count": 20,
   "id": "ce672ccf-5289-4614-8551-5e562607be8e",
   "metadata": {},
   "outputs": [
    {
     "data": {
      "text/plain": [
       "<Labels layer 'nuclear_segmentation' at 0x7fa11bf123b0>"
      ]
     },
     "execution_count": 20,
     "metadata": {},
     "output_type": "execute_result"
    }
   ],
   "source": [
    "viewer.add_labels(nuclear_segmentation)"
   ]
  },
  {
   "cell_type": "code",
   "execution_count": 24,
   "id": "07d9f7a0-9575-42a7-a5c6-1dc1bbc65644",
   "metadata": {},
   "outputs": [],
   "source": [
    "from nuclear_analysis.segmentation import ellipsoid"
   ]
  },
  {
   "cell_type": "code",
   "execution_count": 31,
   "id": "b1578326-ae37-43e0-8963-580e6ff9df0b",
   "metadata": {},
   "outputs": [],
   "source": [
    "from skimage.filters import difference_of_gaussians\n",
    "import numpy as np"
   ]
  },
  {
   "cell_type": "code",
   "execution_count": 41,
   "id": "75c7ec45-d138-4c71-8f74-d83ce06d4978",
   "metadata": {},
   "outputs": [],
   "source": [
    "low_sigma = np.array([1.17057978, 10.33376631, 10.33376504])\n",
    "high_sigma = np.array([10.8528989 , 15.66883155, 15.6688252 ])"
   ]
  },
  {
   "cell_type": "code",
   "execution_count": 42,
   "id": "88d1829b-7788-4794-9fef-9d0735d19e9b",
   "metadata": {},
   "outputs": [],
   "source": [
    "dog_test = difference_of_gaussians(frame_test, low_sigma=low_sigma, high_sigma=high_sigma)"
   ]
  },
  {
   "cell_type": "code",
   "execution_count": 43,
   "id": "eafa9b3f-359b-4ae7-821b-fd8ddc95333e",
   "metadata": {},
   "outputs": [
    {
     "data": {
      "text/plain": [
       "<Image layer 'dog_test' at 0x7fec8e44a6e0>"
      ]
     },
     "execution_count": 43,
     "metadata": {},
     "output_type": "execute_result"
    }
   ],
   "source": [
    "viewer.add_image(dog_test)"
   ]
  },
  {
   "cell_type": "code",
   "execution_count": 44,
   "id": "ad21da75-0bf0-40c6-aac0-7c9d8971b244",
   "metadata": {},
   "outputs": [],
   "source": [
    "import matplotlib.pyplot as plt"
   ]
  },
  {
   "cell_type": "code",
   "execution_count": 51,
   "id": "63cba0ca-c623-4bd8-aa70-a1ff765d1697",
   "metadata": {},
   "outputs": [
    {
     "data": {
      "text/plain": [
       "(array([1.068612e+06, 0.000000e+00, 9.781400e+05, 0.000000e+00,\n",
       "        4.765800e+05, 0.000000e+00, 1.658520e+05, 0.000000e+00,\n",
       "        4.731100e+04, 0.000000e+00, 0.000000e+00, 1.184000e+04,\n",
       "        0.000000e+00, 2.890000e+03, 0.000000e+00, 7.100000e+02,\n",
       "        0.000000e+00, 2.130000e+02, 0.000000e+00, 0.000000e+00,\n",
       "        1.140000e+02, 0.000000e+00, 6.800000e+01, 0.000000e+00,\n",
       "        4.200000e+01, 0.000000e+00, 3.200000e+01, 0.000000e+00,\n",
       "        2.900000e+01, 0.000000e+00, 0.000000e+00, 1.100000e+01,\n",
       "        0.000000e+00, 2.000000e+01, 0.000000e+00, 1.000000e+01,\n",
       "        0.000000e+00, 1.300000e+01, 0.000000e+00, 0.000000e+00,\n",
       "        1.000000e+01, 0.000000e+00, 2.000000e+00, 0.000000e+00,\n",
       "        3.000000e+00, 0.000000e+00, 4.000000e+00, 0.000000e+00,\n",
       "        3.000000e+00, 0.000000e+00, 0.000000e+00, 1.000000e+00,\n",
       "        0.000000e+00, 0.000000e+00, 0.000000e+00, 1.000000e+00,\n",
       "        0.000000e+00, 0.000000e+00, 0.000000e+00, 1.000000e+00]),\n",
       " array([ 0.  ,  0.45,  0.9 ,  1.35,  1.8 ,  2.25,  2.7 ,  3.15,  3.6 ,\n",
       "         4.05,  4.5 ,  4.95,  5.4 ,  5.85,  6.3 ,  6.75,  7.2 ,  7.65,\n",
       "         8.1 ,  8.55,  9.  ,  9.45,  9.9 , 10.35, 10.8 , 11.25, 11.7 ,\n",
       "        12.15, 12.6 , 13.05, 13.5 , 13.95, 14.4 , 14.85, 15.3 , 15.75,\n",
       "        16.2 , 16.65, 17.1 , 17.55, 18.  , 18.45, 18.9 , 19.35, 19.8 ,\n",
       "        20.25, 20.7 , 21.15, 21.6 , 22.05, 22.5 , 22.95, 23.4 , 23.85,\n",
       "        24.3 , 24.75, 25.2 , 25.65, 26.1 , 26.55, 27.  ]),\n",
       " <BarContainer object of 60 artists>)"
      ]
     },
     "execution_count": 51,
     "metadata": {},
     "output_type": "execute_result"
    },
    {
     "data": {
      "image/png": "[encoded data removed]",
      "text/plain": [
       "<Figure size 640x480 with 1 Axes>"
      ]
     },
     "metadata": {},
     "output_type": "display_data"
    }
   ],
   "source": [
    "plt.hist(frame_test.flatten(), bins=60)"
   ]
  },
  {
   "cell_type": "code",
   "execution_count": 59,
   "id": "662a4456-5eda-490d-9ea2-1b5b6a6adcac",
   "metadata": {},
   "outputs": [
    {
     "data": {
      "text/plain": [
       "(array([5.00000e+00, 1.30000e+01, 2.10000e+01, 3.30000e+01, 4.90000e+01,\n",
       "        6.40000e+01, 8.20000e+01, 1.06000e+02, 1.17000e+02, 1.64000e+02,\n",
       "        1.80000e+02, 2.10000e+02, 2.61000e+02, 3.11000e+02, 3.58000e+02,\n",
       "        4.39000e+02, 5.26000e+02, 6.88000e+02, 1.11600e+03, 1.32700e+03,\n",
       "        1.53000e+03, 1.86200e+03, 1.59400e+03, 1.45700e+03, 1.48000e+03,\n",
       "        1.62200e+03, 1.92500e+03, 2.30800e+03, 3.47500e+03, 7.45000e+03,\n",
       "        1.89410e+04, 4.08570e+04, 6.50630e+04, 8.57320e+04, 1.00173e+05,\n",
       "        1.05078e+05, 1.05872e+05, 1.05914e+05, 1.04961e+05, 1.04884e+05,\n",
       "        1.04332e+05, 1.02627e+05, 1.00856e+05, 9.89930e+04, 9.79360e+04,\n",
       "        9.65090e+04, 9.50500e+04, 9.09530e+04, 9.05590e+04, 8.80150e+04,\n",
       "        8.53600e+04, 8.28960e+04, 7.67920e+04, 7.08450e+04, 6.52300e+04,\n",
       "        5.75310e+04, 5.20230e+04, 4.64750e+04, 4.24070e+04, 3.91360e+04,\n",
       "        3.48890e+04, 3.02030e+04, 2.70140e+04, 2.50990e+04, 2.30080e+04,\n",
       "        1.99880e+04, 1.81730e+04, 1.49860e+04, 1.37660e+04, 1.15670e+04,\n",
       "        1.05710e+04, 9.35400e+03, 8.13900e+03, 7.46200e+03, 6.21200e+03,\n",
       "        5.65100e+03, 4.78900e+03, 4.15200e+03, 3.65400e+03, 2.85500e+03,\n",
       "        2.21300e+03, 2.06200e+03, 1.84500e+03, 1.64100e+03, 1.49800e+03,\n",
       "        1.31300e+03, 1.17700e+03, 9.69000e+02, 8.88000e+02, 8.48000e+02,\n",
       "        6.49000e+02, 6.07000e+02, 5.66000e+02, 4.55000e+02, 3.74000e+02,\n",
       "        3.45000e+02, 2.87000e+02, 1.67000e+02, 1.62000e+02, 1.41000e+02]),\n",
       " array([7.48662421e-06, 7.68000577e-06, 7.87338732e-06, 8.06676888e-06,\n",
       "        8.26015044e-06, 8.45353200e-06, 8.64691356e-06, 8.84029512e-06,\n",
       "        9.03367668e-06, 9.22705823e-06, 9.42043979e-06, 9.61382135e-06,\n",
       "        9.80720291e-06, 1.00005845e-05, 1.01939660e-05, 1.03873476e-05,\n",
       "        1.05807291e-05, 1.07741107e-05, 1.09674923e-05, 1.11608738e-05,\n",
       "        1.13542554e-05, 1.15476369e-05, 1.17410185e-05, 1.19344001e-05,\n",
       "        1.21277816e-05, 1.23211632e-05, 1.25145447e-05, 1.27079263e-05,\n",
       "        1.29013078e-05, 1.30946894e-05, 1.32880710e-05, 1.34814525e-05,\n",
       "        1.36748341e-05, 1.38682156e-05, 1.40615972e-05, 1.42549788e-05,\n",
       "        1.44483603e-05, 1.46417419e-05, 1.48351234e-05, 1.50285050e-05,\n",
       "        1.52218866e-05, 1.54152681e-05, 1.56086497e-05, 1.58020312e-05,\n",
       "        1.59954128e-05, 1.61887943e-05, 1.63821759e-05, 1.65755575e-05,\n",
       "        1.67689390e-05, 1.69623206e-05, 1.71557021e-05, 1.73490837e-05,\n",
       "        1.75424653e-05, 1.77358468e-05, 1.79292284e-05, 1.81226099e-05,\n",
       "        1.83159915e-05, 1.85093731e-05, 1.87027546e-05, 1.88961362e-05,\n",
       "        1.90895177e-05, 1.92828993e-05, 1.94762808e-05, 1.96696624e-05,\n",
       "        1.98630440e-05, 2.00564255e-05, 2.02498071e-05, 2.04431886e-05,\n",
       "        2.06365702e-05, 2.08299518e-05, 2.10233333e-05, 2.12167149e-05,\n",
       "        2.14100964e-05, 2.16034780e-05, 2.17968595e-05, 2.19902411e-05,\n",
       "        2.21836227e-05, 2.23770042e-05, 2.25703858e-05, 2.27637673e-05,\n",
       "        2.29571489e-05, 2.31505305e-05, 2.33439120e-05, 2.35372936e-05,\n",
       "        2.37306751e-05, 2.39240567e-05, 2.41174383e-05, 2.43108198e-05,\n",
       "        2.45042014e-05, 2.46975829e-05, 2.48909645e-05, 2.50843460e-05,\n",
       "        2.52777276e-05, 2.54711092e-05, 2.56644907e-05, 2.58578723e-05,\n",
       "        2.60512538e-05, 2.62446354e-05, 2.64380170e-05, 2.66313985e-05,\n",
       "        2.68247801e-05]),\n",
       " <BarContainer object of 100 artists>)"
      ]
     },
     "execution_count": 59,
     "metadata": {},
     "output_type": "execute_result"
    },
    {
     "data": {
      "image/png": "[encoded data removed]",
      "text/plain": [
       "<Figure size 640x480 with 1 Axes>"
      ]
     },
     "metadata": {},
     "output_type": "display_data"
    }
   ],
   "source": [
    "plt.hist(gaussian_test.flatten(), bins=100, log=False)"
   ]
  },
  {
   "cell_type": "code",
   "execution_count": 92,
   "id": "dfbdf1b1-5b02-463a-a884-4a42822c403f",
   "metadata": {},
   "outputs": [
    {
     "data": {
      "text/plain": [
       "(21, 256, 512)"
      ]
     },
     "execution_count": 92,
     "metadata": {},
     "output_type": "execute_result"
    }
   ],
   "source": [
    "frame_test.shape"
   ]
  },
  {
   "cell_type": "code",
   "execution_count": 4,
   "id": "9b17c25d-1062-4ab4-8ecc-b149b1672f53",
   "metadata": {},
   "outputs": [],
   "source": [
    "frame_test = nuclear_channel[30]"
   ]
  },
  {
   "cell_type": "code",
   "execution_count": 15,
   "id": "bf1f8079-9fd1-423a-abc8-3dc746da4905",
   "metadata": {},
   "outputs": [],
   "source": [
    "frame_test = frame_test[:19]"
   ]
  },
  {
   "cell_type": "code",
   "execution_count": 5,
   "id": "97a556e6-7e99-4071-82c6-a0ef4a62344e",
   "metadata": {},
   "outputs": [],
   "source": [
    "viewer = napari.view_image(frame_test)\n",
    "napari.run()"
   ]
  },
  {
   "cell_type": "code",
   "execution_count": 16,
   "id": "64325311-0962-4af9-88d0-a05fcf7c8942",
   "metadata": {},
   "outputs": [
    {
     "data": {
      "text/plain": [
       "<Image layer 'frame_test [1]' at 0x7fec7ff81570>"
      ]
     },
     "execution_count": 16,
     "metadata": {},
     "output_type": "execute_result"
    }
   ],
   "source": [
    "viewer.add_image(frame_test)"
   ]
  },
  {
   "cell_type": "code",
   "execution_count": 7,
   "id": "fe94487d-38e6-48e6-988b-dbef36911033",
   "metadata": {},
   "outputs": [],
   "source": [
    "from skimage.filters import gaussian"
   ]
  },
  {
   "cell_type": "code",
   "execution_count": 17,
   "id": "3d621c09-0fc6-4dfd-ba50-e048bbe85711",
   "metadata": {},
   "outputs": [],
   "source": [
    "gaussian_test = gaussian(frame_test, sigma=[0.5, 30, 30])"
   ]
  },
  {
   "cell_type": "code",
   "execution_count": 18,
   "id": "a0d9ff62-7aa8-4a0e-b4aa-218656eefacc",
   "metadata": {},
   "outputs": [
    {
     "data": {
      "text/plain": [
       "<Image layer 'gaussian_test' at 0x7fec840c7610>"
      ]
     },
     "execution_count": 18,
     "metadata": {},
     "output_type": "execute_result"
    }
   ],
   "source": [
    "viewer.add_image(gaussian_test)"
   ]
  },
  {
   "cell_type": "code",
   "execution_count": 19,
   "id": "cd96c51c-db39-420d-9031-4987afd0c2f7",
   "metadata": {},
   "outputs": [],
   "source": [
    "from skimage.filters import threshold_otsu, threshold_li"
   ]
  },
  {
   "cell_type": "code",
   "execution_count": 20,
   "id": "3d9c4d3d-13cb-4df1-9a6f-3abb65229d5d",
   "metadata": {},
   "outputs": [],
   "source": [
    "test_threshold = threshold_otsu(gaussian_test)"
   ]
  },
  {
   "cell_type": "code",
   "execution_count": 21,
   "id": "32529634-5810-49f4-a5a8-39f6e714b662",
   "metadata": {},
   "outputs": [
    {
     "data": {
      "text/plain": [
       "1.4286523465721185e-05"
      ]
     },
     "execution_count": 21,
     "metadata": {},
     "output_type": "execute_result"
    }
   ],
   "source": [
    "test_threshold"
   ]
  },
  {
   "cell_type": "code",
   "execution_count": 22,
   "id": "78548af8-28b8-4f34-bf68-8db51b484d24",
   "metadata": {},
   "outputs": [],
   "source": [
    "otsu = gaussian_test > test_threshold"
   ]
  },
  {
   "cell_type": "code",
   "execution_count": 23,
   "id": "b79d4444-5bad-4c7a-a2bf-bb1e1fa4d7fc",
   "metadata": {},
   "outputs": [
    {
     "data": {
      "text/plain": [
       "<Labels layer 'otsu' at 0x7fec236cc640>"
      ]
     },
     "execution_count": 23,
     "metadata": {},
     "output_type": "execute_result"
    }
   ],
   "source": [
    "viewer.add_labels(otsu)"
   ]
  },
  {
   "cell_type": "markdown",
   "id": "3206b908-f80a-4955-91e0-6317182d273a",
   "metadata": {},
   "source": [
    "## Spot segmentation and fitting"
   ]
  },
  {
   "cell_type": "markdown",
   "id": "f442668b-3a60-41f7-8745-b07f4e6ab1cb",
   "metadata": {},
   "source": [
    "It can be shown for an xy-symmetric Gaussian that\n",
    "$$\n",
    "\\int_{\\mathbb{R}^3} A e^{- \\frac{x^2 + y^2}{2 \\sigma_{xy}^2} - \\frac{z^2}{2 \\sigma_z^2}} \\ dx \\ dy \\ dz = 2 \\sqrt{2} A \\pi^{3/2} \\sigma_{xy}^2 \\sigma_z\n",
    "$$\n",
    "where we have used notation consistent with that used in `spot_analysis.fitting`. We can therefore use simple algebraic manipulation of the fit parameters to estimate the spot intensities."
   ]
  },
  {
   "cell_type": "code",
   "execution_count": 22,
   "id": "ed0361f4-b4c9-4edd-917d-d203303aca3d",
   "metadata": {},
   "outputs": [],
   "source": [
    "transcription_channel_metadata = export_frame_metadata[0]\n",
    "transcription_channel = channels_full_dataset[0]"
   ]
  },
  {
   "cell_type": "code",
   "execution_count": null,
   "id": "80e29282-a502-4fa1-ab54-8c9781403013",
   "metadata": {},
   "outputs": [],
   "source": [
    "%%time\n",
    "\n",
    "spot_tracking = pipeline.Spot(\n",
    "    data=transcription_channel,\n",
    "    global_metadata=export_global_metadata[0],\n",
    "    frame_metadata=transcription_channel_metadata,\n",
    "    nuclear_labels=nuclear_labels_futures,\n",
    "    client=client,\n",
    "    keep_bandpass=False,\n",
    ")\n",
    "\n",
    "spot_tracking.extract_spot_traces()"
   ]
  },
  {
   "cell_type": "code",
   "execution_count": null,
   "id": "ba94bd31-4d5e-4cf7-b04d-c722ffccccd9",
   "metadata": {},
   "outputs": [],
   "source": [
    "spot_labels = spot_tracking.reordered_spot_labels"
   ]
  },
  {
   "cell_type": "markdown",
   "id": "66315c5d-ace5-494a-85bf-c67863c437aa",
   "metadata": {},
   "source": [
    "## Compiling traces"
   ]
  },
  {
   "cell_type": "code",
   "execution_count": null,
   "id": "26be1d83-a993-4343-ae96-66757f08f896",
   "metadata": {},
   "outputs": [],
   "source": [
    "from spot_analysis import compile_data"
   ]
  },
  {
   "cell_type": "code",
   "execution_count": null,
   "id": "fea4ef46-ce77-4607-92d2-00ed5b3f4537",
   "metadata": {},
   "outputs": [],
   "source": [
    "spot_dataframe = spot_tracking.spot_dataframe\n",
    "mitosis_dataframe = nuclear_tracking.mitosis_dataframe\n",
    "\n",
    "compiled_dataframe = compile_data.compile_traces(\n",
    "    spot_dataframe,\n",
    "    nuclear_tracking_dataframe=mitosis_dataframe,\n",
    "    compile_columns_nuclear=[\"nuclear_cycle\", \"division_time\"],\n",
    ")"
   ]
  },
  {
   "cell_type": "code",
   "execution_count": null,
   "id": "7412379c-3092-44b1-92a2-fd7e17efd37f",
   "metadata": {},
   "outputs": [],
   "source": [
    "compiled_dataframe"
   ]
  },
  {
   "cell_type": "markdown",
   "id": "e6703c55-c2b0-44a2-b81e-0f72c7df0cfc",
   "metadata": {},
   "source": [
    "## Visualizing traces"
   ]
  },
  {
   "cell_type": "code",
   "execution_count": null,
   "id": "7498c302-937b-4314-bc67-4128ac03f837",
   "metadata": {},
   "outputs": [],
   "source": [
    "from utils import plottable"
   ]
  },
  {
   "cell_type": "code",
   "execution_count": null,
   "id": "a453bec6-4572-40aa-bc92-7b5645dde025",
   "metadata": {},
   "outputs": [],
   "source": [
    "%matplotlib widget\n",
    "# This is taken from https://stackoverflow.com/questions/18390461/scroll-backwards-and-forwards-through-matplotlib-plots\n",
    "import matplotlib.pyplot as plt\n",
    "\n",
    "traces = plottable.generate_trace_plot_list(compiled_dataframe)\n",
    "\n",
    "curr_pos = 0\n",
    "\n",
    "\n",
    "def key_event(e):\n",
    "    global curr_pos\n",
    "\n",
    "    if e.key == \"right\":\n",
    "        curr_pos = curr_pos + 1\n",
    "    elif e.key == \"left\":\n",
    "        curr_pos = curr_pos - 1\n",
    "    else:\n",
    "        return\n",
    "    curr_pos = curr_pos % len(traces)\n",
    "\n",
    "    ax.cla()\n",
    "    ax.plot(traces[curr_pos][0], traces[curr_pos][1], \".\")\n",
    "    ax.set_xlabel(\"time (s)\")\n",
    "    ax.set_ylabel(\"Spot intensity (AU)\")\n",
    "    ax.set_title(f\"Particle {traces[curr_pos][2]}, NC {traces[curr_pos][3]}\")\n",
    "    fig.canvas.draw()\n",
    "\n",
    "\n",
    "fig = plt.figure()\n",
    "fig.canvas.mpl_connect(\"key_press_event\", key_event)\n",
    "\n",
    "ax = fig.add_subplot(111)\n",
    "ax.plot(traces[curr_pos][0], traces[curr_pos][1], \".\")\n",
    "ax.set_xlabel(\"time (s)\")\n",
    "ax.set_ylabel(\"Spot intensity (AU)\")\n",
    "ax.set_title(f\"Particle {traces[curr_pos][2]}, NC {traces[curr_pos][3]}\")\n",
    "\n",
    "plt.show()"
   ]
  },
  {
   "cell_type": "code",
   "execution_count": null,
   "id": "5fa2e94d-e8b0-4801-832f-b4ee4b68ac9e",
   "metadata": {},
   "outputs": [],
   "source": [
    "from tracking import detect_mitosis"
   ]
  },
  {
   "cell_type": "code",
   "execution_count": null,
   "id": "5e430978-5f98-4bf1-9bb1-d11e53ab7615",
   "metadata": {},
   "outputs": [],
   "source": [
    "viewer = napari.view_image(nuclear_channel, name=\"Nuclear Channel\")\n",
    "viewer.add_labels(nuclear_labels)\n",
    "_ = detect_mitosis.tracks_to_napari(\n",
    "    viewer, mitosis_dataframe, name=\"nuclear_tracks\", output=False\n",
    ")\n",
    "viewer.add_image(transcription_channel, name=\"Transcription Channel\")\n",
    "viewer.add_labels(spot_labels)\n",
    "napari.run()"
   ]
  },
  {
   "cell_type": "code",
   "execution_count": null,
   "id": "ec99c0f3-b650-406e-a3ee-df0238047d7a",
   "metadata": {},
   "outputs": [],
   "source": [
    "from skimage.filters import gaussian, threshold_otsu, threshold_li\n",
    "from skimage.measure import label, regionprops\n",
    "\n",
    "\n",
    "def background_check(frame, sigma_blur, max_span, min_volume, threshold_method):\n",
    "    # Blur the input frame, preferably with an asymmetric kernel small in z and much\n",
    "    # larger than the nuclei in xy\n",
    "    gaussian_blur = gaussian(frame, sigma=sigma_blur)\n",
    "\n",
    "    # Threshold to find background\n",
    "    threshold = threshold_otsu(gaussian_blur)\n",
    "\n",
    "    if threshold_method == \"li\":\n",
    "        threshold = threshold_li(gaussian_blue, initial_guess=threshold)\n",
    "    elif threshold_method == \"otsu\":\n",
    "        pass\n",
    "    else:\n",
    "        raise ValueError(\"`threshold_method` parameter not recognized.\")\n",
    "\n",
    "    binarized_background = gaussian_blur > threshold\n",
    "\n",
    "    \n",
    "\n",
    "\n",
    "\n",
    "def _construct_mask_from_background(background_labels, max_span, min_volume):\n",
    "    # Measure background\n",
    "    labelled_background = label(binarized_background)"
   ]
  }
 ],
 "metadata": {
  "kernelspec": {
   "display_name": "Python 3 (ipykernel)",
   "language": "python",
   "name": "python3"
  },
  "language_info": {
   "codemirror_mode": {
    "name": "ipython",
    "version": 3
   },
   "file_extension": ".py",
   "mimetype": "text/x-python",
   "name": "python",
   "nbconvert_exporter": "python",
   "pygments_lexer": "ipython3",
   "version": "3.10.11"
  }
 },
 "nbformat": 4,
 "nbformat_minor": 5
}
